{
  "nbformat": 4,
  "nbformat_minor": 0,
  "metadata": {
    "colab": {
      "provenance": []
    },
    "kernelspec": {
      "name": "python3",
      "display_name": "Python 3"
    },
    "language_info": {
      "name": "python"
    }
  },
  "cells": [
    {
      "cell_type": "code",
      "execution_count": 1,
      "metadata": {
        "colab": {
          "base_uri": "https://localhost:8080/",
          "height": 221
        },
        "id": "qPi3ub-ubs1j",
        "outputId": "41795ca7-88e2-4fe6-e06f-0cad7ceba991"
      },
      "outputs": [
        {
          "output_type": "execute_result",
          "data": {
            "text/plain": [
              "<pyspark.sql.session.SparkSession at 0x7990bc519fd0>"
            ],
            "text/html": [
              "\n",
              "            <div>\n",
              "                <p><b>SparkSession - in-memory</b></p>\n",
              "                \n",
              "        <div>\n",
              "            <p><b>SparkContext</b></p>\n",
              "\n",
              "            <p><a href=\"http://e646f64c8d9c:4040\">Spark UI</a></p>\n",
              "\n",
              "            <dl>\n",
              "              <dt>Version</dt>\n",
              "                <dd><code>v3.5.1</code></dd>\n",
              "              <dt>Master</dt>\n",
              "                <dd><code>local[*]</code></dd>\n",
              "              <dt>AppName</dt>\n",
              "                <dd><code>June13Assignment1</code></dd>\n",
              "            </dl>\n",
              "        </div>\n",
              "        \n",
              "            </div>\n",
              "        "
            ]
          },
          "metadata": {},
          "execution_count": 1
        }
      ],
      "source": [
        "from pyspark.sql import SparkSession\n",
        "spark=SparkSession.builder.appName('June13Assignment1').getOrCreate()\n",
        "spark"
      ]
    },
    {
      "cell_type": "code",
      "source": [
        "# 1. Ingest the CSV files into two PySpark DataFrames\n",
        "customers_df=spark.read.csv('/content/customers.csv',header=True,inferSchema=True)\n",
        "customers_df.show()\n",
        "orders_df=spark.read.csv('/content/orders.csv',header=True,inferSchema=True)\n",
        "orders_df.show()\n",
        "# 2. Infer schema and print the schema for both\n",
        "customers_df.printSchema()\n",
        "orders_df.printSchema()\n",
        "# 3. Add a column TotalAmount = Quantity * Price to orders\n",
        "orders_df=orders_df.withColumn('TotalAmount',orders_df['Quantity']*orders_df['Price'])\n",
        "orders_df.show()\n",
        "# 4. Join both DataFrames on CustomerID\n",
        "customer_orders_df=customers_df.join(orders_df,on='CustomerID',how='inner')\n",
        "customer_orders_df.show()"
      ],
      "metadata": {
        "colab": {
          "base_uri": "https://localhost:8080/"
        },
        "id": "P2DbQAYaanNS",
        "outputId": "bfe8eac8-39c2-4e5e-e57e-56f08ac3f58d"
      },
      "execution_count": 2,
      "outputs": [
        {
          "output_type": "stream",
          "name": "stdout",
          "text": [
            "+----------+-----+---------+---+\n",
            "|CustomerID| Name|     City|Age|\n",
            "+----------+-----+---------+---+\n",
            "|       101|Aditi|   Mumbai| 28|\n",
            "|       102|Rohan|    Delhi| 35|\n",
            "|       103|Meena|Bangalore| 41|\n",
            "|       104|Kabir|Hyderabad| 30|\n",
            "|       105| Zoya|  Chennai| 25|\n",
            "+----------+-----+---------+---+\n",
            "\n",
            "+-------+----------+-------+--------+-----+----------+\n",
            "|OrderID|CustomerID|Product|Quantity|Price| OrderDate|\n",
            "+-------+----------+-------+--------+-----+----------+\n",
            "|   1001|       101| Laptop|       1|70000|2024-01-05|\n",
            "|   1002|       102| Mobile|       2|25000|2024-02-10|\n",
            "|   1003|       103|   Desk|       1|10000|2024-03-15|\n",
            "|   1004|       101|  Mouse|       3| 1000|2024-04-01|\n",
            "|   1005|       104|Monitor|       1|12000|2024-04-25|\n",
            "+-------+----------+-------+--------+-----+----------+\n",
            "\n",
            "root\n",
            " |-- CustomerID: integer (nullable = true)\n",
            " |-- Name: string (nullable = true)\n",
            " |-- City: string (nullable = true)\n",
            " |-- Age: integer (nullable = true)\n",
            "\n",
            "root\n",
            " |-- OrderID: integer (nullable = true)\n",
            " |-- CustomerID: integer (nullable = true)\n",
            " |-- Product: string (nullable = true)\n",
            " |-- Quantity: integer (nullable = true)\n",
            " |-- Price: integer (nullable = true)\n",
            " |-- OrderDate: date (nullable = true)\n",
            "\n",
            "+-------+----------+-------+--------+-----+----------+-----------+\n",
            "|OrderID|CustomerID|Product|Quantity|Price| OrderDate|TotalAmount|\n",
            "+-------+----------+-------+--------+-----+----------+-----------+\n",
            "|   1001|       101| Laptop|       1|70000|2024-01-05|      70000|\n",
            "|   1002|       102| Mobile|       2|25000|2024-02-10|      50000|\n",
            "|   1003|       103|   Desk|       1|10000|2024-03-15|      10000|\n",
            "|   1004|       101|  Mouse|       3| 1000|2024-04-01|       3000|\n",
            "|   1005|       104|Monitor|       1|12000|2024-04-25|      12000|\n",
            "+-------+----------+-------+--------+-----+----------+-----------+\n",
            "\n",
            "+----------+-----+---------+---+-------+-------+--------+-----+----------+-----------+\n",
            "|CustomerID| Name|     City|Age|OrderID|Product|Quantity|Price| OrderDate|TotalAmount|\n",
            "+----------+-----+---------+---+-------+-------+--------+-----+----------+-----------+\n",
            "|       101|Aditi|   Mumbai| 28|   1001| Laptop|       1|70000|2024-01-05|      70000|\n",
            "|       102|Rohan|    Delhi| 35|   1002| Mobile|       2|25000|2024-02-10|      50000|\n",
            "|       103|Meena|Bangalore| 41|   1003|   Desk|       1|10000|2024-03-15|      10000|\n",
            "|       101|Aditi|   Mumbai| 28|   1004|  Mouse|       3| 1000|2024-04-01|       3000|\n",
            "|       104|Kabir|Hyderabad| 30|   1005|Monitor|       1|12000|2024-04-25|      12000|\n",
            "+----------+-----+---------+---+-------+-------+--------+-----+----------+-----------+\n",
            "\n"
          ]
        }
      ]
    },
    {
      "cell_type": "code",
      "source": [
        "# 5. Filter orders where TotalAmount > 20000\n",
        "customer_orders_df.filter(customer_orders_df['TotalAmount']>20000).show()\n",
        "# 6. Show customers who placed more than 1 order\n",
        "from pyspark.sql.functions import col\n",
        "customer_orders_df.groupBy('CustomerID').count().withColumnRenamed('count', 'order_count').filter(col('order_count') > 1).show()\n",
        "# 7. Group orders by City and get average order value\n",
        "customer_orders_df.groupBy('City').avg('TotalAmount').show()\n",
        "# 8. Sort orders by OrderDate in descending order\n",
        "customer_orders_df.orderBy(customer_orders_df['OrderDate'].desc()).show()\n",
        "# 9. Write the final result as a Parquet file partitioned by City\n",
        "customer_orders_df.write.mode('overwrite').partitionBy('City').parquet('/content/customer_orders.parquet')\n",
        "# 10. Create a temporary view and run Spark SQL:\n",
        "customer_orders_df.createOrReplaceTempView('customer_orders')\n",
        "# Total sales by customer\n",
        "spark.sql('select CustomerID,sum(TotalAmount) as TotalSales from customer_orders group by CustomerID').show()\n",
        "# Count of products per city\n",
        "spark.sql('select City, count(Product) as ProductCount from customer_orders group by City').show()\n",
        "# Top 2 cities by revenue\n",
        "spark.sql('select City,sum(TotalAmount) as TotalRevenue from customer_orders group by City order by TotalRevenue desc limit 2').show()"
      ],
      "metadata": {
        "colab": {
          "base_uri": "https://localhost:8080/"
        },
        "id": "9I1rMEpLbIm4",
        "outputId": "1a39c4b3-f450-42e0-af74-bd6b263a6cc8"
      },
      "execution_count": 6,
      "outputs": [
        {
          "output_type": "stream",
          "name": "stdout",
          "text": [
            "+----------+-----+------+---+-------+-------+--------+-----+----------+-----------+\n",
            "|CustomerID| Name|  City|Age|OrderID|Product|Quantity|Price| OrderDate|TotalAmount|\n",
            "+----------+-----+------+---+-------+-------+--------+-----+----------+-----------+\n",
            "|       101|Aditi|Mumbai| 28|   1001| Laptop|       1|70000|2024-01-05|      70000|\n",
            "|       102|Rohan| Delhi| 35|   1002| Mobile|       2|25000|2024-02-10|      50000|\n",
            "+----------+-----+------+---+-------+-------+--------+-----+----------+-----------+\n",
            "\n",
            "+----------+-----------+\n",
            "|CustomerID|order_count|\n",
            "+----------+-----------+\n",
            "|       101|          2|\n",
            "+----------+-----------+\n",
            "\n",
            "+---------+----------------+\n",
            "|     City|avg(TotalAmount)|\n",
            "+---------+----------------+\n",
            "|Bangalore|         10000.0|\n",
            "|   Mumbai|         36500.0|\n",
            "|    Delhi|         50000.0|\n",
            "|Hyderabad|         12000.0|\n",
            "+---------+----------------+\n",
            "\n",
            "+----------+-----+---------+---+-------+-------+--------+-----+----------+-----------+\n",
            "|CustomerID| Name|     City|Age|OrderID|Product|Quantity|Price| OrderDate|TotalAmount|\n",
            "+----------+-----+---------+---+-------+-------+--------+-----+----------+-----------+\n",
            "|       104|Kabir|Hyderabad| 30|   1005|Monitor|       1|12000|2024-04-25|      12000|\n",
            "|       101|Aditi|   Mumbai| 28|   1004|  Mouse|       3| 1000|2024-04-01|       3000|\n",
            "|       103|Meena|Bangalore| 41|   1003|   Desk|       1|10000|2024-03-15|      10000|\n",
            "|       102|Rohan|    Delhi| 35|   1002| Mobile|       2|25000|2024-02-10|      50000|\n",
            "|       101|Aditi|   Mumbai| 28|   1001| Laptop|       1|70000|2024-01-05|      70000|\n",
            "+----------+-----+---------+---+-------+-------+--------+-----+----------+-----------+\n",
            "\n",
            "+----------+----------+\n",
            "|CustomerID|TotalSales|\n",
            "+----------+----------+\n",
            "|       101|     73000|\n",
            "|       103|     10000|\n",
            "|       102|     50000|\n",
            "|       104|     12000|\n",
            "+----------+----------+\n",
            "\n",
            "+---------+------------+\n",
            "|     City|ProductCount|\n",
            "+---------+------------+\n",
            "|Bangalore|           1|\n",
            "|   Mumbai|           2|\n",
            "|    Delhi|           1|\n",
            "|Hyderabad|           1|\n",
            "+---------+------------+\n",
            "\n",
            "+------+------------+\n",
            "|  City|TotalRevenue|\n",
            "+------+------------+\n",
            "|Mumbai|       73000|\n",
            "| Delhi|       50000|\n",
            "+------+------------+\n",
            "\n"
          ]
        }
      ]
    }
  ]
}