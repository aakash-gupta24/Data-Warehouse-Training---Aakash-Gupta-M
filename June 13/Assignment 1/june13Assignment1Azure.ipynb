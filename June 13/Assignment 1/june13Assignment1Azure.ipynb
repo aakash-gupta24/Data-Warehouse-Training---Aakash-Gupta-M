{
 "cells": [
  {
   "cell_type": "code",
   "execution_count": 0,
   "metadata": {
    "application/vnd.databricks.v1+cell": {
     "cellMetadata": {
      "byteLimit": 2048000,
      "rowLimit": 10000
     },
     "inputWidgets": {},
     "nuid": "a5a5082c-76b5-48aa-89c4-694962d61314",
     "showTitle": false,
     "tableResultSettingsMap": {},
     "title": ""
    }
   },
   "outputs": [
    {
     "output_type": "execute_result",
     "data": {
      "text/html": [
       "\n",
       "            <div>\n",
       "                <p><b>SparkSession - hive</b></p>\n",
       "                \n",
       "        <div>\n",
       "            <p><b>SparkContext</b></p>\n",
       "\n",
       "            <p><a href=\"/?o=833800893595081#setting/sparkui/0611-043338-tjd8m6e5/driver-228504320588650313\">Spark UI</a></p>\n",
       "\n",
       "            <dl>\n",
       "              <dt>Version</dt>\n",
       "                <dd><code>v3.5.0</code></dd>\n",
       "              <dt>Master</dt>\n",
       "                <dd><code>local[*, 4]</code></dd>\n",
       "              <dt>AppName</dt>\n",
       "                <dd><code>Databricks Shell</code></dd>\n",
       "            </dl>\n",
       "        </div>\n",
       "        \n",
       "            </div>\n",
       "        "
      ],
      "text/plain": [
       "<pyspark.sql.session.SparkSession at 0x72b768589410>"
      ]
     },
     "execution_count": 1,
     "metadata": {},
     "output_type": "execute_result"
    }
   ],
   "source": [
    "from pyspark.sql import SparkSession\n",
    "spark=SparkSession.builder.appName('June13Assignment1').getOrCreate()\n",
    "spark"
   ]
  },
  {
   "cell_type": "code",
   "execution_count": 0,
   "metadata": {
    "application/vnd.databricks.v1+cell": {
     "cellMetadata": {
      "byteLimit": 2048000,
      "rowLimit": 10000
     },
     "inputWidgets": {},
     "nuid": "eaed33cb-e0bd-49a7-a830-cb5db6ecfb8d",
     "showTitle": false,
     "tableResultSettingsMap": {},
     "title": ""
    }
   },
   "outputs": [
    {
     "output_type": "stream",
     "name": "stdout",
     "output_type": "stream",
     "text": [
      "+----------+-----+---------+---+\n|CustomerID| Name|     City|Age|\n+----------+-----+---------+---+\n|       101|Aditi|   Mumbai| 28|\n|       102|Rohan|    Delhi| 35|\n|       103|Meena|Bangalore| 41|\n|       104|Kabir|Hyderabad| 30|\n|       105| Zoya|  Chennai| 25|\n+----------+-----+---------+---+\n\n+-------+----------+-------+--------+-----+----------+\n|OrderID|CustomerID|Product|Quantity|Price| OrderDate|\n+-------+----------+-------+--------+-----+----------+\n|   1001|       101| Laptop|       1|70000|2024-01-05|\n|   1002|       102| Mobile|       2|25000|2024-02-10|\n|   1003|       103|   Desk|       1|10000|2024-03-15|\n|   1004|       101|  Mouse|       3| 1000|2024-04-01|\n|   1005|       104|Monitor|       1|12000|2024-04-25|\n+-------+----------+-------+--------+-----+----------+\n\nroot\n |-- CustomerID: integer (nullable = true)\n |-- Name: string (nullable = true)\n |-- City: string (nullable = true)\n |-- Age: integer (nullable = true)\n\nroot\n |-- OrderID: integer (nullable = true)\n |-- CustomerID: integer (nullable = true)\n |-- Product: string (nullable = true)\n |-- Quantity: integer (nullable = true)\n |-- Price: integer (nullable = true)\n |-- OrderDate: date (nullable = true)\n\n+-------+----------+-------+--------+-----+----------+-----------+\n|OrderID|CustomerID|Product|Quantity|Price| OrderDate|TotalAmount|\n+-------+----------+-------+--------+-----+----------+-----------+\n|   1001|       101| Laptop|       1|70000|2024-01-05|      70000|\n|   1002|       102| Mobile|       2|25000|2024-02-10|      50000|\n|   1003|       103|   Desk|       1|10000|2024-03-15|      10000|\n|   1004|       101|  Mouse|       3| 1000|2024-04-01|       3000|\n|   1005|       104|Monitor|       1|12000|2024-04-25|      12000|\n+-------+----------+-------+--------+-----+----------+-----------+\n\n+----------+-----+---------+---+-------+-------+--------+-----+----------+-----------+\n|CustomerID| Name|     City|Age|OrderID|Product|Quantity|Price| OrderDate|TotalAmount|\n+----------+-----+---------+---+-------+-------+--------+-----+----------+-----------+\n|       101|Aditi|   Mumbai| 28|   1001| Laptop|       1|70000|2024-01-05|      70000|\n|       102|Rohan|    Delhi| 35|   1002| Mobile|       2|25000|2024-02-10|      50000|\n|       103|Meena|Bangalore| 41|   1003|   Desk|       1|10000|2024-03-15|      10000|\n|       101|Aditi|   Mumbai| 28|   1004|  Mouse|       3| 1000|2024-04-01|       3000|\n|       104|Kabir|Hyderabad| 30|   1005|Monitor|       1|12000|2024-04-25|      12000|\n+----------+-----+---------+---+-------+-------+--------+-----+----------+-----------+\n\n"
     ]
    }
   ],
   "source": [
    "# 1. Ingest the CSV files into two PySpark DataFrames\n",
    "spark.conf.set(\n",
    "\n",
    "  \"fs.azure.account.key.hestore.blob.core.windows.net\",\n",
    "\n",
    "  \"------Access-------keyyyy------\"\n",
    "\n",
    ")\n",
    " \n",
    "customers_df= spark.read.option(\"header\", True).option(\"inferSchema\", True).csv(\n",
    "\n",
    "  \"wasbs://june13assignment1@hestore.blob.core.windows.net/customers.csv\"\n",
    "\n",
    ")\n",
    "\n",
    "orders_df= spark.read.option(\"header\", True).option(\"inferSchema\", True).csv(\n",
    "\n",
    "  \"wasbs://june13assignment1@hestore.blob.core.windows.net/orders.csv\"\n",
    "\n",
    ")\n",
    " \n",
    "customers_df.show()\n",
    "orders_df.show()\n",
    " \n",
    "# 2. Infer schema and print the schema for both\n",
    "customers_df.printSchema()\n",
    "orders_df.printSchema()\n",
    "# 3. Add a column TotalAmount = Quantity * Price to orders\n",
    "orders_df=orders_df.withColumn('TotalAmount',orders_df['Quantity']*orders_df['Price'])\n",
    "orders_df.show()\n",
    "# 4. Join both DataFrames on CustomerID\n",
    "customer_orders_df=customers_df.join(orders_df,on='CustomerID',how='inner')\n",
    "customer_orders_df.show()"
   ]
  },
  {
   "cell_type": "code",
   "execution_count": 0,
   "metadata": {
    "application/vnd.databricks.v1+cell": {
     "cellMetadata": {
      "byteLimit": 2048000,
      "rowLimit": 10000
     },
     "inputWidgets": {},
     "nuid": "5642d084-3fda-4d2f-9578-542d8c67ae42",
     "showTitle": false,
     "tableResultSettingsMap": {},
     "title": ""
    }
   },
   "outputs": [
    {
     "output_type": "stream",
     "name": "stdout",
     "output_type": "stream",
     "text": [
      "+----------+-----+------+---+-------+-------+--------+-----+----------+-----------+\n|CustomerID| Name|  City|Age|OrderID|Product|Quantity|Price| OrderDate|TotalAmount|\n+----------+-----+------+---+-------+-------+--------+-----+----------+-----------+\n|       101|Aditi|Mumbai| 28|   1001| Laptop|       1|70000|2024-01-05|      70000|\n|       102|Rohan| Delhi| 35|   1002| Mobile|       2|25000|2024-02-10|      50000|\n+----------+-----+------+---+-------+-------+--------+-----+----------+-----------+\n\n+----------+-----------+\n|CustomerID|order_count|\n+----------+-----------+\n|       101|          2|\n+----------+-----------+\n\n+---------+----------------+\n|     City|avg(TotalAmount)|\n+---------+----------------+\n|Bangalore|         10000.0|\n|   Mumbai|         36500.0|\n|    Delhi|         50000.0|\n|Hyderabad|         12000.0|\n+---------+----------------+\n\n+----------+-----+---------+---+-------+-------+--------+-----+----------+-----------+\n|CustomerID| Name|     City|Age|OrderID|Product|Quantity|Price| OrderDate|TotalAmount|\n+----------+-----+---------+---+-------+-------+--------+-----+----------+-----------+\n|       104|Kabir|Hyderabad| 30|   1005|Monitor|       1|12000|2024-04-25|      12000|\n|       101|Aditi|   Mumbai| 28|   1004|  Mouse|       3| 1000|2024-04-01|       3000|\n|       103|Meena|Bangalore| 41|   1003|   Desk|       1|10000|2024-03-15|      10000|\n|       102|Rohan|    Delhi| 35|   1002| Mobile|       2|25000|2024-02-10|      50000|\n|       101|Aditi|   Mumbai| 28|   1001| Laptop|       1|70000|2024-01-05|      70000|\n+----------+-----+---------+---+-------+-------+--------+-----+----------+-----------+\n\n+----------+----------+\n|CustomerID|TotalSales|\n+----------+----------+\n|       101|     73000|\n|       103|     10000|\n|       102|     50000|\n|       104|     12000|\n+----------+----------+\n\n+---------+------------+\n|     City|ProductCount|\n+---------+------------+\n|Bangalore|           1|\n|   Mumbai|           2|\n|    Delhi|           1|\n|Hyderabad|           1|\n+---------+------------+\n\n+------+------------+\n|  City|TotalRevenue|\n+------+------------+\n|Mumbai|       73000|\n| Delhi|       50000|\n+------+------------+\n\n"
     ]
    }
   ],
   "source": [
    "# 5. Filter orders where TotalAmount > 20000\n",
    "customer_orders_df.filter(customer_orders_df['TotalAmount']>20000).show()\n",
    "# 6. Show customers who placed more than 1 order\n",
    "from pyspark.sql.functions import col\n",
    "customer_orders_df.groupBy('CustomerID').count().withColumnRenamed('count', 'order_count').filter(col('order_count') > 1).show()\n",
    "# 7. Group orders by City and get average order value\n",
    "customer_orders_df.groupBy('City').avg('TotalAmount').show()\n",
    "# 8. Sort orders by OrderDate in descending order\n",
    "customer_orders_df.orderBy(customer_orders_df['OrderDate'].desc()).show()\n",
    "# 9. Write the final result as a Parquet file partitioned by City\n",
    "customer_orders_df.write.partitionBy('City').parquet('/wasbs://june13assignment1@hestore.blob.core.windows.net/output/')\n",
    "# 10. Create a temporary view and run Spark SQL:\n",
    "customer_orders_df.createOrReplaceTempView('customer_orders')\n",
    "# Total sales by customer\n",
    "spark.sql('select CustomerID,sum(TotalAmount) as TotalSales from customer_orders group by CustomerID').show()\n",
    "# Count of products per city\n",
    "spark.sql('select City, count(Product) as ProductCount from customer_orders group by City').show()\n",
    "# Top 2 cities by revenue\n",
    "spark.sql('select City,sum(TotalAmount) as TotalRevenue from customer_orders group by City order by TotalRevenue desc limit 2').show()"
   ]
  }
 ],
 "metadata": {
  "application/vnd.databricks.v1+notebook": {
   "computePreferences": null,
   "dashboards": [],
   "environmentMetadata": {
    "base_environment": "",
    "environment_version": "2"
   },
   "inputWidgetPreferences": null,
   "language": "python",
   "notebookMetadata": {
    "pythonIndentUnit": 4
   },
   "notebookName": "june13Assignment1Azure",
   "widgets": {}
  },
  "language_info": {
   "name": "python"
  }
 },
 "nbformat": 4,
 "nbformat_minor": 0
}