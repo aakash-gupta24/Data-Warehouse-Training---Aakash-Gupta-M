{
  "nbformat": 4,
  "nbformat_minor": 0,
  "metadata": {
    "colab": {
      "provenance": []
    },
    "kernelspec": {
      "name": "python3",
      "display_name": "Python 3"
    },
    "language_info": {
      "name": "python"
    }
  },
  "cells": [
    {
      "cell_type": "code",
      "execution_count": 9,
      "metadata": {
        "colab": {
          "base_uri": "https://localhost:8080/",
          "height": 221
        },
        "id": "pRxGa7XlUe7k",
        "outputId": "13d6b835-62eb-4334-c1ab-04eb6097e4a7"
      },
      "outputs": [
        {
          "output_type": "execute_result",
          "data": {
            "text/plain": [
              "<pyspark.sql.session.SparkSession at 0x799859f10c10>"
            ],
            "text/html": [
              "\n",
              "            <div>\n",
              "                <p><b>SparkSession - in-memory</b></p>\n",
              "                \n",
              "        <div>\n",
              "            <p><b>SparkContext</b></p>\n",
              "\n",
              "            <p><a href=\"http://c68c512c50e4:4040\">Spark UI</a></p>\n",
              "\n",
              "            <dl>\n",
              "              <dt>Version</dt>\n",
              "                <dd><code>v3.5.1</code></dd>\n",
              "              <dt>Master</dt>\n",
              "                <dd><code>local[*]</code></dd>\n",
              "              <dt>AppName</dt>\n",
              "                <dd><code>azureToColab</code></dd>\n",
              "            </dl>\n",
              "        </div>\n",
              "        \n",
              "            </div>\n",
              "        "
            ]
          },
          "metadata": {},
          "execution_count": 9
        }
      ],
      "source": [
        "from pyspark.sql import SparkSession\n",
        "\n",
        "spark=SparkSession.builder.appName(\"azureToColab\").getOrCreate()\n",
        "\n",
        "spark"
      ]
    },
    {
      "cell_type": "code",
      "source": [
        "data = [\n",
        "(\"Ananya\", \"HR\", 52000),\n",
        "(\"Rahul\", \"Engineering\", 65000),\n",
        "(\"Priya\", \"Engineering\", 60000),\n",
        "(\"Zoya\", \"Marketing\", 48000),\n",
        "(\"Karan\", \"HR\", 53000),\n",
        "(\"Naveen\", \"Engineering\", 70000),\n",
        "(\"Fatima\", \"Marketing\", 45000)\n",
        "]\n",
        "columns = [\"Name\", \"Department\", \"Salary\"]\n",
        "df = spark.createDataFrame(data, columns)\n",
        "df.show()"
      ],
      "metadata": {
        "colab": {
          "base_uri": "https://localhost:8080/"
        },
        "id": "RSp2LrmvUvfM",
        "outputId": "f77dcd0c-ae01-41f6-84fc-24bc93eebd92"
      },
      "execution_count": 10,
      "outputs": [
        {
          "output_type": "stream",
          "name": "stdout",
          "text": [
            "+------+-----------+------+\n",
            "|  Name| Department|Salary|\n",
            "+------+-----------+------+\n",
            "|Ananya|         HR| 52000|\n",
            "| Rahul|Engineering| 65000|\n",
            "| Priya|Engineering| 60000|\n",
            "|  Zoya|  Marketing| 48000|\n",
            "| Karan|         HR| 53000|\n",
            "|Naveen|Engineering| 70000|\n",
            "|Fatima|  Marketing| 45000|\n",
            "+------+-----------+------+\n",
            "\n"
          ]
        }
      ]
    },
    {
      "cell_type": "code",
      "source": [
        "#Exercise Set 1: Basics\n",
        "#1. Display all records in the DataFrame.\n",
        "df.show()\n",
        "#2. Print the schema of the DataFrame.\n",
        "df.printSchema()\n",
        "#3. Count total number of employees.\n",
        "df.select(\"Name\").count()"
      ],
      "metadata": {
        "colab": {
          "base_uri": "https://localhost:8080/"
        },
        "id": "5Y3kvbfLVb4_",
        "outputId": "31a14c56-9230-4a04-eb83-f9baee3b2906"
      },
      "execution_count": 11,
      "outputs": [
        {
          "output_type": "stream",
          "name": "stdout",
          "text": [
            "+------+-----------+------+\n",
            "|  Name| Department|Salary|\n",
            "+------+-----------+------+\n",
            "|Ananya|         HR| 52000|\n",
            "| Rahul|Engineering| 65000|\n",
            "| Priya|Engineering| 60000|\n",
            "|  Zoya|  Marketing| 48000|\n",
            "| Karan|         HR| 53000|\n",
            "|Naveen|Engineering| 70000|\n",
            "|Fatima|  Marketing| 45000|\n",
            "+------+-----------+------+\n",
            "\n",
            "root\n",
            " |-- Name: string (nullable = true)\n",
            " |-- Department: string (nullable = true)\n",
            " |-- Salary: long (nullable = true)\n",
            "\n"
          ]
        },
        {
          "output_type": "execute_result",
          "data": {
            "text/plain": [
              "7"
            ]
          },
          "metadata": {},
          "execution_count": 11
        }
      ]
    },
    {
      "cell_type": "code",
      "source": [
        "#Exercise Set 2: Column Operations\n",
        "#4. Add a new column Bonus which is 15% of Salary.\n",
        "df=df.withColumn(\"Bonus\", df[\"Salary\"] * 0.15)\n",
        "df.show()\n",
        "#5. Add a new column NetPay = Salary + Bonus.\n",
        "df=df.withColumn(\"NetPay\", df[\"Salary\"] + df[\"Bonus\"])\n",
        "df.show()"
      ],
      "metadata": {
        "colab": {
          "base_uri": "https://localhost:8080/"
        },
        "id": "KmUV_fGQi6t2",
        "outputId": "b9200c46-60c2-41da-8229-490f46875c7a"
      },
      "execution_count": 12,
      "outputs": [
        {
          "output_type": "stream",
          "name": "stdout",
          "text": [
            "+------+-----------+------+-------+\n",
            "|  Name| Department|Salary|  Bonus|\n",
            "+------+-----------+------+-------+\n",
            "|Ananya|         HR| 52000| 7800.0|\n",
            "| Rahul|Engineering| 65000| 9750.0|\n",
            "| Priya|Engineering| 60000| 9000.0|\n",
            "|  Zoya|  Marketing| 48000| 7200.0|\n",
            "| Karan|         HR| 53000| 7950.0|\n",
            "|Naveen|Engineering| 70000|10500.0|\n",
            "|Fatima|  Marketing| 45000| 6750.0|\n",
            "+------+-----------+------+-------+\n",
            "\n",
            "+------+-----------+------+-------+-------+\n",
            "|  Name| Department|Salary|  Bonus| NetPay|\n",
            "+------+-----------+------+-------+-------+\n",
            "|Ananya|         HR| 52000| 7800.0|59800.0|\n",
            "| Rahul|Engineering| 65000| 9750.0|74750.0|\n",
            "| Priya|Engineering| 60000| 9000.0|69000.0|\n",
            "|  Zoya|  Marketing| 48000| 7200.0|55200.0|\n",
            "| Karan|         HR| 53000| 7950.0|60950.0|\n",
            "|Naveen|Engineering| 70000|10500.0|80500.0|\n",
            "|Fatima|  Marketing| 45000| 6750.0|51750.0|\n",
            "+------+-----------+------+-------+-------+\n",
            "\n"
          ]
        }
      ]
    },
    {
      "cell_type": "code",
      "source": [
        "#Exercise Set 3: Filtering and Conditions\n",
        "#6. Display only employees from the “Engineering” department.\n",
        "df.filter(df[\"Department\"] == \"Engineering\").show()\n",
        "#7. Display employees whose salary is greater than 60000.\n",
        "df.filter(df[\"Salary\"] > 60000).show()\n",
        "#8. Display employees who are not in the “Marketing” department.\n",
        "df.filter(df[\"Department\"] != \"Marketing\").show()"
      ],
      "metadata": {
        "colab": {
          "base_uri": "https://localhost:8080/"
        },
        "id": "qIn1GM20jK7_",
        "outputId": "646ebf5b-3bac-4f61-fa9d-09402282aeb9"
      },
      "execution_count": 13,
      "outputs": [
        {
          "output_type": "stream",
          "name": "stdout",
          "text": [
            "+------+-----------+------+-------+-------+\n",
            "|  Name| Department|Salary|  Bonus| NetPay|\n",
            "+------+-----------+------+-------+-------+\n",
            "| Rahul|Engineering| 65000| 9750.0|74750.0|\n",
            "| Priya|Engineering| 60000| 9000.0|69000.0|\n",
            "|Naveen|Engineering| 70000|10500.0|80500.0|\n",
            "+------+-----------+------+-------+-------+\n",
            "\n",
            "+------+-----------+------+-------+-------+\n",
            "|  Name| Department|Salary|  Bonus| NetPay|\n",
            "+------+-----------+------+-------+-------+\n",
            "| Rahul|Engineering| 65000| 9750.0|74750.0|\n",
            "|Naveen|Engineering| 70000|10500.0|80500.0|\n",
            "+------+-----------+------+-------+-------+\n",
            "\n",
            "+------+-----------+------+-------+-------+\n",
            "|  Name| Department|Salary|  Bonus| NetPay|\n",
            "+------+-----------+------+-------+-------+\n",
            "|Ananya|         HR| 52000| 7800.0|59800.0|\n",
            "| Rahul|Engineering| 65000| 9750.0|74750.0|\n",
            "| Priya|Engineering| 60000| 9000.0|69000.0|\n",
            "| Karan|         HR| 53000| 7950.0|60950.0|\n",
            "|Naveen|Engineering| 70000|10500.0|80500.0|\n",
            "+------+-----------+------+-------+-------+\n",
            "\n"
          ]
        }
      ]
    },
    {
      "cell_type": "code",
      "source": [
        "#Exercise Set 4: Sorting and Limiting\n",
        "#9. Show top 3 highest paid employees.\n",
        "df.orderBy(df[\"Salary\"].desc()).limit(3).show()\n",
        "#10. Sort the data by Department ascending and Salary descending.\n",
        "df.orderBy(df[\"Department\"].asc(), df[\"Salary\"].desc()).show()"
      ],
      "metadata": {
        "colab": {
          "base_uri": "https://localhost:8080/"
        },
        "id": "PWlCJvSAjThY",
        "outputId": "cc1962e5-3876-4745-cec3-4a01e1404e2f"
      },
      "execution_count": 14,
      "outputs": [
        {
          "output_type": "stream",
          "name": "stdout",
          "text": [
            "+------+-----------+------+-------+-------+\n",
            "|  Name| Department|Salary|  Bonus| NetPay|\n",
            "+------+-----------+------+-------+-------+\n",
            "|Naveen|Engineering| 70000|10500.0|80500.0|\n",
            "| Rahul|Engineering| 65000| 9750.0|74750.0|\n",
            "| Priya|Engineering| 60000| 9000.0|69000.0|\n",
            "+------+-----------+------+-------+-------+\n",
            "\n",
            "+------+-----------+------+-------+-------+\n",
            "|  Name| Department|Salary|  Bonus| NetPay|\n",
            "+------+-----------+------+-------+-------+\n",
            "|Naveen|Engineering| 70000|10500.0|80500.0|\n",
            "| Rahul|Engineering| 65000| 9750.0|74750.0|\n",
            "| Priya|Engineering| 60000| 9000.0|69000.0|\n",
            "| Karan|         HR| 53000| 7950.0|60950.0|\n",
            "|Ananya|         HR| 52000| 7800.0|59800.0|\n",
            "|  Zoya|  Marketing| 48000| 7200.0|55200.0|\n",
            "|Fatima|  Marketing| 45000| 6750.0|51750.0|\n",
            "+------+-----------+------+-------+-------+\n",
            "\n"
          ]
        }
      ]
    },
    {
      "cell_type": "code",
      "source": [
        "#Exercise Set 5: String and Case Logic\n",
        "#11. Add a new column Level :\n",
        "#“Senior” if salary > 60000\n",
        "#“Mid” if salary between 50000 and 60000\n",
        "#“Junior” otherwise\n",
        "from pyspark.sql.functions import when\n",
        "df=df.withColumn(\"Level\", when(df[\"Salary\"] > 60000, \"Senior\").when((df[\"Salary\"] >= 50000) & (df[\"Salary\"] <= 60000), \"Mid\").otherwise(\"Junior\"))\n",
        "df.show()\n",
        "#  12. Convert all names to uppercase.\n",
        "from pyspark.sql.functions import upper\n",
        "df=df.withColumn(\"Name\", upper(df[\"Name\"]))\n",
        "df.show()"
      ],
      "metadata": {
        "colab": {
          "base_uri": "https://localhost:8080/"
        },
        "id": "XFuK39fzjdEt",
        "outputId": "43735bb5-01f4-4dfd-d418-5c093b55c9a0"
      },
      "execution_count": 15,
      "outputs": [
        {
          "output_type": "stream",
          "name": "stdout",
          "text": [
            "+------+-----------+------+-------+-------+------+\n",
            "|  Name| Department|Salary|  Bonus| NetPay| Level|\n",
            "+------+-----------+------+-------+-------+------+\n",
            "|Ananya|         HR| 52000| 7800.0|59800.0|   Mid|\n",
            "| Rahul|Engineering| 65000| 9750.0|74750.0|Senior|\n",
            "| Priya|Engineering| 60000| 9000.0|69000.0|   Mid|\n",
            "|  Zoya|  Marketing| 48000| 7200.0|55200.0|Junior|\n",
            "| Karan|         HR| 53000| 7950.0|60950.0|   Mid|\n",
            "|Naveen|Engineering| 70000|10500.0|80500.0|Senior|\n",
            "|Fatima|  Marketing| 45000| 6750.0|51750.0|Junior|\n",
            "+------+-----------+------+-------+-------+------+\n",
            "\n",
            "+------+-----------+------+-------+-------+------+\n",
            "|  Name| Department|Salary|  Bonus| NetPay| Level|\n",
            "+------+-----------+------+-------+-------+------+\n",
            "|ANANYA|         HR| 52000| 7800.0|59800.0|   Mid|\n",
            "| RAHUL|Engineering| 65000| 9750.0|74750.0|Senior|\n",
            "| PRIYA|Engineering| 60000| 9000.0|69000.0|   Mid|\n",
            "|  ZOYA|  Marketing| 48000| 7200.0|55200.0|Junior|\n",
            "| KARAN|         HR| 53000| 7950.0|60950.0|   Mid|\n",
            "|NAVEEN|Engineering| 70000|10500.0|80500.0|Senior|\n",
            "|FATIMA|  Marketing| 45000| 6750.0|51750.0|Junior|\n",
            "+------+-----------+------+-------+-------+------+\n",
            "\n"
          ]
        }
      ]
    }
  ]
}