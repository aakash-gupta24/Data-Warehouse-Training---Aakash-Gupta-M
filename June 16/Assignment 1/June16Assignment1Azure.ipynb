{
 "cells": [
  {
   "cell_type": "code",
   "execution_count": 0,
   "metadata": {
    "application/vnd.databricks.v1+cell": {
     "cellMetadata": {
      "byteLimit": 2048000,
      "rowLimit": 10000
     },
     "inputWidgets": {},
     "nuid": "c577e65f-0877-4c65-a381-7d2bd6af1a6b",
     "showTitle": false,
     "tableResultSettingsMap": {},
     "title": ""
    }
   },
   "outputs": [
    {
     "data": {
      "text/html": [
       "\n",
       "            <div>\n",
       "                <p><b>SparkSession - hive</b></p>\n",
       "                \n",
       "        <div>\n",
       "            <p><b>SparkContext</b></p>\n",
       "\n",
       "            <p><a href=\"/?o=833800893595081#setting/sparkui/0611-043338-tjd8m6e5/driver-7729414477955154261\">Spark UI</a></p>\n",
       "\n",
       "            <dl>\n",
       "              <dt>Version</dt>\n",
       "                <dd><code>v3.5.0</code></dd>\n",
       "              <dt>Master</dt>\n",
       "                <dd><code>local[*, 4]</code></dd>\n",
       "              <dt>AppName</dt>\n",
       "                <dd><code>Databricks Shell</code></dd>\n",
       "            </dl>\n",
       "        </div>\n",
       "        \n",
       "            </div>\n",
       "        "
      ],
      "text/plain": [
       "<pyspark.sql.session.SparkSession at 0x7ee4c936d490>"
      ]
     },
     "execution_count": 25,
     "metadata": {},
     "output_type": "execute_result"
    }
   ],
   "source": [
    "from pyspark.sql import SparkSession\n",
    "spark=SparkSession.builder.appName('June16Assignment1').getOrCreate()\n",
    "spark"
   ]
  },
  {
   "cell_type": "code",
   "execution_count": 0,
   "metadata": {
    "application/vnd.databricks.v1+cell": {
     "cellMetadata": {
      "byteLimit": 2048000,
      "rowLimit": 10000
     },
     "inputWidgets": {},
     "nuid": "71f2af67-ad95-43fc-ba30-45170b20acc4",
     "showTitle": false,
     "tableResultSettingsMap": {},
     "title": ""
    }
   },
   "outputs": [
    {
     "name": "stdout",
     "output_type": "stream",
     "text": [
      "+------------+-----------+--------------------+-----------+----------+---------------+------+---------+\n",
      "|EnrollmentID|StudentName|          CourseName|   Category|EnrollDate|ProgressPercent|Rating|   Status|\n",
      "+------------+-----------+--------------------+-----------+----------+---------------+------+---------+\n",
      "|      ENR001|     Aditya|Python for Beginners|Programming|2024-05-10|             80|   4.5|   Active|\n",
      "|      ENR002|     Simran|Data Analysis wit...|  Analytics|2024-05-12|            100|   4.7|Completed|\n",
      "|      ENR003|     Aakash| Power BI Essentials|  Analytics|2024-05-13|             30|   3.8|   Active|\n",
      "|      ENR004|       Neha|         Java Basics|Programming|2024-05-15|              0|  NULL| Inactive|\n",
      "|      ENR005|       Zara|Machine Learning 101|         AI|2024-05-17|             60|   4.2|   Active|\n",
      "|      ENR006|    Ibrahim|Python for Beginners|Programming|2024-05-18|             90|   4.6|Completed|\n",
      "+------------+-----------+--------------------+-----------+----------+---------------+------+---------+\n",
      "\n",
      "+--------------------+-------------+----------+\n",
      "|          CourseName|DurationWeeks|Instructor|\n",
      "+--------------------+-------------+----------+\n",
      "|Python for Beginners|            4|    Rakesh|\n",
      "|Data Analysis wit...|            3|    Anjali|\n",
      "| Power BI Essentials|            5|     Rekha|\n",
      "|         Java Basics|            6|     Manoj|\n",
      "|Machine Learning 101|            8|     Samir|\n",
      "+--------------------+-------------+----------+\n",
      "\n"
     ]
    }
   ],
   "source": [
    "# Data Loading\n",
    "# 1. Load the data with schema inference enabled.\n",
    "spark.conf.set(\n",
    "\n",
    "  \"fs.azure.account.key.hestore.blob.core.windows.net\",\n",
    "\n",
    "  \"------------------AccessKeyyyyy------------------\"\n",
    "\n",
    ")\n",
    " \n",
    "course_enr_df= spark.read.option(\"header\", True).option(\"inferSchema\", True).csv(\n",
    "\n",
    "  \"wasbs://june16assignment1@hestore.blob.core.windows.net/course_enrollments.csv\"\n",
    "\n",
    ")\n",
    "\n",
    "course_det_df= spark.read.option(\"header\", True).option(\"inferSchema\", True).csv(\n",
    "\n",
    "  \"wasbs://june16assignment1@hestore.blob.core.windows.net/course_details.csv\"\n",
    "\n",
    ")\n",
    " \n",
    "course_enr_df.show()\n",
    "course_det_df.show()\n"
   ]
  },
  {
   "cell_type": "code",
   "execution_count": 0,
   "metadata": {
    "application/vnd.databricks.v1+cell": {
     "cellMetadata": {
      "byteLimit": 2048000,
      "rowLimit": 10000
     },
     "inputWidgets": {},
     "nuid": "00035e32-416e-4015-b7f4-816d4a5f4d93",
     "showTitle": false,
     "tableResultSettingsMap": {},
     "title": ""
    }
   },
   "outputs": [],
   "source": [
    "# Data Loading\n",
    "# 1. Load the data with schema inference enabled.\n",
    "# 2. Manually define schema and compare both approaches."
   ]
  },
  {
   "cell_type": "code",
   "execution_count": 0,
   "metadata": {
    "application/vnd.databricks.v1+cell": {
     "cellMetadata": {
      "byteLimit": 2048000,
      "rowLimit": 10000
     },
     "inputWidgets": {},
     "nuid": "ec118262-8230-4edd-84ac-85ab65b224f3",
     "showTitle": false,
     "tableResultSettingsMap": {},
     "title": ""
    }
   },
   "outputs": [
    {
     "name": "stdout",
     "output_type": "stream",
     "text": [
      "+------------+-----------+-------------------+-----------+----------+---------------+------+--------+\n",
      "|EnrollmentID|StudentName|         CourseName|   Category|EnrollDate|ProgressPercent|Rating|  Status|\n",
      "+------------+-----------+-------------------+-----------+----------+---------------+------+--------+\n",
      "|      ENR003|     Aakash|Power BI Essentials|  Analytics|2024-05-13|             30|   3.8|  Active|\n",
      "|      ENR004|       Neha|        Java Basics|Programming|2024-05-15|              0|  NULL|Inactive|\n",
      "+------------+-----------+-------------------+-----------+----------+---------------+------+--------+\n",
      "\n",
      "+------------+-----------+--------------------+-----------+----------+---------------+-----------------+---------+\n",
      "|EnrollmentID|StudentName|          CourseName|   Category|EnrollDate|ProgressPercent|           Rating|   Status|\n",
      "+------------+-----------+--------------------+-----------+----------+---------------+-----------------+---------+\n",
      "|      ENR001|     Aditya|Python for Beginners|Programming|2024-05-10|             80|              4.5|   Active|\n",
      "|      ENR002|     Simran|Data Analysis wit...|  Analytics|2024-05-12|            100|              4.7|Completed|\n",
      "|      ENR003|     Aakash| Power BI Essentials|  Analytics|2024-05-13|             30|              3.8|   Active|\n",
      "|      ENR004|       Neha|         Java Basics|Programming|2024-05-15|              0|4.359999999999999| Inactive|\n",
      "|      ENR005|       Zara|Machine Learning 101|         AI|2024-05-17|             60|              4.2|   Active|\n",
      "|      ENR006|    Ibrahim|Python for Beginners|Programming|2024-05-18|             90|              4.6|Completed|\n",
      "+------------+-----------+--------------------+-----------+----------+---------------+-----------------+---------+\n",
      "\n",
      "+------------+-----------+--------------------+-----------+----------+---------------+------+---------+--------+\n",
      "|EnrollmentID|StudentName|          CourseName|   Category|EnrollDate|ProgressPercent|Rating|   Status|IsActive|\n",
      "+------------+-----------+--------------------+-----------+----------+---------------+------+---------+--------+\n",
      "|      ENR001|     Aditya|Python for Beginners|Programming|2024-05-10|             80|   4.5|   Active|    true|\n",
      "|      ENR002|     Simran|Data Analysis wit...|  Analytics|2024-05-12|            100|   4.7|Completed|   false|\n",
      "|      ENR003|     Aakash| Power BI Essentials|  Analytics|2024-05-13|             30|   3.8|   Active|    true|\n",
      "|      ENR004|       Neha|         Java Basics|Programming|2024-05-15|              0|  NULL| Inactive|   false|\n",
      "|      ENR005|       Zara|Machine Learning 101|         AI|2024-05-17|             60|   4.2|   Active|    true|\n",
      "|      ENR006|    Ibrahim|Python for Beginners|Programming|2024-05-18|             90|   4.6|Completed|   false|\n",
      "+------------+-----------+--------------------+-----------+----------+---------------+------+---------+--------+\n",
      "\n"
     ]
    }
   ],
   "source": [
    "# Filtering and Transformation\n",
    "# 3. Filter records where ProgressPercent < 50.\n",
    "course_enr_df.filter(course_enr_df.ProgressPercent < 50).show()\n",
    "# 4. Replace null ratings with average rating.\n",
    "from pyspark.sql.functions import avg; rating_mean = course_enr_df.agg(avg('Rating')).collect()[0][0]; course_enr_df.fillna({'Rating': rating_mean}).show()\n",
    "# 5. Add column IsActive → 1 if Status is Active, else 0.\n",
    "course_enr_df.withColumn('IsActive', course_enr_df.Status == 'Active').show()"
   ]
  },
  {
   "cell_type": "code",
   "execution_count": 0,
   "metadata": {
    "application/vnd.databricks.v1+cell": {
     "cellMetadata": {
      "byteLimit": 2048000,
      "rowLimit": 10000
     },
     "inputWidgets": {},
     "nuid": "a1f15a2a-ad59-4c54-a44e-11bb0c701c5e",
     "showTitle": false,
     "tableResultSettingsMap": {},
     "title": ""
    }
   },
   "outputs": [
    {
     "name": "stdout",
     "output_type": "stream",
     "text": [
      "+--------------------+--------------------+\n",
      "|          CourseName|avg(ProgressPercent)|\n",
      "+--------------------+--------------------+\n",
      "|Data Analysis wit...|               100.0|\n",
      "|         Java Basics|                 0.0|\n",
      "|Machine Learning 101|                60.0|\n",
      "|Python for Beginners|                85.0|\n",
      "| Power BI Essentials|                30.0|\n",
      "+--------------------+--------------------+\n",
      "\n",
      "+-----------+------------------+\n",
      "|   Category|count(StudentName)|\n",
      "+-----------+------------------+\n",
      "|Programming|                 3|\n",
      "|         AI|                 1|\n",
      "|  Analytics|                 2|\n",
      "+-----------+------------------+\n",
      "\n",
      "+--------------------+------------------+\n",
      "|          CourseName|count(StudentName)|\n",
      "+--------------------+------------------+\n",
      "|Python for Beginners|                 2|\n",
      "|         Java Basics|                 1|\n",
      "|Data Analysis wit...|                 1|\n",
      "|Machine Learning 101|                 1|\n",
      "| Power BI Essentials|                 1|\n",
      "+--------------------+------------------+\n",
      "\n"
     ]
    }
   ],
   "source": [
    "# Aggregations & Metrics\n",
    "# 6. Find average progress by course.\n",
    "course_enr_df.groupBy('CourseName').agg({'ProgressPercent': 'avg'}).show()\n",
    "# 7. Get count of students in each course category.\n",
    "course_enr_df.groupBy('Category').agg({'StudentName': 'count'}).show()\n",
    "# 8. Identify the most enrolled course.\n",
    "course_enr_df.groupBy('CourseName').agg({'StudentName': 'count'}).orderBy('count(StudentName)', ascending=False).show()"
   ]
  },
  {
   "cell_type": "code",
   "execution_count": 0,
   "metadata": {
    "application/vnd.databricks.v1+cell": {
     "cellMetadata": {
      "byteLimit": 2048000,
      "rowLimit": 10000
     },
     "inputWidgets": {},
     "nuid": "cbfab7a0-0802-4dc2-8fa5-e0aca45d2fc0",
     "showTitle": false,
     "tableResultSettingsMap": {},
     "title": ""
    }
   },
   "outputs": [
    {
     "name": "stdout",
     "output_type": "stream",
     "text": [
      "+------------+-----------+--------------------+-----------+----------+---------------+------+---------+--------------------+-------------+----------+\n",
      "|EnrollmentID|StudentName|          CourseName|   Category|EnrollDate|ProgressPercent|Rating|   Status|          CourseName|DurationWeeks|Instructor|\n",
      "+------------+-----------+--------------------+-----------+----------+---------------+------+---------+--------------------+-------------+----------+\n",
      "|      ENR001|     Aditya|Python for Beginners|Programming|2024-05-10|             80|   4.5|   Active|Python for Beginners|            4|    Rakesh|\n",
      "|      ENR002|     Simran|Data Analysis wit...|  Analytics|2024-05-12|            100|   4.7|Completed|Data Analysis wit...|            3|    Anjali|\n",
      "|      ENR003|     Aakash| Power BI Essentials|  Analytics|2024-05-13|             30|   3.8|   Active| Power BI Essentials|            5|     Rekha|\n",
      "|      ENR004|       Neha|         Java Basics|Programming|2024-05-15|              0|  NULL| Inactive|         Java Basics|            6|     Manoj|\n",
      "|      ENR005|       Zara|Machine Learning 101|         AI|2024-05-17|             60|   4.2|   Active|Machine Learning 101|            8|     Samir|\n",
      "|      ENR006|    Ibrahim|Python for Beginners|Programming|2024-05-18|             90|   4.6|Completed|Python for Beginners|            4|    Rakesh|\n",
      "+------------+-----------+--------------------+-----------+----------+---------------+------+---------+--------------------+-------------+----------+\n",
      "\n"
     ]
    }
   ],
   "source": [
    "# 10. Join course_enrollments with course_details to include duration and instructor.\n",
    "course_enr_df.join(course_det_df, course_enr_df.CourseName == course_det_df.CourseName).show()"
   ]
  },
  {
   "cell_type": "code",
   "execution_count": 0,
   "metadata": {
    "application/vnd.databricks.v1+cell": {
     "cellMetadata": {
      "byteLimit": 2048000,
      "rowLimit": 10000
     },
     "inputWidgets": {},
     "nuid": "4aed0c75-b2c1-4c86-8f1d-7bb4462f5857",
     "showTitle": false,
     "tableResultSettingsMap": {},
     "title": ""
    }
   },
   "outputs": [
    {
     "name": "stdout",
     "output_type": "stream",
     "text": [
      "+------------+-----------+--------------------+-----------+----------+---------------+------+---------+----+\n",
      "|EnrollmentID|StudentName|          CourseName|   Category|EnrollDate|ProgressPercent|Rating|   Status|rank|\n",
      "+------------+-----------+--------------------+-----------+----------+---------------+------+---------+----+\n",
      "|      ENR002|     Simran|Data Analysis wit...|  Analytics|2024-05-12|            100|   4.7|Completed|   1|\n",
      "|      ENR004|       Neha|         Java Basics|Programming|2024-05-15|              0|  NULL| Inactive|   1|\n",
      "|      ENR005|       Zara|Machine Learning 101|         AI|2024-05-17|             60|   4.2|   Active|   1|\n",
      "|      ENR003|     Aakash| Power BI Essentials|  Analytics|2024-05-13|             30|   3.8|   Active|   1|\n",
      "|      ENR001|     Aditya|Python for Beginners|Programming|2024-05-10|             80|   4.5|   Active|   1|\n",
      "|      ENR006|    Ibrahim|Python for Beginners|Programming|2024-05-18|             90|   4.6|Completed|   2|\n",
      "+------------+-----------+--------------------+-----------+----------+---------------+------+---------+----+\n",
      "\n",
      "+------------+-----------+--------------------+-----------+----------+---------------+------+---------+----------+----------+\n",
      "|EnrollmentID|StudentName|          CourseName|   Category|EnrollDate|ProgressPercent|Rating|   Status|      lead|       lag|\n",
      "+------------+-----------+--------------------+-----------+----------+---------------+------+---------+----------+----------+\n",
      "|      ENR002|     Simran|Data Analysis wit...|  Analytics|2024-05-12|            100|   4.7|Completed|      NULL|      NULL|\n",
      "|      ENR004|       Neha|         Java Basics|Programming|2024-05-15|              0|  NULL| Inactive|      NULL|      NULL|\n",
      "|      ENR005|       Zara|Machine Learning 101|         AI|2024-05-17|             60|   4.2|   Active|      NULL|      NULL|\n",
      "|      ENR003|     Aakash| Power BI Essentials|  Analytics|2024-05-13|             30|   3.8|   Active|      NULL|      NULL|\n",
      "|      ENR001|     Aditya|Python for Beginners|Programming|2024-05-10|             80|   4.5|   Active|2024-05-18|      NULL|\n",
      "|      ENR006|    Ibrahim|Python for Beginners|Programming|2024-05-18|             90|   4.6|Completed|      NULL|2024-05-10|\n",
      "+------------+-----------+--------------------+-----------+----------+---------------+------+---------+----------+----------+\n",
      "\n"
     ]
    }
   ],
   "source": [
    "# Window Functions\n",
    "# 11. Rank students in each course based on ProgressPercent.\n",
    "from pyspark.sql.window import Window\n",
    "from pyspark.sql.functions import rank\n",
    "windowSpec = Window.partitionBy('CourseName').orderBy('ProgressPercent')\n",
    "course_enr_df.withColumn('rank', rank().over(windowSpec)).show()\n",
    "# 12. Get lead and lag of EnrollDate by Category.\n",
    "from pyspark.sql.functions import lag, lead\n",
    "course_enr_df.withColumn('lead', lead('EnrollDate', 1).over(windowSpec)).withColumn('lag', lag('EnrollDate', 1).over(windowSpec)).show()"
   ]
  },
  {
   "cell_type": "code",
   "execution_count": 0,
   "metadata": {
    "application/vnd.databricks.v1+cell": {
     "cellMetadata": {
      "byteLimit": 2048000,
      "rowLimit": 10000
     },
     "inputWidgets": {},
     "nuid": "02d8e54e-4272-4ae3-bdc5-bd0f12454ae6",
     "showTitle": false,
     "tableResultSettingsMap": {},
     "title": ""
    }
   },
   "outputs": [
    {
     "name": "stdout",
     "output_type": "stream",
     "text": [
      "+-----------+------+---------+--------+\n",
      "|   Category|Active|Completed|Inactive|\n",
      "+-----------+------+---------+--------+\n",
      "|Programming|     1|        1|       1|\n",
      "|         AI|     1|     NULL|    NULL|\n",
      "|  Analytics|     1|        1|    NULL|\n",
      "+-----------+------+---------+--------+\n",
      "\n",
      "+------------+-----------+--------------------+-----------+----------+---------------+------+---------+----+-----+\n",
      "|EnrollmentID|StudentName|          CourseName|   Category|EnrollDate|ProgressPercent|Rating|   Status|year|month|\n",
      "+------------+-----------+--------------------+-----------+----------+---------------+------+---------+----+-----+\n",
      "|      ENR001|     Aditya|Python for Beginners|Programming|2024-05-10|             80|   4.5|   Active|2024|    5|\n",
      "|      ENR002|     Simran|Data Analysis wit...|  Analytics|2024-05-12|            100|   4.7|Completed|2024|    5|\n",
      "|      ENR003|     Aakash| Power BI Essentials|  Analytics|2024-05-13|             30|   3.8|   Active|2024|    5|\n",
      "|      ENR004|       Neha|         Java Basics|Programming|2024-05-15|              0|  NULL| Inactive|2024|    5|\n",
      "|      ENR005|       Zara|Machine Learning 101|         AI|2024-05-17|             60|   4.2|   Active|2024|    5|\n",
      "|      ENR006|    Ibrahim|Python for Beginners|Programming|2024-05-18|             90|   4.6|Completed|2024|    5|\n",
      "+------------+-----------+--------------------+-----------+----------+---------------+------+---------+----+-----+\n",
      "\n"
     ]
    }
   ],
   "source": [
    "# Pivoting & Formatting\n",
    "# 13. Pivot data to show total enrollments by Category and Status.\n",
    "course_enr_df.groupBy('Category', 'Status').agg({'StudentName': 'count'}).groupBy('Category').pivot('Status').agg({'count(StudentName)': 'sum'}).show()\n",
    "# 14. Extract year and month from EnrollDate.\n",
    "from pyspark.sql.functions import year, month\n",
    "course_enr_df.withColumn('year', year('EnrollDate')).withColumn('month', month('EnrollDate')).show()"
   ]
  },
  {
   "cell_type": "code",
   "execution_count": 0,
   "metadata": {
    "application/vnd.databricks.v1+cell": {
     "cellMetadata": {
      "byteLimit": 2048000,
      "rowLimit": 10000
     },
     "inputWidgets": {},
     "nuid": "1a34c40c-8bd4-4d83-87d4-f57a9000fa7d",
     "showTitle": false,
     "tableResultSettingsMap": {},
     "title": ""
    }
   },
   "outputs": [
    {
     "name": "stdout",
     "output_type": "stream",
     "text": [
      "+------------+-----------+--------------------+-----------+----------+---------------+------+---------+\n",
      "|EnrollmentID|StudentName|          CourseName|   Category|EnrollDate|ProgressPercent|Rating|   Status|\n",
      "+------------+-----------+--------------------+-----------+----------+---------------+------+---------+\n",
      "|      ENR001|     Aditya|Python for Beginners|Programming|2024-05-10|             80|   4.5|   Active|\n",
      "|      ENR002|     Simran|Data Analysis wit...|  Analytics|2024-05-12|            100|   4.7|Completed|\n",
      "|      ENR003|     Aakash| Power BI Essentials|  Analytics|2024-05-13|             30|   3.8|   Active|\n",
      "|      ENR004|       Neha|         Java Basics|Programming|2024-05-15|              0|  NULL| Inactive|\n",
      "|      ENR005|       Zara|Machine Learning 101|         AI|2024-05-17|             60|   4.2|   Active|\n",
      "|      ENR006|    Ibrahim|Python for Beginners|Programming|2024-05-18|             90|   4.6|Completed|\n",
      "+------------+-----------+--------------------+-----------+----------+---------------+------+---------+\n",
      "\n",
      "+------------+-----------+--------------------+-----------+----------+---------------+------+---------+\n",
      "|EnrollmentID|StudentName|          CourseName|   Category|EnrollDate|ProgressPercent|Rating|   Status|\n",
      "+------------+-----------+--------------------+-----------+----------+---------------+------+---------+\n",
      "|      ENR006|    Ibrahim|Python for Beginners|Programming|2024-05-18|             90|   4.6|Completed|\n",
      "|      ENR002|     Simran|Data Analysis wit...|  Analytics|2024-05-12|            100|   4.7|Completed|\n",
      "|      ENR004|       Neha|         Java Basics|Programming|2024-05-15|              0|  NULL| Inactive|\n",
      "|      ENR005|       Zara|Machine Learning 101|         AI|2024-05-17|             60|   4.2|   Active|\n",
      "|      ENR001|     Aditya|Python for Beginners|Programming|2024-05-10|             80|   4.5|   Active|\n",
      "|      ENR003|     Aakash| Power BI Essentials|  Analytics|2024-05-13|             30|   3.8|   Active|\n",
      "+------------+-----------+--------------------+-----------+----------+---------------+------+---------+\n",
      "\n"
     ]
    }
   ],
   "source": [
    "# Cleaning and Deduplication\n",
    "# 15. Drop rows where Status is null or empty.\n",
    "course_enr_df.filter(course_enr_df.Status != '').show()\n",
    "# 16. Remove duplicate enrollments using dropDuplicates().\n",
    "course_enr_df.dropDuplicates().show()"
   ]
  },
  {
   "cell_type": "code",
   "execution_count": 0,
   "metadata": {
    "application/vnd.databricks.v1+cell": {
     "cellMetadata": {
      "byteLimit": 2048000,
      "rowLimit": 10000
     },
     "inputWidgets": {},
     "nuid": "478f0ab7-2560-47e7-8165-70b738f0d950",
     "showTitle": false,
     "tableResultSettingsMap": {},
     "title": ""
    }
   },
   "outputs": [],
   "source": [
    "# Export\n",
    "# 17. Write the final cleaned DataFrame to:\n",
    "# CSV (overwrite mode)\n",
    "# JSON (overwrite mode)\n",
    "# Parquet (snappy compression)\n",
    "course_enr_df.write.mode('overwrite').csv('dbfs:/FileStore/tables/course_enrollments_cleaned.csv')\n",
    "course_enr_df.write.mode('overwrite').json('dbfs:/FileStore/tables/course_enrollments_cleaned.json')\n",
    "course_enr_df.write.mode('overwrite').option('compression', 'snappy').parquet('dbfs:/FileStore/tables/course_enrollments_cleaned.parquet')"
   ]
  }
 ],
 "metadata": {
  "application/vnd.databricks.v1+notebook": {
   "computePreferences": null,
   "dashboards": [],
   "environmentMetadata": {
    "base_environment": "",
    "environment_version": "2"
   },
   "inputWidgetPreferences": null,
   "language": "python",
   "notebookMetadata": {
    "pythonIndentUnit": 4
   },
   "notebookName": "June16Assignment1",
   "widgets": {}
  },
  "language_info": {
   "name": "python"
  }
 },
 "nbformat": 4,
 "nbformat_minor": 0
}
