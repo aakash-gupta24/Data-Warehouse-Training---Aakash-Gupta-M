{
  "nbformat": 4,
  "nbformat_minor": 0,
  "metadata": {
    "colab": {
      "provenance": []
    },
    "kernelspec": {
      "name": "python3",
      "display_name": "Python 3"
    },
    "language_info": {
      "name": "python"
    }
  },
  "cells": [
    {
      "cell_type": "code",
      "execution_count": 21,
      "metadata": {
        "colab": {
          "base_uri": "https://localhost:8080/",
          "height": 221
        },
        "id": "GgWXrD-yMiT6",
        "outputId": "d29c020a-536a-4a61-eeb2-c266bd721257"
      },
      "outputs": [
        {
          "output_type": "execute_result",
          "data": {
            "text/plain": [
              "<pyspark.sql.session.SparkSession at 0x7b55d0d17150>"
            ],
            "text/html": [
              "\n",
              "            <div>\n",
              "                <p><b>SparkSession - in-memory</b></p>\n",
              "                \n",
              "        <div>\n",
              "            <p><b>SparkContext</b></p>\n",
              "\n",
              "            <p><a href=\"http://cb37fe9ede65:4040\">Spark UI</a></p>\n",
              "\n",
              "            <dl>\n",
              "              <dt>Version</dt>\n",
              "                <dd><code>v3.5.1</code></dd>\n",
              "              <dt>Master</dt>\n",
              "                <dd><code>local[*]</code></dd>\n",
              "              <dt>AppName</dt>\n",
              "                <dd><code>June16Assignment1</code></dd>\n",
              "            </dl>\n",
              "        </div>\n",
              "        \n",
              "            </div>\n",
              "        "
            ]
          },
          "metadata": {},
          "execution_count": 21
        }
      ],
      "source": [
        "from pyspark.sql import SparkSession\n",
        "spark=SparkSession.builder.appName(\"June16Assignment1\").getOrCreate()\n",
        "spark"
      ]
    },
    {
      "cell_type": "code",
      "source": [
        "course_enrollments_df=spark.read.csv(\"course_enrollments.csv\",header=True,inferSchema=True)\n",
        "course_enrollments_df.show()\n",
        "course_details_df=spark.read.csv(\"course_details.csv\",header=True,inferSchema=True)\n",
        "course_details_df.show()"
      ],
      "metadata": {
        "colab": {
          "base_uri": "https://localhost:8080/"
        },
        "id": "Lie0JDEWM9R4",
        "outputId": "eddff3b4-ef33-44c0-a8c3-d4624a8db307"
      },
      "execution_count": 22,
      "outputs": [
        {
          "output_type": "stream",
          "name": "stdout",
          "text": [
            "+------------+-----------+--------------------+-----------+----------+---------------+------+---------+\n",
            "|EnrollmentID|StudentName|          CourseName|   Category|EnrollDate|ProgressPercent|Rating|   Status|\n",
            "+------------+-----------+--------------------+-----------+----------+---------------+------+---------+\n",
            "|      ENR001|     Aditya|Python for Beginners|Programming|2024-05-10|             80|   4.5|   Active|\n",
            "|      ENR002|     Simran|Data Analysis wit...|  Analytics|2024-05-12|            100|   4.7|Completed|\n",
            "|      ENR003|     Aakash| Power BI Essentials|  Analytics|2024-05-13|             30|   3.8|   Active|\n",
            "|      ENR004|       Neha|         Java Basics|Programming|2024-05-15|              0|  NULL| Inactive|\n",
            "|      ENR005|       Zara|Machine Learning 101|         AI|2024-05-17|             60|   4.2|   Active|\n",
            "|      ENR006|    Ibrahim|Python for Beginners|Programming|2024-05-18|             90|   4.6|Completed|\n",
            "+------------+-----------+--------------------+-----------+----------+---------------+------+---------+\n",
            "\n",
            "+--------------------+-------------+----------+\n",
            "|          CourseName|DurationWeeks|Instructor|\n",
            "+--------------------+-------------+----------+\n",
            "|Python for Beginners|            4|    Rakesh|\n",
            "|Data Analysis wit...|            3|    Anjali|\n",
            "| Power BI Essentials|            5|     Rekha|\n",
            "|         Java Basics|            6|     Manoj|\n",
            "|Machine Learning 101|            8|     Samir|\n",
            "+--------------------+-------------+----------+\n",
            "\n"
          ]
        }
      ]
    },
    {
      "cell_type": "code",
      "source": [
        "# Filtering and Transformation\n",
        "# 3. Filter records where ProgressPercent < 50 .\n",
        "course_enrollments_df.filter(course_enrollments_df.ProgressPercent<50).show()\n",
        "# 4. Replace null ratings with average rating.\n",
        "from pyspark.sql.functions import avg\n",
        "average_rating = course_enrollments_df.select(avg(\"Rating\")).collect()[0][0]\n",
        "course_enrollments_df_filled = course_enrollments_df.fillna({\"Rating\": average_rating})\n",
        "course_enrollments_df_filled.show()\n",
        "# 5. Add column IsActive → 1 if Status is Active, else 0.\n",
        "from pyspark.sql import *\n",
        "from pyspark.sql.functions import *\n",
        "course_enrollments_df.withColumn(\"IsActive\",when(course_enrollments_df.Status==\"Active\",1).otherwise(0)).show()"
      ],
      "metadata": {
        "colab": {
          "base_uri": "https://localhost:8080/"
        },
        "id": "xl06wU1cNrvq",
        "outputId": "d2e53c43-297f-403b-f2d3-2b6871ad0c5c"
      },
      "execution_count": 23,
      "outputs": [
        {
          "output_type": "stream",
          "name": "stdout",
          "text": [
            "+------------+-----------+-------------------+-----------+----------+---------------+------+--------+\n",
            "|EnrollmentID|StudentName|         CourseName|   Category|EnrollDate|ProgressPercent|Rating|  Status|\n",
            "+------------+-----------+-------------------+-----------+----------+---------------+------+--------+\n",
            "|      ENR003|     Aakash|Power BI Essentials|  Analytics|2024-05-13|             30|   3.8|  Active|\n",
            "|      ENR004|       Neha|        Java Basics|Programming|2024-05-15|              0|  NULL|Inactive|\n",
            "+------------+-----------+-------------------+-----------+----------+---------------+------+--------+\n",
            "\n",
            "+------------+-----------+--------------------+-----------+----------+---------------+-----------------+---------+\n",
            "|EnrollmentID|StudentName|          CourseName|   Category|EnrollDate|ProgressPercent|           Rating|   Status|\n",
            "+------------+-----------+--------------------+-----------+----------+---------------+-----------------+---------+\n",
            "|      ENR001|     Aditya|Python for Beginners|Programming|2024-05-10|             80|              4.5|   Active|\n",
            "|      ENR002|     Simran|Data Analysis wit...|  Analytics|2024-05-12|            100|              4.7|Completed|\n",
            "|      ENR003|     Aakash| Power BI Essentials|  Analytics|2024-05-13|             30|              3.8|   Active|\n",
            "|      ENR004|       Neha|         Java Basics|Programming|2024-05-15|              0|4.359999999999999| Inactive|\n",
            "|      ENR005|       Zara|Machine Learning 101|         AI|2024-05-17|             60|              4.2|   Active|\n",
            "|      ENR006|    Ibrahim|Python for Beginners|Programming|2024-05-18|             90|              4.6|Completed|\n",
            "+------------+-----------+--------------------+-----------+----------+---------------+-----------------+---------+\n",
            "\n",
            "+------------+-----------+--------------------+-----------+----------+---------------+------+---------+--------+\n",
            "|EnrollmentID|StudentName|          CourseName|   Category|EnrollDate|ProgressPercent|Rating|   Status|IsActive|\n",
            "+------------+-----------+--------------------+-----------+----------+---------------+------+---------+--------+\n",
            "|      ENR001|     Aditya|Python for Beginners|Programming|2024-05-10|             80|   4.5|   Active|       1|\n",
            "|      ENR002|     Simran|Data Analysis wit...|  Analytics|2024-05-12|            100|   4.7|Completed|       0|\n",
            "|      ENR003|     Aakash| Power BI Essentials|  Analytics|2024-05-13|             30|   3.8|   Active|       1|\n",
            "|      ENR004|       Neha|         Java Basics|Programming|2024-05-15|              0|  NULL| Inactive|       0|\n",
            "|      ENR005|       Zara|Machine Learning 101|         AI|2024-05-17|             60|   4.2|   Active|       1|\n",
            "|      ENR006|    Ibrahim|Python for Beginners|Programming|2024-05-18|             90|   4.6|Completed|       0|\n",
            "+------------+-----------+--------------------+-----------+----------+---------------+------+---------+--------+\n",
            "\n"
          ]
        }
      ]
    },
    {
      "cell_type": "code",
      "source": [
        "# Aggregations & Metrics\n",
        "# 6. Find average progress by course.\n",
        "course_enrollments_df.groupBy('CourseName').agg({'ProgressPercent': 'avg'}).show()\n",
        "# 7. Get count of students in each course category.\n",
        "course_enrollments_df.groupBy('Category').agg({'StudentName': 'count'}).show()\n",
        "# 8. Identify the most enrolled course.\n",
        "course_enrollments_df.groupBy('CourseName').agg({'StudentName': 'count'}).orderBy('count(StudentName)', ascending=False).show()"
      ],
      "metadata": {
        "colab": {
          "base_uri": "https://localhost:8080/"
        },
        "id": "KwnoHbNJOSEB",
        "outputId": "853ca319-6c36-4bf6-db8a-4e39460aaed5"
      },
      "execution_count": 24,
      "outputs": [
        {
          "output_type": "stream",
          "name": "stdout",
          "text": [
            "+--------------------+--------------------+\n",
            "|          CourseName|avg(ProgressPercent)|\n",
            "+--------------------+--------------------+\n",
            "|Data Analysis wit...|               100.0|\n",
            "|         Java Basics|                 0.0|\n",
            "|Machine Learning 101|                60.0|\n",
            "|Python for Beginners|                85.0|\n",
            "| Power BI Essentials|                30.0|\n",
            "+--------------------+--------------------+\n",
            "\n",
            "+-----------+------------------+\n",
            "|   Category|count(StudentName)|\n",
            "+-----------+------------------+\n",
            "|Programming|                 3|\n",
            "|         AI|                 1|\n",
            "|  Analytics|                 2|\n",
            "+-----------+------------------+\n",
            "\n",
            "+--------------------+------------------+\n",
            "|          CourseName|count(StudentName)|\n",
            "+--------------------+------------------+\n",
            "|Python for Beginners|                 2|\n",
            "|Data Analysis wit...|                 1|\n",
            "|         Java Basics|                 1|\n",
            "|Machine Learning 101|                 1|\n",
            "| Power BI Essentials|                 1|\n",
            "+--------------------+------------------+\n",
            "\n"
          ]
        }
      ]
    },
    {
      "cell_type": "code",
      "source": [
        "# 10. Join course_enrollments with course_details to include duration and instructor.\n",
        "course_enrollments_df.join(course_details_df , course_enrollments_df.CourseName == course_details_df.CourseName).show()"
      ],
      "metadata": {
        "colab": {
          "base_uri": "https://localhost:8080/"
        },
        "id": "wL4l7y2POnPk",
        "outputId": "69fe1dba-654a-470e-c08e-73925b4b1727"
      },
      "execution_count": 25,
      "outputs": [
        {
          "output_type": "stream",
          "name": "stdout",
          "text": [
            "+------------+-----------+--------------------+-----------+----------+---------------+------+---------+--------------------+-------------+----------+\n",
            "|EnrollmentID|StudentName|          CourseName|   Category|EnrollDate|ProgressPercent|Rating|   Status|          CourseName|DurationWeeks|Instructor|\n",
            "+------------+-----------+--------------------+-----------+----------+---------------+------+---------+--------------------+-------------+----------+\n",
            "|      ENR001|     Aditya|Python for Beginners|Programming|2024-05-10|             80|   4.5|   Active|Python for Beginners|            4|    Rakesh|\n",
            "|      ENR002|     Simran|Data Analysis wit...|  Analytics|2024-05-12|            100|   4.7|Completed|Data Analysis wit...|            3|    Anjali|\n",
            "|      ENR003|     Aakash| Power BI Essentials|  Analytics|2024-05-13|             30|   3.8|   Active| Power BI Essentials|            5|     Rekha|\n",
            "|      ENR004|       Neha|         Java Basics|Programming|2024-05-15|              0|  NULL| Inactive|         Java Basics|            6|     Manoj|\n",
            "|      ENR005|       Zara|Machine Learning 101|         AI|2024-05-17|             60|   4.2|   Active|Machine Learning 101|            8|     Samir|\n",
            "|      ENR006|    Ibrahim|Python for Beginners|Programming|2024-05-18|             90|   4.6|Completed|Python for Beginners|            4|    Rakesh|\n",
            "+------------+-----------+--------------------+-----------+----------+---------------+------+---------+--------------------+-------------+----------+\n",
            "\n"
          ]
        }
      ]
    },
    {
      "cell_type": "code",
      "source": [
        "# Window Functions\n",
        "# 11. Rank students in each course based on ProgressPercent .\n",
        "from pyspark.sql.window import Window\n",
        "from pyspark.sql.functions import *\n",
        "windowSpec = Window.partitionBy(\"CourseName\").orderBy(desc(\"ProgressPercent\"))\n",
        "course_enrollments_df.withColumn(\"rank\",rank().over(windowSpec)).show()\n",
        "# 12. Get lead and lag of EnrollDate by Category.\n",
        "from pyspark.sql.window import Window\n",
        "from pyspark.sql.functions import *\n",
        "windowSpec = Window.partitionBy(\"Category\").orderBy(\"EnrollDate\")"
      ],
      "metadata": {
        "colab": {
          "base_uri": "https://localhost:8080/"
        },
        "id": "TeekYysRPFla",
        "outputId": "ec8bd1f8-25b3-4382-c82c-ba6c18b5020e"
      },
      "execution_count": 26,
      "outputs": [
        {
          "output_type": "stream",
          "name": "stdout",
          "text": [
            "+------------+-----------+--------------------+-----------+----------+---------------+------+---------+----+\n",
            "|EnrollmentID|StudentName|          CourseName|   Category|EnrollDate|ProgressPercent|Rating|   Status|rank|\n",
            "+------------+-----------+--------------------+-----------+----------+---------------+------+---------+----+\n",
            "|      ENR002|     Simran|Data Analysis wit...|  Analytics|2024-05-12|            100|   4.7|Completed|   1|\n",
            "|      ENR004|       Neha|         Java Basics|Programming|2024-05-15|              0|  NULL| Inactive|   1|\n",
            "|      ENR005|       Zara|Machine Learning 101|         AI|2024-05-17|             60|   4.2|   Active|   1|\n",
            "|      ENR003|     Aakash| Power BI Essentials|  Analytics|2024-05-13|             30|   3.8|   Active|   1|\n",
            "|      ENR006|    Ibrahim|Python for Beginners|Programming|2024-05-18|             90|   4.6|Completed|   1|\n",
            "|      ENR001|     Aditya|Python for Beginners|Programming|2024-05-10|             80|   4.5|   Active|   2|\n",
            "+------------+-----------+--------------------+-----------+----------+---------------+------+---------+----+\n",
            "\n"
          ]
        }
      ]
    },
    {
      "cell_type": "code",
      "source": [
        "# Pivoting & Formatting\n",
        "# 13. Pivot data to show total enrollments by Category and Status.\n",
        "course_enrollments_df.groupBy('Category').pivot('Status').agg({'StudentName': 'count'}).show()\n",
        "# 14. Extract year and month from EnrollDate .\n",
        "from pyspark.sql.functions import *\n",
        "course_enrollments_df.withColumn(\"year\",year(\"EnrollDate\")).withColumn(\"month\",month(\"EnrollDate\")).show()"
      ],
      "metadata": {
        "colab": {
          "base_uri": "https://localhost:8080/"
        },
        "id": "pGyVlthbPbmv",
        "outputId": "12c46874-1333-4371-8aeb-54b63253f1bc"
      },
      "execution_count": 27,
      "outputs": [
        {
          "output_type": "stream",
          "name": "stdout",
          "text": [
            "+-----------+------+---------+--------+\n",
            "|   Category|Active|Completed|Inactive|\n",
            "+-----------+------+---------+--------+\n",
            "|Programming|     1|        1|       1|\n",
            "|         AI|     1|     NULL|    NULL|\n",
            "|  Analytics|     1|        1|    NULL|\n",
            "+-----------+------+---------+--------+\n",
            "\n",
            "+------------+-----------+--------------------+-----------+----------+---------------+------+---------+----+-----+\n",
            "|EnrollmentID|StudentName|          CourseName|   Category|EnrollDate|ProgressPercent|Rating|   Status|year|month|\n",
            "+------------+-----------+--------------------+-----------+----------+---------------+------+---------+----+-----+\n",
            "|      ENR001|     Aditya|Python for Beginners|Programming|2024-05-10|             80|   4.5|   Active|2024|    5|\n",
            "|      ENR002|     Simran|Data Analysis wit...|  Analytics|2024-05-12|            100|   4.7|Completed|2024|    5|\n",
            "|      ENR003|     Aakash| Power BI Essentials|  Analytics|2024-05-13|             30|   3.8|   Active|2024|    5|\n",
            "|      ENR004|       Neha|         Java Basics|Programming|2024-05-15|              0|  NULL| Inactive|2024|    5|\n",
            "|      ENR005|       Zara|Machine Learning 101|         AI|2024-05-17|             60|   4.2|   Active|2024|    5|\n",
            "|      ENR006|    Ibrahim|Python for Beginners|Programming|2024-05-18|             90|   4.6|Completed|2024|    5|\n",
            "+------------+-----------+--------------------+-----------+----------+---------------+------+---------+----+-----+\n",
            "\n"
          ]
        }
      ]
    },
    {
      "cell_type": "code",
      "source": [
        "# Cleaning and Deduplication\n",
        "# 15. Drop rows where Status is null or empty.\n",
        "course_enrollments_df.na.drop(subset=[\"Status\"]).show()\n",
        "# 16. Remove duplicate enrollments using dropDuplicates() .\n",
        "course_enrollments_df.dropDuplicates().show()"
      ],
      "metadata": {
        "colab": {
          "base_uri": "https://localhost:8080/"
        },
        "id": "rg7q5W5pPhAR",
        "outputId": "67d89e25-22bd-42de-dd2f-db8d4f4dc96f"
      },
      "execution_count": 28,
      "outputs": [
        {
          "output_type": "stream",
          "name": "stdout",
          "text": [
            "+------------+-----------+--------------------+-----------+----------+---------------+------+---------+\n",
            "|EnrollmentID|StudentName|          CourseName|   Category|EnrollDate|ProgressPercent|Rating|   Status|\n",
            "+------------+-----------+--------------------+-----------+----------+---------------+------+---------+\n",
            "|      ENR001|     Aditya|Python for Beginners|Programming|2024-05-10|             80|   4.5|   Active|\n",
            "|      ENR002|     Simran|Data Analysis wit...|  Analytics|2024-05-12|            100|   4.7|Completed|\n",
            "|      ENR003|     Aakash| Power BI Essentials|  Analytics|2024-05-13|             30|   3.8|   Active|\n",
            "|      ENR004|       Neha|         Java Basics|Programming|2024-05-15|              0|  NULL| Inactive|\n",
            "|      ENR005|       Zara|Machine Learning 101|         AI|2024-05-17|             60|   4.2|   Active|\n",
            "|      ENR006|    Ibrahim|Python for Beginners|Programming|2024-05-18|             90|   4.6|Completed|\n",
            "+------------+-----------+--------------------+-----------+----------+---------------+------+---------+\n",
            "\n",
            "+------------+-----------+--------------------+-----------+----------+---------------+------+---------+\n",
            "|EnrollmentID|StudentName|          CourseName|   Category|EnrollDate|ProgressPercent|Rating|   Status|\n",
            "+------------+-----------+--------------------+-----------+----------+---------------+------+---------+\n",
            "|      ENR006|    Ibrahim|Python for Beginners|Programming|2024-05-18|             90|   4.6|Completed|\n",
            "|      ENR002|     Simran|Data Analysis wit...|  Analytics|2024-05-12|            100|   4.7|Completed|\n",
            "|      ENR005|       Zara|Machine Learning 101|         AI|2024-05-17|             60|   4.2|   Active|\n",
            "|      ENR001|     Aditya|Python for Beginners|Programming|2024-05-10|             80|   4.5|   Active|\n",
            "|      ENR003|     Aakash| Power BI Essentials|  Analytics|2024-05-13|             30|   3.8|   Active|\n",
            "|      ENR004|       Neha|         Java Basics|Programming|2024-05-15|              0|  NULL| Inactive|\n",
            "+------------+-----------+--------------------+-----------+----------+---------------+------+---------+\n",
            "\n"
          ]
        }
      ]
    },
    {
      "cell_type": "code",
      "source": [
        "# Export\n",
        "# 17. Write the final cleaned DataFrame to:\n",
        "# CSV (overwrite mode)\n",
        "# JSON (overwrite mode)\n",
        "# Parquet (snappy compression)\n",
        "course_enrollments_df.write.mode(\"overwrite\").csv(\"course_enrollments_csv\")\n",
        "course_enrollments_df.write.mode(\"overwrite\").json(\"course_enrollments.json\")\n",
        "course_enrollments_df.write.mode(\"overwrite\").parquet(\"course_enrollments.parquet\",compression=\"snappy\")"
      ],
      "metadata": {
        "id": "8QLnLYJ5Plqx"
      },
      "execution_count": 29,
      "outputs": []
    }
  ]
}