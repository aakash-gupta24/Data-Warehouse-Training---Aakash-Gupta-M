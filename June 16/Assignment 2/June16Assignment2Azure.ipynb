{
 "cells": [
  {
   "cell_type": "code",
   "execution_count": 0,
   "metadata": {
    "application/vnd.databricks.v1+cell": {
     "cellMetadata": {
      "byteLimit": 2048000,
      "rowLimit": 10000
     },
     "inputWidgets": {},
     "nuid": "a25aa0d6-c693-40a1-ba66-36c693dc7b8a",
     "showTitle": false,
     "tableResultSettingsMap": {},
     "title": ""
    }
   },
   "outputs": [
    {
     "output_type": "execute_result",
     "data": {
      "text/html": [
       "\n",
       "            <div>\n",
       "                <p><b>SparkSession - hive</b></p>\n",
       "                \n",
       "        <div>\n",
       "            <p><b>SparkContext</b></p>\n",
       "\n",
       "            <p><a href=\"/?o=833800893595081#setting/sparkui/0611-043338-tjd8m6e5/driver-5578226892673567445\">Spark UI</a></p>\n",
       "\n",
       "            <dl>\n",
       "              <dt>Version</dt>\n",
       "                <dd><code>v3.5.0</code></dd>\n",
       "              <dt>Master</dt>\n",
       "                <dd><code>local[*, 4]</code></dd>\n",
       "              <dt>AppName</dt>\n",
       "                <dd><code>Databricks Shell</code></dd>\n",
       "            </dl>\n",
       "        </div>\n",
       "        \n",
       "            </div>\n",
       "        "
      ],
      "text/plain": [
       "<pyspark.sql.session.SparkSession at 0x77ffe98f53d0>"
      ]
     },
     "execution_count": 25,
     "metadata": {},
     "output_type": "execute_result"
    }
   ],
   "source": [
    "from pyspark.sql import SparkSession\n",
    "spark=SparkSession.builder.appName('June16Assignment2').getOrCreate()\n",
    "spark"
   ]
  },
  {
   "cell_type": "code",
   "execution_count": 0,
   "metadata": {
    "application/vnd.databricks.v1+cell": {
     "cellMetadata": {
      "byteLimit": 2048000,
      "rowLimit": 10000
     },
     "inputWidgets": {},
     "nuid": "ca98ddcf-bfb1-4d49-bf5d-e484163a0b93",
     "showTitle": false,
     "tableResultSettingsMap": {},
     "title": ""
    }
   },
   "outputs": [
    {
     "output_type": "stream",
     "name": "stdout",
     "output_type": "stream",
     "text": [
      "+--------------+------+--------+----------+----------+--------+--------+---------+\n|SubscriptionID|UserID|PlanType| StartDate|   EndDate|PriceUSD|IsActive|AutoRenew|\n+--------------+------+--------+----------+----------+--------+--------+---------+\n|        SUB001|  U001|   Basic|2024-01-01|2024-04-01|    30.0|    true|     true|\n|        SUB002|  U002|     Pro|2024-02-15|2024-05-15|    90.0|    true|    false|\n|        SUB003|  U003|     Pro|2024-03-10|2024-06-10|    90.0|   false|    false|\n|        SUB004|  U001| Premium|2024-04-05|2024-07-05|   120.0|    true|     true|\n|        SUB005|  U004|   Basic|2024-01-20|2024-04-20|    30.0|   false|    false|\n+--------------+------+--------+----------+----------+--------+--------+---------+\n\n+------+-------------------+---------+-----------+\n|UserID|          EventTime|EventType|FeatureUsed|\n+------+-------------------+---------+-----------+\n|  U001|2024-04-07 10:22:00|    login|  Dashboard|\n|  U002|2024-04-08 11:10:00|   upload|    Reports|\n|  U003|2024-04-09 09:45:00| download|  Analytics|\n|  U001|2024-04-10 16:00:00|   logout|  Dashboard|\n|  U004|2024-04-11 12:00:00|    login|  Dashboard|\n+------+-------------------+---------+-----------+\n\n"
     ]
    }
   ],
   "source": [
    "# Data Loading\n",
    "# 1. Load the data with schema inference enabled.\n",
    "spark.conf.set(\n",
    "\n",
    "  \"fs.azure.account.key.hestore.blob.core.windows.net\",\n",
    "\n",
    "  \"t9GPzv3EUQuPiAc+xYOGz8ugxHJYyeq+mZwiYW3CowXMCr4j0H0sofY2yXGapzCyksI7PYl/rUDj+ASt2AFRBQ==\"\n",
    "\n",
    ")\n",
    " \n",
    "subscriptions_df= spark.read.option(\"header\", True).option(\"inferSchema\", True).csv(\n",
    "\n",
    "  \"wasbs://june16assignment2@hestore.blob.core.windows.net/subscriptions.csv\"\n",
    "\n",
    ")\n",
    "\n",
    "user_activity_df= spark.read.option(\"header\", True).option(\"inferSchema\", True).csv(\n",
    "\n",
    "  \"wasbs://june16assignment2@hestore.blob.core.windows.net/user_activity.csv\"\n",
    "\n",
    ")\n",
    " \n",
    "subscriptions_df.show()\n",
    "user_activity_df.show()\n"
   ]
  },
  {
   "cell_type": "code",
   "execution_count": 0,
   "metadata": {
    "application/vnd.databricks.v1+cell": {
     "cellMetadata": {
      "byteLimit": 2048000,
      "rowLimit": 10000
     },
     "inputWidgets": {},
     "nuid": "76bc5a1c-19b0-403f-89e5-9af3dfe41105",
     "showTitle": false,
     "tableResultSettingsMap": {},
     "title": ""
    }
   },
   "outputs": [],
   "source": [
    "from pyspark.sql.functions import *\n",
    "from pyspark.sql.window import Window"
   ]
  },
  {
   "cell_type": "code",
   "execution_count": 0,
   "metadata": {
    "application/vnd.databricks.v1+cell": {
     "cellMetadata": {
      "byteLimit": 2048000,
      "rowLimit": 10000
     },
     "inputWidgets": {},
     "nuid": "0a19679d-3808-4a08-a591-b4835646ba1c",
     "showTitle": false,
     "tableResultSettingsMap": {},
     "title": ""
    }
   },
   "outputs": [
    {
     "output_type": "stream",
     "name": "stdout",
     "output_type": "stream",
     "text": [
      "+------+--------------+--------+----------+----------+--------+--------+---------+-------------------+---------+-----------+\n|UserID|SubscriptionID|PlanType| StartDate|   EndDate|PriceUSD|IsActive|AutoRenew|          EventTime|EventType|FeatureUsed|\n+------+--------------+--------+----------+----------+--------+--------+---------+-------------------+---------+-----------+\n|  U001|        SUB001|   Basic|2024-01-01|2024-04-01|    30.0|    true|     true|2024-04-10 16:00:00|   logout|  Dashboard|\n|  U002|        SUB002|     Pro|2024-02-15|2024-05-15|    90.0|    true|    false|2024-04-08 11:10:00|   upload|    Reports|\n|  U003|        SUB003|     Pro|2024-03-10|2024-06-10|    90.0|   false|    false|2024-04-09 09:45:00| download|  Analytics|\n|  U001|        SUB004| Premium|2024-04-05|2024-07-05|   120.0|    true|     true|2024-04-10 16:00:00|   logout|  Dashboard|\n|  U004|        SUB005|   Basic|2024-01-20|2024-04-20|    30.0|   false|    false|2024-04-11 12:00:00|    login|  Dashboard|\n|  U001|        SUB001|   Basic|2024-01-01|2024-04-01|    30.0|    true|     true|2024-04-07 10:22:00|    login|  Dashboard|\n|  U001|        SUB004| Premium|2024-04-05|2024-07-05|   120.0|    true|     true|2024-04-07 10:22:00|    login|  Dashboard|\n+------+--------------+--------+----------+----------+--------+--------+---------+-------------------+---------+-----------+\n\n+----+--------------+--------+----------+----------+-----+--------+---------+-------------------+---------+-----------+-----------+---------------+----------------+\n|  id|SubscriptionID|PlanType|start_date|  end_date|price|IsActive|AutoRenew|          EventTime|EventType|FeatureUsed|active_days|events_per_user|engagement_score|\n+----+--------------+--------+----------+----------+-----+--------+---------+-------------------+---------+-----------+-----------+---------------+----------------+\n|U001|        SUB001|   Basic|2024-01-01|2024-04-01| 30.0|    true|     true|2024-04-10 16:00:00|   logout|  Dashboard|         91|              4|            1.32|\n|U001|        SUB004| Premium|2024-04-05|2024-07-05|120.0|    true|     true|2024-04-10 16:00:00|   logout|  Dashboard|         91|              4|            5.27|\n|U001|        SUB001|   Basic|2024-01-01|2024-04-01| 30.0|    true|     true|2024-04-07 10:22:00|    login|  Dashboard|         91|              4|            1.32|\n|U001|        SUB004| Premium|2024-04-05|2024-07-05|120.0|    true|     true|2024-04-07 10:22:00|    login|  Dashboard|         91|              4|            5.27|\n|U002|        SUB002|     Pro|2024-02-15|2024-05-15| 90.0|    true|    false|2024-04-08 11:10:00|   upload|    Reports|         90|              1|             1.0|\n|U003|        SUB003|     Pro|2024-03-10|2024-06-10| 90.0|   false|    false|2024-04-09 09:45:00| download|  Analytics|         92|              1|            0.98|\n|U004|        SUB005|   Basic|2024-01-20|2024-04-20| 30.0|   false|    false|2024-04-11 12:00:00|    login|  Dashboard|         91|              1|            0.33|\n+----+--------------+--------+----------+----------+-----+--------+---------+-------------------+---------+-----------+-----------+---------------+----------------+\n\n"
     ]
    }
   ],
   "source": [
    "# Subscription Engagement Score (Real Metric Modeling)\n",
    "# Combine both datasets.\n",
    "subscriptions_user_activity_df = subscriptions_df.join(user_activity_df, \"UserID\")\n",
    "subscriptions_user_activity_df.show()\n",
    "# Calculate:\n",
    "# active_days = EndDate - StartDate\n",
    "# events_per_user = count(EventType) grouped by UserID\n",
    "# Create a score: engagement_score = (events_per_user / active_days) * PriceUSD\n",
    "subscriptions_user_activity_df = subscriptions_user_activity_df.withColumn(\"active_days\", datediff(\"EndDate\", \"StartDate\")).withColumn(\"events_per_user\", count(\"EventType\").over(Window.partitionBy(\"UserID\"))).withColumn(\"engagement_score\", (col(\"events_per_user\") / col(\"active_days\")) * col(\"PriceUSD\")).withColumn(\"engagement_score\", round(col(\"engagement_score\"), 2)).withColumn(\"engagement_score\", col(\"engagement_score\").cast(\"double\")).withColumnRenamed(\"UserID\", \"id\").withColumnRenamed(\"SubscriptionName\", \"subscription\").withColumnRenamed(\"StartDate\", \"start_date\").withColumnRenamed(\"EndDate\", \"end_date\").withColumnRenamed(\"PriceUSD\", \"price\")\n",
    "subscriptions_user_activity_df.show()\n"
   ]
  },
  {
   "cell_type": "code",
   "execution_count": 0,
   "metadata": {
    "application/vnd.databricks.v1+cell": {
     "cellMetadata": {
      "byteLimit": 2048000,
      "rowLimit": 10000
     },
     "inputWidgets": {},
     "nuid": "3ddf3cb3-d731-44bc-970d-69021d13d2c2",
     "showTitle": false,
     "tableResultSettingsMap": {},
     "title": ""
    }
   },
   "outputs": [
    {
     "output_type": "stream",
     "name": "stdout",
     "output_type": "stream",
     "text": [
      "+------+\n|UserID|\n+------+\n|  U004|\n|  U003|\n+------+\n\n+------+\n|UserID|\n+------+\n|  U001|\n+------+\n\n"
     ]
    }
   ],
   "source": [
    "# Anomaly Detection via SQL\n",
    "# Identify users with:\n",
    "# Subscription inactive but recent activity AutoRenew is true but no events in Use SQL views to expose this logic.\n",
    "# B.Register the views\n",
    "subscriptions_df.createOrReplaceTempView(\"subscriptions\")\n",
    "user_activity_df.createOrReplaceTempView(\"user_activity\")\n",
    "#B1. Identify Users with:\n",
    "spark.sql(\"\"\"\n",
    "CREATE OR REPLACE TEMP VIEW recent_inactive_users AS SELECT DISTINCT s.UserID FROM subscriptions s JOIN user_activity u ON s.UserID = u.UserID WHERE s.IsActive = false;\"\"\")\n",
    "# View the results\n",
    "spark.sql(\"SELECT * FROM recent_inactive_users\").show()\n",
    "\n",
    "\n",
    "#AutoRenew true but no events in last 30 days ---\n",
    "spark.sql(\"\"\"CREATE OR REPLACE TEMP VIEW stale_autorenew_users AS SELECT s.UserID FROM subscriptions s LEFT JOIN user_activity u ON s.UserID = u.UserID WHERE s.AutoRenew = true GROUP BY s.UserID HAVING MAX(to_date(u.EventTime)) < current_date() - interval 30 days\"\"\")\n",
    "\n",
    "# View the results\n",
    "spark.sql(\"SELECT * FROM stale_autorenew_users\").show()"
   ]
  },
  {
   "cell_type": "code",
   "execution_count": 0,
   "metadata": {
    "application/vnd.databricks.v1+cell": {
     "cellMetadata": {
      "byteLimit": 2048000,
      "rowLimit": 10000
     },
     "inputWidgets": {},
     "nuid": "c449174d-0d8d-451d-8aa9-2bcbfb1ab775",
     "showTitle": false,
     "tableResultSettingsMap": {},
     "title": ""
    }
   },
   "outputs": [],
   "source": [
    "# Delta Lake + Merge Simulation\n",
    "# Imagine a billing fix needs to be applied:\n",
    "# For all Pro plans in March, increase price by $5 retroactively.\n",
    "# Use MERGE INTO on Delta table to apply the change.\n",
    "subscriptions_user_activity_df.write.format(\"delta\").mode(\"overwrite\").save(\"/tmp/subscriptions_user_activity_delta\")"
   ]
  },
  {
   "cell_type": "code",
   "execution_count": 0,
   "metadata": {
    "application/vnd.databricks.v1+cell": {
     "cellMetadata": {
      "byteLimit": 2048000,
      "rowLimit": 10000
     },
     "inputWidgets": {},
     "nuid": "b30db23f-175a-415e-ac3c-c2957971ed89",
     "showTitle": false,
     "tableResultSettingsMap": {},
     "title": ""
    }
   },
   "outputs": [
    {
     "output_type": "display_data",
     "data": {
      "text/html": [
       "<style scoped>\n",
       "  .table-result-container {\n",
       "    max-height: 300px;\n",
       "    overflow: auto;\n",
       "  }\n",
       "  table, th, td {\n",
       "    border: 1px solid black;\n",
       "    border-collapse: collapse;\n",
       "  }\n",
       "  th, td {\n",
       "    padding: 5px;\n",
       "  }\n",
       "  th {\n",
       "    text-align: left;\n",
       "  }\n",
       "</style><div class='table-result-container'><table class='table-result'><thead style='background-color: white'><tr><th>version</th><th>timestamp</th><th>userId</th><th>userName</th><th>operation</th><th>operationParameters</th><th>job</th><th>notebook</th><th>clusterId</th><th>readVersion</th><th>isolationLevel</th><th>isBlindAppend</th><th>operationMetrics</th><th>userMetadata</th><th>engineInfo</th></tr></thead><tbody><tr><td>1</td><td>2025-06-16T10:33:42Z</td><td>8835572673210010</td><td>azuser3544_mml.local@techademy.com</td><td>WRITE</td><td>Map(mode -> Overwrite, statsOnLoad -> false, partitionBy -> [])</td><td>null</td><td>List(674394615419901)</td><td>0611-043338-tjd8m6e5</td><td>0</td><td>WriteSerializable</td><td>false</td><td>Map(numFiles -> 1, numOutputRows -> 7, numOutputBytes -> 3943)</td><td>null</td><td>Databricks-Runtime/15.4.x-photon-scala2.12</td></tr><tr><td>0</td><td>2025-06-16T10:28:00Z</td><td>8835572673210010</td><td>azuser3544_mml.local@techademy.com</td><td>WRITE</td><td>Map(mode -> Overwrite, statsOnLoad -> false, partitionBy -> [])</td><td>null</td><td>List(674394615419901)</td><td>0611-043338-tjd8m6e5</td><td>null</td><td>WriteSerializable</td><td>false</td><td>Map(numFiles -> 1, numOutputRows -> 7, numOutputBytes -> 3943)</td><td>null</td><td>Databricks-Runtime/15.4.x-photon-scala2.12</td></tr></tbody></table></div>"
      ]
     },
     "metadata": {
      "application/vnd.databricks.v1+output": {
       "addedWidgets": {},
       "aggData": [],
       "aggError": "",
       "aggOverflow": false,
       "aggSchema": [],
       "aggSeriesLimitReached": false,
       "aggType": "",
       "arguments": {},
       "columnCustomDisplayInfos": {},
       "data": [
        [
         1,
         "2025-06-16T10:33:42Z",
         "8835572673210010",
         "azuser3544_mml.local@techademy.com",
         "WRITE",
         {
          "mode": "Overwrite",
          "partitionBy": "[]",
          "statsOnLoad": "false"
         },
         null,
         [
          "674394615419901"
         ],
         "0611-043338-tjd8m6e5",
         0,
         "WriteSerializable",
         false,
         {
          "numFiles": "1",
          "numOutputBytes": "3943",
          "numOutputRows": "7"
         },
         null,
         "Databricks-Runtime/15.4.x-photon-scala2.12"
        ],
        [
         0,
         "2025-06-16T10:28:00Z",
         "8835572673210010",
         "azuser3544_mml.local@techademy.com",
         "WRITE",
         {
          "mode": "Overwrite",
          "partitionBy": "[]",
          "statsOnLoad": "false"
         },
         null,
         [
          "674394615419901"
         ],
         "0611-043338-tjd8m6e5",
         null,
         "WriteSerializable",
         false,
         {
          "numFiles": "1",
          "numOutputBytes": "3943",
          "numOutputRows": "7"
         },
         null,
         "Databricks-Runtime/15.4.x-photon-scala2.12"
        ]
       ],
       "datasetInfos": [],
       "dbfsResultPath": null,
       "isJsonSchema": true,
       "metadata": {},
       "overflow": false,
       "plotOptions": {
        "customPlotOptions": {},
        "displayType": "table",
        "pivotAggregation": null,
        "pivotColumns": null,
        "xColumns": null,
        "yColumns": null
       },
       "removedWidgets": [],
       "schema": [
        {
         "metadata": "{}",
         "name": "version",
         "type": "\"long\""
        },
        {
         "metadata": "{}",
         "name": "timestamp",
         "type": "\"timestamp\""
        },
        {
         "metadata": "{}",
         "name": "userId",
         "type": "\"string\""
        },
        {
         "metadata": "{}",
         "name": "userName",
         "type": "\"string\""
        },
        {
         "metadata": "{}",
         "name": "operation",
         "type": "\"string\""
        },
        {
         "metadata": "{}",
         "name": "operationParameters",
         "type": "{\"type\":\"map\",\"keyType\":\"string\",\"valueType\":\"string\",\"valueContainsNull\":true}"
        },
        {
         "metadata": "{}",
         "name": "job",
         "type": "{\"type\":\"struct\",\"fields\":[{\"name\":\"jobId\",\"type\":\"string\",\"nullable\":true,\"metadata\":{}},{\"name\":\"jobName\",\"type\":\"string\",\"nullable\":true,\"metadata\":{}},{\"name\":\"jobRunId\",\"type\":\"string\",\"nullable\":true,\"metadata\":{}},{\"name\":\"runId\",\"type\":\"string\",\"nullable\":true,\"metadata\":{}},{\"name\":\"jobOwnerId\",\"type\":\"string\",\"nullable\":true,\"metadata\":{}},{\"name\":\"triggerType\",\"type\":\"string\",\"nullable\":true,\"metadata\":{}}]}"
        },
        {
         "metadata": "{}",
         "name": "notebook",
         "type": "{\"type\":\"struct\",\"fields\":[{\"name\":\"notebookId\",\"type\":\"string\",\"nullable\":true,\"metadata\":{}}]}"
        },
        {
         "metadata": "{}",
         "name": "clusterId",
         "type": "\"string\""
        },
        {
         "metadata": "{}",
         "name": "readVersion",
         "type": "\"long\""
        },
        {
         "metadata": "{}",
         "name": "isolationLevel",
         "type": "\"string\""
        },
        {
         "metadata": "{}",
         "name": "isBlindAppend",
         "type": "\"boolean\""
        },
        {
         "metadata": "{}",
         "name": "operationMetrics",
         "type": "{\"type\":\"map\",\"keyType\":\"string\",\"valueType\":\"string\",\"valueContainsNull\":true}"
        },
        {
         "metadata": "{}",
         "name": "userMetadata",
         "type": "\"string\""
        },
        {
         "metadata": "{}",
         "name": "engineInfo",
         "type": "\"string\""
        }
       ],
       "type": "table"
      }
     },
     "output_type": "display_data"
    }
   ],
   "source": [
    "# D. Time Travel Debugging\n",
    "# Show describe history of the table before and after the billing fix.\n",
    "# Query using VERSION AS OF to prove the issue existed.\n",
    "display(spark.sql(\"DESCRIBE HISTORY delta.`/tmp/subscriptions_user_activity_delta`\"))"
   ]
  },
  {
   "cell_type": "code",
   "execution_count": 0,
   "metadata": {
    "application/vnd.databricks.v1+cell": {
     "cellMetadata": {
      "byteLimit": 2048000,
      "rowLimit": 10000
     },
     "inputWidgets": {},
     "nuid": "65493014-3fe8-46b1-8906-44c18f323d0a",
     "showTitle": false,
     "tableResultSettingsMap": {},
     "title": ""
    }
   },
   "outputs": [
    {
     "output_type": "stream",
     "name": "stdout",
     "output_type": "stream",
     "text": [
      "+----+--------------+--------+----------+----------+-----+--------+---------+-------------------+---------+-----------+-----------+---------------+----------------+-------------+\n|  id|SubscriptionID|PlanType|start_date|  end_date|price|IsActive|AutoRenew|          EventTime|EventType|FeatureUsed|active_days|events_per_user|engagement_score|previous_plan|\n+----+--------------+--------+----------+----------+-----+--------+---------+-------------------+---------+-----------+-----------+---------------+----------------+-------------+\n|U001|        SUB001|   Basic|2024-01-01|2024-04-01| 30.0|    true|     true|2024-04-10 16:00:00|   logout|  Dashboard|         91|              4|            1.32|        Basic|\n|U001|        SUB001|   Basic|2024-01-01|2024-04-01| 30.0|    true|     true|2024-04-07 10:22:00|    login|  Dashboard|         91|              4|            1.32|        Basic|\n|U001|        SUB004| Premium|2024-04-05|2024-07-05|120.0|    true|     true|2024-04-10 16:00:00|   logout|  Dashboard|         91|              4|            5.27|        Basic|\n|U001|        SUB004| Premium|2024-04-05|2024-07-05|120.0|    true|     true|2024-04-07 10:22:00|    login|  Dashboard|         91|              4|            5.27|      Premium|\n|U002|        SUB002|     Pro|2024-02-15|2024-05-15| 90.0|    true|    false|2024-04-08 11:10:00|   upload|    Reports|         90|              1|             1.0|        Basic|\n|U003|        SUB003|     Pro|2024-03-10|2024-06-10| 90.0|   false|    false|2024-04-09 09:45:00| download|  Analytics|         92|              1|            0.98|        Basic|\n|U004|        SUB005|   Basic|2024-01-20|2024-04-20| 30.0|   false|    false|2024-04-11 12:00:00|    login|  Dashboard|         91|              1|            0.33|        Basic|\n+----+--------------+--------+----------+----------+-----+--------+---------+-------------------+---------+-----------+-----------+---------------+----------------+-------------+\n\n"
     ]
    }
   ],
   "source": [
    "# Build Tier Migration Table\n",
    "# Identify users who upgraded:\n",
    "# From Basic → Pro → Premium\n",
    "# Use PySpark with lag() function to model this.\n",
    "subscriptions_user_activity_df = subscriptions_user_activity_df.withColumn(\"previous_plan\", lag(\"PlanType\").over(Window.partitionBy(\"id\").orderBy(\"start_date\"))).withColumn(\"previous_plan\", when(col(\"previous_plan\").isNull(), \"Basic\").otherwise(col(\"previous_plan\")))\n",
    "subscriptions_user_activity_df.show()"
   ]
  },
  {
   "cell_type": "code",
   "execution_count": 0,
   "metadata": {
    "application/vnd.databricks.v1+cell": {
     "cellMetadata": {
      "byteLimit": 2048000,
      "rowLimit": 10000
     },
     "inputWidgets": {},
     "nuid": "cad064bc-271d-47c8-97d8-6ef995544938",
     "showTitle": false,
     "tableResultSettingsMap": {},
     "title": ""
    }
   },
   "outputs": [
    {
     "output_type": "stream",
     "name": "stdout",
     "output_type": "stream",
     "text": [
      "+-----------------+-----------------+\n|num_affected_rows|num_inserted_rows|\n+-----------------+-----------------+\n+-----------------+-----------------+\n\n"
     ]
    }
   ],
   "source": [
    "# Power Users Detection\n",
    "# Define a power user as:\n",
    "# Used ≥ 2 features\n",
    "# Logged in ≥ 3 times\n",
    "# Create a separate Delta table power_users\n",
    "subscriptions_user_activity_df.createOrReplaceTempView(\"subscriptions_user_activity\")\n",
    "spark.sql(\"\"\"\n",
    "CREATE OR REPLACE TABLE power_users AS\n",
    "SELECT DISTINCT id\n",
    "FROM subscriptions_user_activity\n",
    "GROUP BY id\n",
    "HAVING count(DISTINCT FeatureUsed) >= 2 AND count(DISTINCT EventTime) >= 3\n",
    "\"\"\").show()"
   ]
  },
  {
   "cell_type": "code",
   "execution_count": 0,
   "metadata": {
    "application/vnd.databricks.v1+cell": {
     "cellMetadata": {
      "byteLimit": 2048000,
      "rowLimit": 10000
     },
     "inputWidgets": {},
     "nuid": "429a40ff-f8e4-41be-bd8d-4db1ffb66491",
     "showTitle": false,
     "tableResultSettingsMap": {},
     "title": ""
    }
   },
   "outputs": [
    {
     "output_type": "stream",
     "name": "stdout",
     "output_type": "stream",
     "text": [
      "+----+--------------+--------+----------+----------+-----+--------+---------+-------------------+---------+-----------+-----------+---------------+----------------+-------------+-----------+-------+\n|  id|SubscriptionID|PlanType|start_date|  end_date|price|IsActive|AutoRenew|          EventTime|EventType|FeatureUsed|active_days|events_per_user|engagement_score|previous_plan|session_num|session|\n+----+--------------+--------+----------+----------+-----+--------+---------+-------------------+---------+-----------+-----------+---------------+----------------+-------------+-----------+-------+\n|U001|        SUB001|   Basic|2024-01-01|2024-04-01| 30.0|    true|     true|2024-04-07 10:22:00|    login|  Dashboard|         91|              4|            1.32|        Basic|          1|      0|\n|U001|        SUB004| Premium|2024-04-05|2024-07-05|120.0|    true|     true|2024-04-07 10:22:00|    login|  Dashboard|         91|              4|            5.27|      Premium|          2|      1|\n|U001|        SUB001|   Basic|2024-01-01|2024-04-01| 30.0|    true|     true|2024-04-10 16:00:00|   logout|  Dashboard|         91|              4|            1.32|        Basic|          3|      4|\n|U001|        SUB004| Premium|2024-04-05|2024-07-05|120.0|    true|     true|2024-04-10 16:00:00|   logout|  Dashboard|         91|              4|            5.27|        Basic|          4|      5|\n|U002|        SUB002|     Pro|2024-02-15|2024-05-15| 90.0|    true|    false|2024-04-08 11:10:00|   upload|    Reports|         90|              1|             1.0|        Basic|          1|      1|\n|U003|        SUB003|     Pro|2024-03-10|2024-06-10| 90.0|   false|    false|2024-04-09 09:45:00| download|  Analytics|         92|              1|            0.98|        Basic|          1|      1|\n|U004|        SUB005|   Basic|2024-01-20|2024-04-20| 30.0|   false|    false|2024-04-11 12:00:00|    login|  Dashboard|         91|              1|            0.33|        Basic|          1|      0|\n+----+--------------+--------+----------+----------+-----+--------+---------+-------------------+---------+-----------+-----------+---------------+----------------+-------------+-----------+-------+\n\n"
     ]
    }
   ],
   "source": [
    "# Session Replay View\n",
    "# Build a user session trace table using:\n",
    "# Window.partitionBy(\"UserID\").orderBy(\"EventTime\")\n",
    "# Show how long each user spent between login and logout events.\n",
    "from pyspark.sql.functions import col, when, row_number\n",
    "from pyspark.sql.window import Window\n",
    "window_spec = Window.partitionBy(\"id\").orderBy(\"EventTime\")\n",
    "\n",
    "subscriptions_user_activity_df = subscriptions_user_activity_df \\\n",
    "    .withColumn(\"session_num\", row_number().over(window_spec)) \\\n",
    "    .withColumn(\"session\",\n",
    "        when(col(\"EventType\") == \"login\", col(\"session_num\") - 1)\n",
    "        .when(col(\"EventType\") == \"logout\", col(\"session_num\") + 1)\n",
    "        .otherwise(col(\"session_num\"))\n",
    "    )\n",
    "\n",
    "subscriptions_user_activity_df.show()"
   ]
  }
 ],
 "metadata": {
  "application/vnd.databricks.v1+notebook": {
   "computePreferences": null,
   "dashboards": [],
   "environmentMetadata": {
    "base_environment": "",
    "environment_version": "2"
   },
   "inputWidgetPreferences": null,
   "language": "python",
   "notebookMetadata": {
    "pythonIndentUnit": 4
   },
   "notebookName": "June16Assignment2",
   "widgets": {}
  },
  "language_info": {
   "name": "python"
  }
 },
 "nbformat": 4,
 "nbformat_minor": 0
}