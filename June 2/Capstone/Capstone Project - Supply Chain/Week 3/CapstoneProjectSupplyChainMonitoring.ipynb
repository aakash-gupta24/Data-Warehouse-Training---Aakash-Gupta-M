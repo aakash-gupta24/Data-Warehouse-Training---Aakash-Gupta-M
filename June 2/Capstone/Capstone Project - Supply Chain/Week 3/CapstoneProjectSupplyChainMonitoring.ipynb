{
  "nbformat": 4,
  "nbformat_minor": 0,
  "metadata": {
    "colab": {
      "provenance": []
    },
    "kernelspec": {
      "name": "python3",
      "display_name": "Python 3"
    },
    "language_info": {
      "name": "python"
    }
  },
  "cells": [
    {
      "cell_type": "code",
      "execution_count": 35,
      "metadata": {
        "colab": {
          "base_uri": "https://localhost:8080/",
          "height": 221
        },
        "id": "tXI-zYrKSzWD",
        "outputId": "7e1a8d1f-4619-4cb3-fa08-31053866ebbd"
      },
      "outputs": [
        {
          "output_type": "execute_result",
          "data": {
            "text/plain": [
              "<pyspark.sql.session.SparkSession at 0x7a67649c9910>"
            ],
            "text/html": [
              "\n",
              "            <div>\n",
              "                <p><b>SparkSession - in-memory</b></p>\n",
              "                \n",
              "        <div>\n",
              "            <p><b>SparkContext</b></p>\n",
              "\n",
              "            <p><a href=\"http://eecea1a62155:4040\">Spark UI</a></p>\n",
              "\n",
              "            <dl>\n",
              "              <dt>Version</dt>\n",
              "                <dd><code>v3.5.1</code></dd>\n",
              "              <dt>Master</dt>\n",
              "                <dd><code>local[*]</code></dd>\n",
              "              <dt>AppName</dt>\n",
              "                <dd><code>CapstoneProjectSupplyChainMonitoring</code></dd>\n",
              "            </dl>\n",
              "        </div>\n",
              "        \n",
              "            </div>\n",
              "        "
            ]
          },
          "metadata": {},
          "execution_count": 35
        }
      ],
      "source": [
        "from pyspark.sql import SparkSession\n",
        "\n",
        "spark= SparkSession.builder.appName(\"CapstoneProjectSupplyChainMonitoring\").getOrCreate()\n",
        "\n",
        "spark"
      ]
    },
    {
      "cell_type": "code",
      "source": [
        "#Capstone Tasks:\n",
        "#Load order data from CSV using PySpark orders, suppliers, inventory.\n",
        "orders_df = spark.read.csv(\"orders.csv\", header=True, inferSchema=True)\n",
        "suppliers_df = spark.read.csv(\"suppliers.csv\", header=True, inferSchema=True)\n",
        "inventory_df = spark.read.csv(\"inventory.csv\", header=True, inferSchema=True)\n",
        "orders_df.show()\n",
        "suppliers_df.show()\n",
        "inventory_df.show()\n",
        "#Filter delayed shipments.\n",
        "#->pending is delayed\n",
        "#->shipped is in process\n",
        "#->delivered is completed\n",
        "delayed_shipments_df = orders_df.filter(orders_df[\"status\"] == \"pending\")\n",
        "delayed_shipments_df.show()\n",
        "#Group by supplier and count delayed orders.\n",
        "delayed_orders_by_supplier_df = delayed_shipments_df.groupBy(\"supplier_id\").count()\n",
        "delayed_orders_by_supplier_df.show()\n",
        "#Save processed data to CSV or Parquet.\n",
        "delayed_shipments_df.write.mode('overwrite').csv(\"delayed_shipments.csv\", header=True)\n",
        "delayed_orders_by_supplier_df.write.mode('overwrite').csv(\"delayed_orders_by_supplier.csv\", header=True)"
      ],
      "metadata": {
        "colab": {
          "base_uri": "https://localhost:8080/"
        },
        "id": "6Ayn_L7kTGWv",
        "outputId": "32e5b534-fa4e-4c4e-ae34-507337a1da63"
      },
      "execution_count": 36,
      "outputs": [
        {
          "output_type": "stream",
          "name": "stdout",
          "text": [
            "+----------+-----------+---------+--------+\n",
            "|order_date|supplier_id|   status|quantity|\n",
            "+----------+-----------+---------+--------+\n",
            "|2025-06-01|          1|  pending|      10|\n",
            "|2025-06-07|          7|delivered|      25|\n",
            "|2025-06-02|          2|delivered|      20|\n",
            "|2025-06-03|          3|  shipped|      15|\n",
            "|2025-06-10|         10|delivered|      30|\n",
            "|2025-06-04|          4|  pending|      12|\n",
            "|2025-06-06|          6|cancelled|       5|\n",
            "|2025-06-09|          9|  pending|       9|\n",
            "|2025-06-05|          5|delivered|      18|\n",
            "|2025-06-11|         11|  shipped|      14|\n",
            "|2025-06-08|          8|  shipped|      17|\n",
            "|2025-06-13|         13|  pending|      16|\n",
            "|2025-06-15|         15|  pending|      13|\n",
            "|2025-06-14|         14|delivered|      21|\n",
            "|2025-06-17|         17|  shipped|      11|\n",
            "|2025-06-12|         12|cancelled|       7|\n",
            "|2025-06-18|         18|  pending|      22|\n",
            "|2025-06-16|         16|delivered|      19|\n",
            "|2025-06-20|         20|  pending|      10|\n",
            "|2025-06-21|         21|delivered|      18|\n",
            "+----------+-----------+---------+--------+\n",
            "only showing top 20 rows\n",
            "\n",
            "+-----------+-------------+--------------------+\n",
            "|supplier_id|supplier_name|       contact_email|\n",
            "+-----------+-------------+--------------------+\n",
            "|          1|   Supplier A|supplierA@example...|\n",
            "|          2|   Supplier B|supplierB@example...|\n",
            "|          3|   Supplier C|supplierC@example...|\n",
            "|          4|   Supplier D|supplierD@example...|\n",
            "|          5|   Supplier E|supplierE@example...|\n",
            "|          6|   Supplier F|supplierF@example...|\n",
            "|          7|   Supplier G|supplierG@example...|\n",
            "|          8|   Supplier H|supplierH@example...|\n",
            "|          9|   Supplier I|supplierI@example...|\n",
            "|         10|   Supplier J|supplierJ@example...|\n",
            "|         11|   Supplier K|supplierK@example...|\n",
            "|         12|   Supplier L|supplierL@example...|\n",
            "|         13|   Supplier M|supplierM@example...|\n",
            "|         14|   Supplier N|supplierN@example...|\n",
            "|         15|   Supplier O|supplierO@example...|\n",
            "|         16|   Supplier P|supplierP@example...|\n",
            "|         17|   Supplier Q|supplierQ@example...|\n",
            "|         18|   Supplier R|supplierR@example...|\n",
            "|         19|   Supplier S|supplierS@example...|\n",
            "|         20|   Supplier T|supplierT@example...|\n",
            "+-----------+-------------+--------------------+\n",
            "only showing top 20 rows\n",
            "\n",
            "+------------+---------+--------+-----+-----------+\n",
            "|inventory_id|item_name|quantity|price|supplier_id|\n",
            "+------------+---------+--------+-----+-----------+\n",
            "|           1|   Item 1|     100| 10.0|          1|\n",
            "|           2|   Item 2|     150| 15.0|          2|\n",
            "|           3|   Item 3|     120| 12.0|          3|\n",
            "|           4|   Item 4|      80|  8.0|          4|\n",
            "|           5|   Item 5|     200| 20.0|          5|\n",
            "|           6|   Item 6|      60|  6.0|          6|\n",
            "|           7|   Item 7|     170| 17.0|          7|\n",
            "|           8|   Item 8|      90|  9.0|          8|\n",
            "|           9|   Item 9|     110| 11.0|          9|\n",
            "|          10|  Item 10|     130| 13.0|         10|\n",
            "|          11|  Item 11|      75|  7.5|         11|\n",
            "|          12|  Item 12|     140| 14.0|         12|\n",
            "|          13|  Item 13|     160| 16.0|         13|\n",
            "|          14|  Item 14|      95|  9.5|         14|\n",
            "|          15|  Item 15|     180| 18.0|         15|\n",
            "|          16|  Item 16|     100| 10.0|         16|\n",
            "|          17|  Item 17|     105| 10.5|         17|\n",
            "|          18|  Item 18|     115| 11.5|         18|\n",
            "|          19|  Item 19|      85|  8.5|         19|\n",
            "|          20|  Item 20|     190| 19.0|         20|\n",
            "+------------+---------+--------+-----+-----------+\n",
            "only showing top 20 rows\n",
            "\n",
            "+----------+-----------+-------+--------+\n",
            "|order_date|supplier_id| status|quantity|\n",
            "+----------+-----------+-------+--------+\n",
            "|2025-06-01|          1|pending|      10|\n",
            "|2025-06-04|          4|pending|      12|\n",
            "|2025-06-09|          9|pending|       9|\n",
            "|2025-06-13|         13|pending|      16|\n",
            "|2025-06-15|         15|pending|      13|\n",
            "|2025-06-18|         18|pending|      22|\n",
            "|2025-06-20|         20|pending|      10|\n",
            "|2025-06-24|         24|pending|      12|\n",
            "|2025-06-26|         26|pending|      14|\n",
            "|2025-06-30|         30|pending|       9|\n",
            "|2025-07-01|          1|pending|      13|\n",
            "|2025-07-05|          5|pending|      14|\n",
            "|2025-07-09|          9|pending|      11|\n",
            "+----------+-----------+-------+--------+\n",
            "\n",
            "+-----------+-----+\n",
            "|supplier_id|count|\n",
            "+-----------+-----+\n",
            "|         26|    1|\n",
            "|          1|    2|\n",
            "|         13|    1|\n",
            "|         20|    1|\n",
            "|          5|    1|\n",
            "|         15|    1|\n",
            "|          9|    2|\n",
            "|          4|    1|\n",
            "|         24|    1|\n",
            "|         30|    1|\n",
            "|         18|    1|\n",
            "+-----------+-----+\n",
            "\n"
          ]
        }
      ]
    },
    {
      "cell_type": "code",
      "source": [
        "#  Deliverables:\n",
        "#  PySpark script to load, process, and save supply chain data\n",
        "#  Output le showing grouped results"
      ],
      "metadata": {
        "id": "-rzKgqJdUxhj"
      },
      "execution_count": 37,
      "outputs": []
    },
    {
      "cell_type": "code",
      "source": [
        "spark.stop()"
      ],
      "metadata": {
        "id": "N9hWs-MLbxvn"
      },
      "execution_count": 38,
      "outputs": []
    }
  ]
}