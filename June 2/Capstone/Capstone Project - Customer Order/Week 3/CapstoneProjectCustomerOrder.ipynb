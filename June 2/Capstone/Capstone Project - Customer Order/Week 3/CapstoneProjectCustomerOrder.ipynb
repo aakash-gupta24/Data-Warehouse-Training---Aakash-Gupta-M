{
  "nbformat": 4,
  "nbformat_minor": 0,
  "metadata": {
    "colab": {
      "provenance": []
    },
    "kernelspec": {
      "name": "python3",
      "display_name": "Python 3"
    },
    "language_info": {
      "name": "python"
    }
  },
  "cells": [
    {
      "cell_type": "code",
      "execution_count": 9,
      "metadata": {
        "colab": {
          "base_uri": "https://localhost:8080/",
          "height": 221
        },
        "id": "PKuszOFrPWIQ",
        "outputId": "14d15133-eca6-4836-d040-9d02fc80ffae"
      },
      "outputs": [
        {
          "output_type": "execute_result",
          "data": {
            "text/plain": [
              "<pyspark.sql.session.SparkSession at 0x7e5db10d3e90>"
            ],
            "text/html": [
              "\n",
              "            <div>\n",
              "                <p><b>SparkSession - in-memory</b></p>\n",
              "                \n",
              "        <div>\n",
              "            <p><b>SparkContext</b></p>\n",
              "\n",
              "            <p><a href=\"http://4ab06360aa30:4040\">Spark UI</a></p>\n",
              "\n",
              "            <dl>\n",
              "              <dt>Version</dt>\n",
              "                <dd><code>v3.5.1</code></dd>\n",
              "              <dt>Master</dt>\n",
              "                <dd><code>local[*]</code></dd>\n",
              "              <dt>AppName</dt>\n",
              "                <dd><code>CapstoneProjectCustomerOrder</code></dd>\n",
              "            </dl>\n",
              "        </div>\n",
              "        \n",
              "            </div>\n",
              "        "
            ]
          },
          "metadata": {},
          "execution_count": 9
        }
      ],
      "source": [
        "from pyspark.sql import SparkSession\n",
        "\n",
        "spark= SparkSession.builder.appName(\"CapstoneProjectCustomerOrder\").getOrCreate()\n",
        "\n",
        "spark"
      ]
    },
    {
      "cell_type": "code",
      "source": [
        "# Load order and delivery data into PySpark\n",
        "orders_df = spark.read.csv(\"orders.csv\", header=True, inferSchema=True)\n",
        "delivery_df = spark.read.csv(\"delivery_status.csv\", header=True, inferSchema=True)\n",
        "customers_df = spark.read.csv(\"customers.csv\", header=True, inferSchema=True)\n",
        "orders_df.show()\n",
        "delivery_df.show()\n",
        "customers_df.show()\n",
        "# Join orders and customer tables\n",
        "orders_customers_df = orders_df.join(customers_df, on=\"customer_id\", how=\"inner\")\n",
        "orders_customers_df.show()\n",
        "# Group by region to count delays\n",
        "delays_by_region_df = orders_customers_df.join(delivery_df, on=\"order_id\", how=\"inner\")\n",
        "delays_by_region_df.show()\n",
        "# Save results to a file\n",
        "delays_by_region_df.write.csv(\"delays_by_region.csv\", header=True)"
      ],
      "metadata": {
        "colab": {
          "base_uri": "https://localhost:8080/"
        },
        "id": "zBzsWzK7P-T9",
        "outputId": "d9de73c0-60c1-4282-c797-543e6678e1d5"
      },
      "execution_count": 10,
      "outputs": [
        {
          "output_type": "stream",
          "name": "stdout",
          "text": [
            "+--------+-----------+----------+-------------+------+--------------------+\n",
            "|order_id|customer_id|order_date|delivery_date|amount|        product_name|\n",
            "+--------+-----------+----------+-------------+------+--------------------+\n",
            "|       1|          1| #########|    #########|250.75|      Wireless Mouse|\n",
            "|       2|          3| #########|    #########| 89.99|Bluetooth Headphones|\n",
            "|       3|          5| #########|    #########| 120.5| External Hard Drive|\n",
            "|       4|          7| #########|    #########| 450.0|          Smartphone|\n",
            "|       5|         10| #########|    #########| 300.1|     Gaming Keyboard|\n",
            "|       6|          3| #########|    #########| 150.0|    Portable Charger|\n",
            "|       7|         20| #########|    #########|499.99|          4K Monitor|\n",
            "|       8|         15| #########|    #########| 99.95|    Wireless Earbuds|\n",
            "|       9|         15| #########|    #########| 75.45|           USB-C Hub|\n",
            "|      10|          6| #########|    #########| 199.0|          Smartwatch|\n",
            "|      11|         21| #########|    #########| 180.0|        Laptop Stand|\n",
            "|      12|         22| #########|    #########| 210.3|           Desk Lamp|\n",
            "|      13|         23| #########|    #########| 300.0|     Wireless Router|\n",
            "|      14|         25| #########|    #########| 120.0| Mechanical Keyboard|\n",
            "|      15|          1| #########|    #########|  99.0|    Gaming Mouse Pad|\n",
            "|      16|         30| #########|    #########| 85.75|           HD Webcam|\n",
            "|      17|         18| #########|    #########|  65.5|   Bluetooth Speaker|\n",
            "|      18|         33| #########|    #########| 130.2|      Graphic Tablet|\n",
            "|      19|         31| #########|    #########|  75.0|    Wireless Charger|\n",
            "|      20|         20| #########|    #########| 250.0|        External SSD|\n",
            "+--------+-----------+----------+-------------+------+--------------------+\n",
            "only showing top 20 rows\n",
            "\n",
            "+--------+--------------+-----------+\n",
            "|order_id|current_status|status_date|\n",
            "+--------+--------------+-----------+\n",
            "|       1|     Delivered| 2025-05-06|\n",
            "|       2|    In Transit| 2025-05-07|\n",
            "|       3|       Delayed| 2025-05-08|\n",
            "|       4|     Cancelled| 2025-05-09|\n",
            "|       5|     Delivered| 2025-05-12|\n",
            "|       6|    In Transit| 2025-05-11|\n",
            "|       7|     Delivered| 2025-05-14|\n",
            "|       8|     Delivered| 2025-05-15|\n",
            "|       9|    In Transit| 2025-05-16|\n",
            "|      10|     Delivered| 2025-05-17|\n",
            "|      11|     Delivered| 2025-05-18|\n",
            "|      12|       Delayed| 2025-05-19|\n",
            "|      13|    In Transit| 2025-05-20|\n",
            "|      14|     Delivered| 2025-05-21|\n",
            "|      15|     Delivered| 2025-05-22|\n",
            "|      16|     Cancelled| 2025-05-23|\n",
            "|      17|     Delivered| 2025-05-24|\n",
            "|      18|    In Transit| 2025-05-25|\n",
            "|      19|     Delivered| 2025-05-26|\n",
            "|      20|     Delivered| 2025-05-27|\n",
            "+--------+--------------+-----------+\n",
            "only showing top 20 rows\n",
            "\n",
            "+-----------+--------------+--------------------+--------+-------+\n",
            "|customer_id|          name|               email|   phone| region|\n",
            "+-----------+--------------+--------------------+--------+-------+\n",
            "|          1| Alice Johnson|alice.johnson@exa...|555-0101|  North|\n",
            "|          2|     Bob Smith|bob.smith@example...|555-0102|  South|\n",
            "|          3|   Carol Davis|carol.davis@examp...|555-0103|   East|\n",
            "|          4|  David Wilson|david.wilson@exam...|555-0104|   West|\n",
            "|          5|     Eva Brown|eva.brown@example...|555-0105|Central|\n",
            "|          6|   Frank Moore|frank.moore@examp...|555-0106|  North|\n",
            "|          7|     Grace Lee|grace.lee@example...|555-0107|  South|\n",
            "|          8|  Henry Walker|henry.walker@exam...|555-0108|   East|\n",
            "|          9|   Isla Harris|isla.harris@examp...|555-0109|   West|\n",
            "|         10|    Jack Young|jack.young@exampl...|555-0110|Central|\n",
            "|         11|    Karen King|karen.king@exampl...|555-0111|  North|\n",
            "|         12|    Liam Scott|liam.scott@exampl...|555-0112|  South|\n",
            "|         13|     Mia Adams|mia.adams@example...|555-0113|   East|\n",
            "|         14|    Noah Baker|noah.baker@exampl...|555-0114|   West|\n",
            "|         15|  Olivia Clark|olivia.clark@exam...|555-0115|Central|\n",
            "|         16|   Paul Carter|paul.carter@examp...|555-0116|  North|\n",
            "|         17|Quinn Mitchell|quinn.mitchell@ex...|555-0117|  South|\n",
            "|         18|  Rachel Perez|rachel.perez@exam...|555-0118|   East|\n",
            "|         19|     Sam Evans|sam.evans@example...|555-0119|   West|\n",
            "|         20|  Tina Edwards|tina.edwards@exam...|555-0120|Central|\n",
            "+-----------+--------------+--------------------+--------+-------+\n",
            "only showing top 20 rows\n",
            "\n",
            "+-----------+--------+----------+-------------+------+--------------------+-------------+--------------------+--------+-------+\n",
            "|customer_id|order_id|order_date|delivery_date|amount|        product_name|         name|               email|   phone| region|\n",
            "+-----------+--------+----------+-------------+------+--------------------+-------------+--------------------+--------+-------+\n",
            "|          1|      42| #########|    #########| 190.2|   Bluetooth Speaker|Alice Johnson|alice.johnson@exa...|555-0101|  North|\n",
            "|          1|      15| #########|    #########|  99.0|    Gaming Mouse Pad|Alice Johnson|alice.johnson@exa...|555-0101|  North|\n",
            "|          1|       1| #########|    #########|250.75|      Wireless Mouse|Alice Johnson|alice.johnson@exa...|555-0101|  North|\n",
            "|          2|      40| #########|    #########| 330.0|        Gaming Chair|    Bob Smith|bob.smith@example...|555-0102|  South|\n",
            "|          2|      24| #########|    #########|  95.0|    Smart Light Bulb|    Bob Smith|bob.smith@example...|555-0102|  South|\n",
            "|          3|      41| #########|    #########| 150.0|Wireless Charging...|  Carol Davis|carol.davis@examp...|555-0103|   East|\n",
            "|          3|       6| #########|    #########| 150.0|    Portable Charger|  Carol Davis|carol.davis@examp...|555-0103|   East|\n",
            "|          3|       2| #########|    #########| 89.99|Bluetooth Headphones|  Carol Davis|carol.davis@examp...|555-0103|   East|\n",
            "|          4|      39| #########|    #########|305.45|   Smartphone Gimbal| David Wilson|david.wilson@exam...|555-0104|   West|\n",
            "|          5|      43| #########|    #########| 170.0|          Smartwatch|    Eva Brown|eva.brown@example...|555-0105|Central|\n",
            "|          5|       3| #########|    #########| 120.5| External Hard Drive|    Eva Brown|eva.brown@example...|555-0105|Central|\n",
            "|          6|      23| #########|    #########| 80.25|     Fitness Tracker|  Frank Moore|frank.moore@examp...|555-0106|  North|\n",
            "|          6|      10| #########|    #########| 199.0|          Smartwatch|  Frank Moore|frank.moore@examp...|555-0106|  North|\n",
            "|          7|      22| #########|    #########| 175.5|       Action Camera|    Grace Lee|grace.lee@example...|555-0107|  South|\n",
            "|          7|       4| #########|    #########| 450.0|          Smartphone|    Grace Lee|grace.lee@example...|555-0107|  South|\n",
            "|          8|      46| #########|    #########|275.75|    Wireless Earbuds| Henry Walker|henry.walker@exam...|555-0108|   East|\n",
            "|          8|      38| #########|    #########| 280.0|    4K Action Camera| Henry Walker|henry.walker@exam...|555-0108|   East|\n",
            "|          9|      33| #########|    #########| 135.0|        Tablet Stand|  Isla Harris|isla.harris@examp...|555-0109|   West|\n",
            "|         10|      44| #########|    #########|220.35|  Laptop Cooling Pad|   Jack Young|jack.young@exampl...|555-0110|Central|\n",
            "|         10|       5| #########|    #########| 300.1|     Gaming Keyboard|   Jack Young|jack.young@exampl...|555-0110|Central|\n",
            "+-----------+--------+----------+-------------+------+--------------------+-------------+--------------------+--------+-------+\n",
            "only showing top 20 rows\n",
            "\n",
            "+--------+-----------+----------+-------------+------+--------------------+-------------+--------------------+--------+-------+--------------+-----------+\n",
            "|order_id|customer_id|order_date|delivery_date|amount|        product_name|         name|               email|   phone| region|current_status|status_date|\n",
            "+--------+-----------+----------+-------------+------+--------------------+-------------+--------------------+--------+-------+--------------+-----------+\n",
            "|      42|          1| #########|    #########| 190.2|   Bluetooth Speaker|Alice Johnson|alice.johnson@exa...|555-0101|  North|     Delivered| 2025-06-18|\n",
            "|      15|          1| #########|    #########|  99.0|    Gaming Mouse Pad|Alice Johnson|alice.johnson@exa...|555-0101|  North|     Delivered| 2025-05-22|\n",
            "|       1|          1| #########|    #########|250.75|      Wireless Mouse|Alice Johnson|alice.johnson@exa...|555-0101|  North|     Delivered| 2025-05-06|\n",
            "|      40|          2| #########|    #########| 330.0|        Gaming Chair|    Bob Smith|bob.smith@example...|555-0102|  South|     Delivered| 2025-06-16|\n",
            "|      24|          2| #########|    #########|  95.0|    Smart Light Bulb|    Bob Smith|bob.smith@example...|555-0102|  South|     Delivered| 2025-05-31|\n",
            "|      41|          3| #########|    #########| 150.0|Wireless Charging...|  Carol Davis|carol.davis@examp...|555-0103|   East|    In Transit| 2025-06-17|\n",
            "|       6|          3| #########|    #########| 150.0|    Portable Charger|  Carol Davis|carol.davis@examp...|555-0103|   East|    In Transit| 2025-05-11|\n",
            "|       2|          3| #########|    #########| 89.99|Bluetooth Headphones|  Carol Davis|carol.davis@examp...|555-0103|   East|    In Transit| 2025-05-07|\n",
            "|      39|          4| #########|    #########|305.45|   Smartphone Gimbal| David Wilson|david.wilson@exam...|555-0104|   West|     Delivered| 2025-06-15|\n",
            "|      43|          5| #########|    #########| 170.0|          Smartwatch|    Eva Brown|eva.brown@example...|555-0105|Central|     Delivered| 2025-06-19|\n",
            "|       3|          5| #########|    #########| 120.5| External Hard Drive|    Eva Brown|eva.brown@example...|555-0105|Central|       Delayed| 2025-05-08|\n",
            "|      23|          6| #########|    #########| 80.25|     Fitness Tracker|  Frank Moore|frank.moore@examp...|555-0106|  North|       Delayed| 2025-05-30|\n",
            "|      10|          6| #########|    #########| 199.0|          Smartwatch|  Frank Moore|frank.moore@examp...|555-0106|  North|     Delivered| 2025-05-17|\n",
            "|      22|          7| #########|    #########| 175.5|       Action Camera|    Grace Lee|grace.lee@example...|555-0107|  South|     Delivered| 2025-05-29|\n",
            "|       4|          7| #########|    #########| 450.0|          Smartphone|    Grace Lee|grace.lee@example...|555-0107|  South|     Cancelled| 2025-05-09|\n",
            "|      46|          8| #########|    #########|275.75|    Wireless Earbuds| Henry Walker|henry.walker@exam...|555-0108|   East|    In Transit| 2025-06-22|\n",
            "|      38|          8| #########|    #########| 280.0|    4K Action Camera| Henry Walker|henry.walker@exam...|555-0108|   East|    In Transit| 2025-06-14|\n",
            "|      33|          9| #########|    #########| 135.0|        Tablet Stand|  Isla Harris|isla.harris@examp...|555-0109|   West|     Delivered| 2025-06-09|\n",
            "|      44|         10| #########|    #########|220.35|  Laptop Cooling Pad|   Jack Young|jack.young@exampl...|555-0110|Central|       Delayed| 2025-06-20|\n",
            "|       5|         10| #########|    #########| 300.1|     Gaming Keyboard|   Jack Young|jack.young@exampl...|555-0110|Central|     Delivered| 2025-05-12|\n",
            "+--------+-----------+----------+-------------+------+--------------------+-------------+--------------------+--------+-------+--------------+-----------+\n",
            "only showing top 20 rows\n",
            "\n"
          ]
        }
      ]
    },
    {
      "cell_type": "code",
      "source": [
        "spark.stop()"
      ],
      "metadata": {
        "id": "JRW-49oESLdf"
      },
      "execution_count": 11,
      "outputs": []
    }
  ]
}