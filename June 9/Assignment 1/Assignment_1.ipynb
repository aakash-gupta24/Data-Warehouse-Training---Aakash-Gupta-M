{
  "nbformat": 4,
  "nbformat_minor": 0,
  "metadata": {
    "colab": {
      "provenance": []
    },
    "kernelspec": {
      "name": "python3",
      "display_name": "Python 3"
    },
    "language_info": {
      "name": "python"
    }
  },
  "cells": [
    {
      "cell_type": "code",
      "source": [
        "from pyspark.sql import SparkSession\n",
        "from pyspark.sql import SparkSession\n",
        "from pyspark.sql.functions import when, year, sum as _sum\n",
        "\n",
        "spark=SparkSession.builder.appName(\"June9Assignment1\").getOrCreate()\n",
        "spark"
      ],
      "metadata": {
        "colab": {
          "base_uri": "https://localhost:8080/",
          "height": 221
        },
        "id": "RxHp8XE36KGl",
        "outputId": "a2d62442-a991-4e92-e7d6-67e10e28983d"
      },
      "execution_count": 91,
      "outputs": [
        {
          "output_type": "execute_result",
          "data": {
            "text/plain": [
              "<pyspark.sql.session.SparkSession at 0x78ae684d1190>"
            ],
            "text/html": [
              "\n",
              "            <div>\n",
              "                <p><b>SparkSession - in-memory</b></p>\n",
              "                \n",
              "        <div>\n",
              "            <p><b>SparkContext</b></p>\n",
              "\n",
              "            <p><a href=\"http://d36dd103b069:4040\">Spark UI</a></p>\n",
              "\n",
              "            <dl>\n",
              "              <dt>Version</dt>\n",
              "                <dd><code>v3.5.1</code></dd>\n",
              "              <dt>Master</dt>\n",
              "                <dd><code>local[*]</code></dd>\n",
              "              <dt>AppName</dt>\n",
              "                <dd><code>June9Assignment1</code></dd>\n",
              "            </dl>\n",
              "        </div>\n",
              "        \n",
              "            </div>\n",
              "        "
            ]
          },
          "metadata": {},
          "execution_count": 91
        }
      ]
    },
    {
      "cell_type": "code",
      "execution_count": 92,
      "metadata": {
        "colab": {
          "base_uri": "https://localhost:8080/"
        },
        "id": "c5Got9pi5nGz",
        "outputId": "ed6fed3c-0241-4460-8840-c4dbf0f13e8c"
      },
      "outputs": [
        {
          "output_type": "stream",
          "name": "stdout",
          "text": [
            "+----------+-----+-----------------+---------+----------+\n",
            "|CustomerID| Name|            Email|     City|SignupDate|\n",
            "+----------+-----+-----------------+---------+----------+\n",
            "|       101|  Ali|    ali@gmail.com|   Mumbai|2022-05-10|\n",
            "|       102| Neha|   neha@yahoo.com|    Delhi|2023-01-15|\n",
            "|       103| Ravi| ravi@hotmail.com|Bangalore|2021-11-01|\n",
            "|       104|Sneha|sneha@outlook.com|Hyderabad|2020-07-22|\n",
            "|       105| Amit|   amit@gmail.com|  Chennai|2023-03-10|\n",
            "|       106| Test|   amit@gmail.com|     NULL|2023-03-10|\n",
            "+----------+-----+-----------------+---------+----------+\n",
            "\n",
            "+-------+----------+---------+-----------+--------+-------+----------+\n",
            "|OrderID|CustomerID|  Product|   Category|Quantity|  Price| OrderDate|\n",
            "+-------+----------+---------+-----------+--------+-------+----------+\n",
            "|      1|       101|   Laptop|Electronics|       2|50000.0|2024-01-10|\n",
            "|      2|       101|    Mouse|Electronics|       1| 1200.0|2024-01-15|\n",
            "|      3|       102|   Tablet|Electronics|       1|20000.0|2024-02-01|\n",
            "|      4|       103|Bookshelf|  Furniture|       1| 3500.0|2024-02-10|\n",
            "|      5|       104|    Mixer| Appliances|       1| 5000.0|2024-02-15|\n",
            "|      6|       105| Notebook| Stationery|       5|  500.0|2024-03-01|\n",
            "|      7|       102|    Phone|Electronics|       1|30000.0|2024-03-02|\n",
            "+-------+----------+---------+-----------+--------+-------+----------+\n",
            "\n",
            "root\n",
            " |-- CustomerID: integer (nullable = true)\n",
            " |-- Name: string (nullable = true)\n",
            " |-- Email: string (nullable = true)\n",
            " |-- City: string (nullable = true)\n",
            " |-- SignupDate: date (nullable = true)\n",
            "\n",
            "root\n",
            " |-- OrderID: integer (nullable = true)\n",
            " |-- CustomerID: integer (nullable = true)\n",
            " |-- Product: string (nullable = true)\n",
            " |-- Category: string (nullable = true)\n",
            " |-- Quantity: integer (nullable = true)\n",
            " |-- Price: double (nullable = true)\n",
            " |-- OrderDate: date (nullable = true)\n",
            "\n",
            "6\n",
            "7\n",
            "+---------+\n",
            "|     City|\n",
            "+---------+\n",
            "|Bangalore|\n",
            "|  Chennai|\n",
            "|   Mumbai|\n",
            "|    Delhi|\n",
            "|Hyderabad|\n",
            "|     NULL|\n",
            "+---------+\n",
            "\n"
          ]
        }
      ],
      "source": [
        "#Load both CSV files with schema inference.\n",
        "df_spark_customers = spark.read.csv(\"/content/customers.csv\", header=True, inferSchema=True)\n",
        "df_spark_orders = spark.read.csv(\"/content/orders.csv\", header=True, inferSchema=True)\n",
        "df_spark_customers.show()\n",
        "df_spark_orders.show()\n",
        "#List all columns and data types.\n",
        "df_spark_customers.printSchema()\n",
        "df_spark_orders.printSchema()\n",
        "#Count the total number of customers and orders.\n",
        "print(df_spark_customers.count())\n",
        "print(df_spark_orders.count())\n",
        "#Show distinct cities.\n",
        "df_spark_customers.select(\"City\").distinct().show()"
      ]
    },
    {
      "cell_type": "code",
      "source": [
        "#Add a column TotalAmount = Price * Quantity .\n",
        "df_spark_orders = df_spark_orders.withColumn(\"TotalAmount\", df_spark_orders.Price * df_spark_orders.Quantity)\n",
        "df_spark_orders.show()\n",
        "#Create a new column OrderYear from OrderDate .\n",
        "df_spark_orders = df_spark_orders.withColumn(\"OrderYear\", year(df_spark_orders.OrderDate))\n",
        "df_spark_orders.show()\n",
        "#Filter orders with TotalAmount > 10,000 .\n",
        "df_spark_orders.filter(df_spark_orders.TotalAmount > 10000).show()\n",
        "#Drop the Email column from customers .\n",
        "df_spark_customers.drop(\"Email\").show()"
      ],
      "metadata": {
        "colab": {
          "base_uri": "https://localhost:8080/"
        },
        "id": "zhG3UWxN7h64",
        "outputId": "f8722a04-59be-433f-c35c-78870f230d35"
      },
      "execution_count": 93,
      "outputs": [
        {
          "output_type": "stream",
          "name": "stdout",
          "text": [
            "+-------+----------+---------+-----------+--------+-------+----------+-----------+\n",
            "|OrderID|CustomerID|  Product|   Category|Quantity|  Price| OrderDate|TotalAmount|\n",
            "+-------+----------+---------+-----------+--------+-------+----------+-----------+\n",
            "|      1|       101|   Laptop|Electronics|       2|50000.0|2024-01-10|   100000.0|\n",
            "|      2|       101|    Mouse|Electronics|       1| 1200.0|2024-01-15|     1200.0|\n",
            "|      3|       102|   Tablet|Electronics|       1|20000.0|2024-02-01|    20000.0|\n",
            "|      4|       103|Bookshelf|  Furniture|       1| 3500.0|2024-02-10|     3500.0|\n",
            "|      5|       104|    Mixer| Appliances|       1| 5000.0|2024-02-15|     5000.0|\n",
            "|      6|       105| Notebook| Stationery|       5|  500.0|2024-03-01|     2500.0|\n",
            "|      7|       102|    Phone|Electronics|       1|30000.0|2024-03-02|    30000.0|\n",
            "+-------+----------+---------+-----------+--------+-------+----------+-----------+\n",
            "\n",
            "+-------+----------+---------+-----------+--------+-------+----------+-----------+---------+\n",
            "|OrderID|CustomerID|  Product|   Category|Quantity|  Price| OrderDate|TotalAmount|OrderYear|\n",
            "+-------+----------+---------+-----------+--------+-------+----------+-----------+---------+\n",
            "|      1|       101|   Laptop|Electronics|       2|50000.0|2024-01-10|   100000.0|     2024|\n",
            "|      2|       101|    Mouse|Electronics|       1| 1200.0|2024-01-15|     1200.0|     2024|\n",
            "|      3|       102|   Tablet|Electronics|       1|20000.0|2024-02-01|    20000.0|     2024|\n",
            "|      4|       103|Bookshelf|  Furniture|       1| 3500.0|2024-02-10|     3500.0|     2024|\n",
            "|      5|       104|    Mixer| Appliances|       1| 5000.0|2024-02-15|     5000.0|     2024|\n",
            "|      6|       105| Notebook| Stationery|       5|  500.0|2024-03-01|     2500.0|     2024|\n",
            "|      7|       102|    Phone|Electronics|       1|30000.0|2024-03-02|    30000.0|     2024|\n",
            "+-------+----------+---------+-----------+--------+-------+----------+-----------+---------+\n",
            "\n",
            "+-------+----------+-------+-----------+--------+-------+----------+-----------+---------+\n",
            "|OrderID|CustomerID|Product|   Category|Quantity|  Price| OrderDate|TotalAmount|OrderYear|\n",
            "+-------+----------+-------+-----------+--------+-------+----------+-----------+---------+\n",
            "|      1|       101| Laptop|Electronics|       2|50000.0|2024-01-10|   100000.0|     2024|\n",
            "|      3|       102| Tablet|Electronics|       1|20000.0|2024-02-01|    20000.0|     2024|\n",
            "|      7|       102|  Phone|Electronics|       1|30000.0|2024-03-02|    30000.0|     2024|\n",
            "+-------+----------+-------+-----------+--------+-------+----------+-----------+---------+\n",
            "\n",
            "+----------+-----+---------+----------+\n",
            "|CustomerID| Name|     City|SignupDate|\n",
            "+----------+-----+---------+----------+\n",
            "|       101|  Ali|   Mumbai|2022-05-10|\n",
            "|       102| Neha|    Delhi|2023-01-15|\n",
            "|       103| Ravi|Bangalore|2021-11-01|\n",
            "|       104|Sneha|Hyderabad|2020-07-22|\n",
            "|       105| Amit|  Chennai|2023-03-10|\n",
            "|       106| Test|     NULL|2023-03-10|\n",
            "+----------+-----+---------+----------+\n",
            "\n"
          ]
        }
      ]
    },
    {
      "cell_type": "code",
      "source": [
        "#Simulate a null in City and fill it with “Unknown”.\n",
        "df_spark_customers = df_spark_customers.withColumn(\"City\", when(df_spark_customers.City.isNull(), \"Unknown\").otherwise(df_spark_customers.City))\n",
        "df_spark_customers.show()\n",
        "#Label customers as “Loyal” if SignupDate is before 2022, else “New”.\n",
        "df_spark_customers = df_spark_customers.withColumn(\"CustomerType\", when(df_spark_customers.SignupDate < \"2022-01-01\", \"Loyal\").otherwise(\"New\"))\n",
        "df_spark_customers.show()\n",
        "#Create OrderType column: \"Low\" if < 5,000, \"High\" if ≥ 5,000.\n",
        "df_spark_orders = df_spark_orders.withColumn(\"OrderType\", when(df_spark_orders.TotalAmount < 5000, \"Low\").otherwise(\"High\"))\n",
        "df_spark_orders.show()"
      ],
      "metadata": {
        "colab": {
          "base_uri": "https://localhost:8080/"
        },
        "id": "1NDLWJH89AQg",
        "outputId": "5fca7b90-2a26-4584-8015-3fdeb6cb2f55"
      },
      "execution_count": 94,
      "outputs": [
        {
          "output_type": "stream",
          "name": "stdout",
          "text": [
            "+----------+-----+-----------------+---------+----------+\n",
            "|CustomerID| Name|            Email|     City|SignupDate|\n",
            "+----------+-----+-----------------+---------+----------+\n",
            "|       101|  Ali|    ali@gmail.com|   Mumbai|2022-05-10|\n",
            "|       102| Neha|   neha@yahoo.com|    Delhi|2023-01-15|\n",
            "|       103| Ravi| ravi@hotmail.com|Bangalore|2021-11-01|\n",
            "|       104|Sneha|sneha@outlook.com|Hyderabad|2020-07-22|\n",
            "|       105| Amit|   amit@gmail.com|  Chennai|2023-03-10|\n",
            "|       106| Test|   amit@gmail.com|  Unknown|2023-03-10|\n",
            "+----------+-----+-----------------+---------+----------+\n",
            "\n",
            "+----------+-----+-----------------+---------+----------+------------+\n",
            "|CustomerID| Name|            Email|     City|SignupDate|CustomerType|\n",
            "+----------+-----+-----------------+---------+----------+------------+\n",
            "|       101|  Ali|    ali@gmail.com|   Mumbai|2022-05-10|         New|\n",
            "|       102| Neha|   neha@yahoo.com|    Delhi|2023-01-15|         New|\n",
            "|       103| Ravi| ravi@hotmail.com|Bangalore|2021-11-01|       Loyal|\n",
            "|       104|Sneha|sneha@outlook.com|Hyderabad|2020-07-22|       Loyal|\n",
            "|       105| Amit|   amit@gmail.com|  Chennai|2023-03-10|         New|\n",
            "|       106| Test|   amit@gmail.com|  Unknown|2023-03-10|         New|\n",
            "+----------+-----+-----------------+---------+----------+------------+\n",
            "\n",
            "+-------+----------+---------+-----------+--------+-------+----------+-----------+---------+---------+\n",
            "|OrderID|CustomerID|  Product|   Category|Quantity|  Price| OrderDate|TotalAmount|OrderYear|OrderType|\n",
            "+-------+----------+---------+-----------+--------+-------+----------+-----------+---------+---------+\n",
            "|      1|       101|   Laptop|Electronics|       2|50000.0|2024-01-10|   100000.0|     2024|     High|\n",
            "|      2|       101|    Mouse|Electronics|       1| 1200.0|2024-01-15|     1200.0|     2024|      Low|\n",
            "|      3|       102|   Tablet|Electronics|       1|20000.0|2024-02-01|    20000.0|     2024|     High|\n",
            "|      4|       103|Bookshelf|  Furniture|       1| 3500.0|2024-02-10|     3500.0|     2024|      Low|\n",
            "|      5|       104|    Mixer| Appliances|       1| 5000.0|2024-02-15|     5000.0|     2024|     High|\n",
            "|      6|       105| Notebook| Stationery|       5|  500.0|2024-03-01|     2500.0|     2024|      Low|\n",
            "|      7|       102|    Phone|Electronics|       1|30000.0|2024-03-02|    30000.0|     2024|     High|\n",
            "+-------+----------+---------+-----------+--------+-------+----------+-----------+---------+---------+\n",
            "\n"
          ]
        }
      ]
    },
    {
      "cell_type": "code",
      "source": [
        "#Join customers and orders on CustomerID .\n",
        "df_spark_customers_orders = df_spark_customers.join(df_spark_orders, \"CustomerID\", \"inner\")\n",
        "df_spark_customers_orders.show()\n",
        "#Get total orders and revenue per city.\n",
        "df_spark_customers_orders.groupBy(\"City\").agg({\"OrderID\": \"count\", \"TotalAmount\": \"sum\"}).show()\n",
        "#Show top 3 customers by total spend.\n",
        "df_spark_customers_orders.select(\"CustomerID\", \"TotalAmount\").groupBy(\"CustomerID\").agg(_sum(\"TotalAmount\").alias(\"TotalSpent\")).orderBy(\"TotalSpent\", ascending=False).show(3)\n",
        "#Count how many products each category has sold.\n",
        "df_spark_customers_orders.groupBy(\"Category\").agg({\"Quantity\": \"sum\"}).show()"
      ],
      "metadata": {
        "colab": {
          "base_uri": "https://localhost:8080/"
        },
        "id": "5zMpDFTf-Yrr",
        "outputId": "53d25986-d72c-476c-9b52-64843d319e92"
      },
      "execution_count": 95,
      "outputs": [
        {
          "output_type": "stream",
          "name": "stdout",
          "text": [
            "+----------+-----+-----------------+---------+----------+------------+-------+---------+-----------+--------+-------+----------+-----------+---------+---------+\n",
            "|CustomerID| Name|            Email|     City|SignupDate|CustomerType|OrderID|  Product|   Category|Quantity|  Price| OrderDate|TotalAmount|OrderYear|OrderType|\n",
            "+----------+-----+-----------------+---------+----------+------------+-------+---------+-----------+--------+-------+----------+-----------+---------+---------+\n",
            "|       101|  Ali|    ali@gmail.com|   Mumbai|2022-05-10|         New|      1|   Laptop|Electronics|       2|50000.0|2024-01-10|   100000.0|     2024|     High|\n",
            "|       101|  Ali|    ali@gmail.com|   Mumbai|2022-05-10|         New|      2|    Mouse|Electronics|       1| 1200.0|2024-01-15|     1200.0|     2024|      Low|\n",
            "|       102| Neha|   neha@yahoo.com|    Delhi|2023-01-15|         New|      3|   Tablet|Electronics|       1|20000.0|2024-02-01|    20000.0|     2024|     High|\n",
            "|       103| Ravi| ravi@hotmail.com|Bangalore|2021-11-01|       Loyal|      4|Bookshelf|  Furniture|       1| 3500.0|2024-02-10|     3500.0|     2024|      Low|\n",
            "|       104|Sneha|sneha@outlook.com|Hyderabad|2020-07-22|       Loyal|      5|    Mixer| Appliances|       1| 5000.0|2024-02-15|     5000.0|     2024|     High|\n",
            "|       105| Amit|   amit@gmail.com|  Chennai|2023-03-10|         New|      6| Notebook| Stationery|       5|  500.0|2024-03-01|     2500.0|     2024|      Low|\n",
            "|       102| Neha|   neha@yahoo.com|    Delhi|2023-01-15|         New|      7|    Phone|Electronics|       1|30000.0|2024-03-02|    30000.0|     2024|     High|\n",
            "+----------+-----+-----------------+---------+----------+------------+-------+---------+-----------+--------+-------+----------+-----------+---------+---------+\n",
            "\n",
            "+---------+----------------+--------------+\n",
            "|     City|sum(TotalAmount)|count(OrderID)|\n",
            "+---------+----------------+--------------+\n",
            "|Bangalore|          3500.0|             1|\n",
            "|  Chennai|          2500.0|             1|\n",
            "|   Mumbai|        101200.0|             2|\n",
            "|    Delhi|         50000.0|             2|\n",
            "|Hyderabad|          5000.0|             1|\n",
            "+---------+----------------+--------------+\n",
            "\n",
            "+----------+----------+\n",
            "|CustomerID|TotalSpent|\n",
            "+----------+----------+\n",
            "|       101|  101200.0|\n",
            "|       102|   50000.0|\n",
            "|       104|    5000.0|\n",
            "+----------+----------+\n",
            "only showing top 3 rows\n",
            "\n",
            "+-----------+-------------+\n",
            "|   Category|sum(Quantity)|\n",
            "+-----------+-------------+\n",
            "| Stationery|            5|\n",
            "|Electronics|            5|\n",
            "|  Furniture|            1|\n",
            "| Appliances|            1|\n",
            "+-----------+-------------+\n",
            "\n"
          ]
        }
      ]
    },
    {
      "cell_type": "code",
      "source": [
        "# Create database sales and switch to it.\n",
        "spark.sql(\"create database if not exists sales\")\n",
        "spark.sql(\"use sales\")\n",
        "# Save both datasets as tables in the sales database.\n",
        "# Overwrite the 'customers' table in the database\n",
        "df_spark_customers.write.mode('overwrite').saveAsTable(\"customers\")\n",
        "df_spark_orders.write.mode('overwrite').saveAsTable(\"orders\")\n",
        "# Write SQL to:\n",
        "# List all orders by customers from “Delhi”.\n",
        "spark.sql(\"select * from orders where CustomerID in (select CustomerID from customers where City = 'Delhi')\").show()\n",
        "# Find average order value in each category.\n",
        "spark.sql(\"select Category, avg(TotalAmount) as AvgOrderValue from orders group by Category\").show()\n",
        "# Create a view monthly_orders with month-wise total amount.\n",
        "spark.sql(\"create or replace view monthly_orders as select month(OrderDate) as Month, sum(TotalAmount) as TotalAmount from orders group by month(OrderDate)\")\n",
        "spark.sql(\"select * from monthly_orders\").show()"
      ],
      "metadata": {
        "colab": {
          "base_uri": "https://localhost:8080/"
        },
        "id": "wSo6_U9t-vFf",
        "outputId": "c081edf5-aa48-4265-c2ea-25084c179f38"
      },
      "execution_count": 96,
      "outputs": [
        {
          "output_type": "stream",
          "name": "stdout",
          "text": [
            "+-------+----------+-------+-----------+--------+-------+----------+-----------+---------+---------+\n",
            "|OrderID|CustomerID|Product|   Category|Quantity|  Price| OrderDate|TotalAmount|OrderYear|OrderType|\n",
            "+-------+----------+-------+-----------+--------+-------+----------+-----------+---------+---------+\n",
            "|      3|       102| Tablet|Electronics|       1|20000.0|2024-02-01|    20000.0|     2024|     High|\n",
            "|      7|       102|  Phone|Electronics|       1|30000.0|2024-03-02|    30000.0|     2024|     High|\n",
            "+-------+----------+-------+-----------+--------+-------+----------+-----------+---------+---------+\n",
            "\n",
            "+-----------+-------------+\n",
            "|   Category|AvgOrderValue|\n",
            "+-----------+-------------+\n",
            "| Stationery|       2500.0|\n",
            "|Electronics|      37800.0|\n",
            "|  Furniture|       3500.0|\n",
            "| Appliances|       5000.0|\n",
            "+-----------+-------------+\n",
            "\n",
            "+-----+-----------+\n",
            "|Month|TotalAmount|\n",
            "+-----+-----------+\n",
            "|    1|   101200.0|\n",
            "|    3|    32500.0|\n",
            "|    2|    28500.0|\n",
            "+-----+-----------+\n",
            "\n"
          ]
        }
      ]
    },
    {
      "cell_type": "code",
      "source": [
        "#Mask emails using regex (e.g a***@gmail.com ).\n",
        "from pyspark.sql.functions import udf\n",
        "from pyspark.sql.functions import col\n",
        "from pyspark.sql.types import StringType\n",
        "def mask_email(email):\n",
        "    parts = email.split('@')\n",
        "    if len(parts) == 2:\n",
        "        username, domain = parts\n",
        "        masked_username = username[0] + '*' * (len(username) - 2) + username[-1]\n",
        "        return f\"{masked_username}@{domain}\"\n",
        "    else:\n",
        "        return email\n",
        "mask_email_udf = udf(mask_email, StringType())\n",
        "customers_df = df_spark_customers.withColumn(\"Email\", mask_email_udf(col(\"Email\")))\n",
        "customers_df.show()\n",
        "#Concatenate Name and City as “Name from City”.\n",
        "from pyspark.sql.functions import concat, col, lit\n",
        "df_spark_customers = df_spark_customers.withColumn(\"NameFromCity\", concat(col(\"Name\"), lit(\" from \"), col(\"City\")))\n",
        "df_spark_customers.show()\n",
        "#Use datediff() to calculate customer age in days.\n",
        "from pyspark.sql.functions import datediff,current_date\n",
        "df_spark_customers = df_spark_customers.withColumn(\"AgeInDays\", datediff(current_date(), col(\"SignupDate\")))\n",
        "df_spark_customers.show()\n",
        "#Extract month name from OrderDate .\n",
        "from pyspark.sql.functions import month, date_format\n",
        "df_spark_orders = df_spark_orders.withColumn(\"MonthName\", date_format(col(\"OrderDate\"), \"MMMM\"))\n",
        "df_spark_orders.show()"
      ],
      "metadata": {
        "colab": {
          "base_uri": "https://localhost:8080/"
        },
        "id": "hMK9wqqWCc8k",
        "outputId": "7334511c-d4aa-4695-e5b8-28425a392159"
      },
      "execution_count": 97,
      "outputs": [
        {
          "output_type": "stream",
          "name": "stdout",
          "text": [
            "+----------+-----+-----------------+---------+----------+------------+\n",
            "|CustomerID| Name|            Email|     City|SignupDate|CustomerType|\n",
            "+----------+-----+-----------------+---------+----------+------------+\n",
            "|       101|  Ali|    a*i@gmail.com|   Mumbai|2022-05-10|         New|\n",
            "|       102| Neha|   n**a@yahoo.com|    Delhi|2023-01-15|         New|\n",
            "|       103| Ravi| r**i@hotmail.com|Bangalore|2021-11-01|       Loyal|\n",
            "|       104|Sneha|s***a@outlook.com|Hyderabad|2020-07-22|       Loyal|\n",
            "|       105| Amit|   a**t@gmail.com|  Chennai|2023-03-10|         New|\n",
            "|       106| Test|   a**t@gmail.com|  Unknown|2023-03-10|         New|\n",
            "+----------+-----+-----------------+---------+----------+------------+\n",
            "\n",
            "+----------+-----+-----------------+---------+----------+------------+--------------------+\n",
            "|CustomerID| Name|            Email|     City|SignupDate|CustomerType|        NameFromCity|\n",
            "+----------+-----+-----------------+---------+----------+------------+--------------------+\n",
            "|       101|  Ali|    ali@gmail.com|   Mumbai|2022-05-10|         New|     Ali from Mumbai|\n",
            "|       102| Neha|   neha@yahoo.com|    Delhi|2023-01-15|         New|     Neha from Delhi|\n",
            "|       103| Ravi| ravi@hotmail.com|Bangalore|2021-11-01|       Loyal| Ravi from Bangalore|\n",
            "|       104|Sneha|sneha@outlook.com|Hyderabad|2020-07-22|       Loyal|Sneha from Hyderabad|\n",
            "|       105| Amit|   amit@gmail.com|  Chennai|2023-03-10|         New|   Amit from Chennai|\n",
            "|       106| Test|   amit@gmail.com|  Unknown|2023-03-10|         New|   Test from Unknown|\n",
            "+----------+-----+-----------------+---------+----------+------------+--------------------+\n",
            "\n",
            "+----------+-----+-----------------+---------+----------+------------+--------------------+---------+\n",
            "|CustomerID| Name|            Email|     City|SignupDate|CustomerType|        NameFromCity|AgeInDays|\n",
            "+----------+-----+-----------------+---------+----------+------------+--------------------+---------+\n",
            "|       101|  Ali|    ali@gmail.com|   Mumbai|2022-05-10|         New|     Ali from Mumbai|     1126|\n",
            "|       102| Neha|   neha@yahoo.com|    Delhi|2023-01-15|         New|     Neha from Delhi|      876|\n",
            "|       103| Ravi| ravi@hotmail.com|Bangalore|2021-11-01|       Loyal| Ravi from Bangalore|     1316|\n",
            "|       104|Sneha|sneha@outlook.com|Hyderabad|2020-07-22|       Loyal|Sneha from Hyderabad|     1783|\n",
            "|       105| Amit|   amit@gmail.com|  Chennai|2023-03-10|         New|   Amit from Chennai|      822|\n",
            "|       106| Test|   amit@gmail.com|  Unknown|2023-03-10|         New|   Test from Unknown|      822|\n",
            "+----------+-----+-----------------+---------+----------+------------+--------------------+---------+\n",
            "\n",
            "+-------+----------+---------+-----------+--------+-------+----------+-----------+---------+---------+---------+\n",
            "|OrderID|CustomerID|  Product|   Category|Quantity|  Price| OrderDate|TotalAmount|OrderYear|OrderType|MonthName|\n",
            "+-------+----------+---------+-----------+--------+-------+----------+-----------+---------+---------+---------+\n",
            "|      1|       101|   Laptop|Electronics|       2|50000.0|2024-01-10|   100000.0|     2024|     High|  January|\n",
            "|      2|       101|    Mouse|Electronics|       1| 1200.0|2024-01-15|     1200.0|     2024|      Low|  January|\n",
            "|      3|       102|   Tablet|Electronics|       1|20000.0|2024-02-01|    20000.0|     2024|     High| February|\n",
            "|      4|       103|Bookshelf|  Furniture|       1| 3500.0|2024-02-10|     3500.0|     2024|      Low| February|\n",
            "|      5|       104|    Mixer| Appliances|       1| 5000.0|2024-02-15|     5000.0|     2024|     High| February|\n",
            "|      6|       105| Notebook| Stationery|       5|  500.0|2024-03-01|     2500.0|     2024|      Low|    March|\n",
            "|      7|       102|    Phone|Electronics|       1|30000.0|2024-03-02|    30000.0|     2024|     High|    March|\n",
            "+-------+----------+---------+-----------+--------+-------+----------+-----------+---------+---------+---------+\n",
            "\n"
          ]
        }
      ]
    },
    {
      "cell_type": "code",
      "source": [
        "#Write a UDF to tag customers:\n",
        "#“Gold” if spend > 50K, “Silver” if 10K–50K, “Bronze” if <10K.\n",
        "from pyspark.sql.functions import udf\n",
        "from pyspark.sql.types import StringType\n",
        "def tag_customer(total_amount):\n",
        "    if total_amount > 50000:\n",
        "        return \"Gold\"\n",
        "    elif total_amount >= 10000:\n",
        "        return \"Silver\"\n",
        "    else:\n",
        "        return \"Bronze\"\n",
        "tag_customer_udf = udf(tag_customer, StringType())\n",
        "df_spark_customers_orders = df_spark_customers_orders.withColumn(\"CustomerTag\", tag_customer_udf(col(\"TotalAmount\")))\n",
        "df_spark_customers_orders.show()\n",
        "#Write a UDF to shorten product names (first 3 letters + ...).\n",
        "def shorten_product_name(product_name):\n",
        "    return product_name[:3] + \"...\"\n",
        "shorten_product_name_udf = udf(shorten_product_name, StringType())\n",
        "df_spark_customers_orders = df_spark_customers_orders.withColumn(\"Product\", shorten_product_name_udf(col(\"Product\")))\n",
        "df_spark_customers_orders.show()\n"
      ],
      "metadata": {
        "colab": {
          "base_uri": "https://localhost:8080/"
        },
        "id": "yTNpUm5OFHzZ",
        "outputId": "44e6dca3-d357-4e50-e15a-2ad252172636"
      },
      "execution_count": 98,
      "outputs": [
        {
          "output_type": "stream",
          "name": "stdout",
          "text": [
            "+----------+-----+-----------------+---------+----------+------------+-------+---------+-----------+--------+-------+----------+-----------+---------+---------+-----------+\n",
            "|CustomerID| Name|            Email|     City|SignupDate|CustomerType|OrderID|  Product|   Category|Quantity|  Price| OrderDate|TotalAmount|OrderYear|OrderType|CustomerTag|\n",
            "+----------+-----+-----------------+---------+----------+------------+-------+---------+-----------+--------+-------+----------+-----------+---------+---------+-----------+\n",
            "|       101|  Ali|    ali@gmail.com|   Mumbai|2022-05-10|         New|      1|   Laptop|Electronics|       2|50000.0|2024-01-10|   100000.0|     2024|     High|       Gold|\n",
            "|       101|  Ali|    ali@gmail.com|   Mumbai|2022-05-10|         New|      2|    Mouse|Electronics|       1| 1200.0|2024-01-15|     1200.0|     2024|      Low|     Bronze|\n",
            "|       102| Neha|   neha@yahoo.com|    Delhi|2023-01-15|         New|      3|   Tablet|Electronics|       1|20000.0|2024-02-01|    20000.0|     2024|     High|     Silver|\n",
            "|       103| Ravi| ravi@hotmail.com|Bangalore|2021-11-01|       Loyal|      4|Bookshelf|  Furniture|       1| 3500.0|2024-02-10|     3500.0|     2024|      Low|     Bronze|\n",
            "|       104|Sneha|sneha@outlook.com|Hyderabad|2020-07-22|       Loyal|      5|    Mixer| Appliances|       1| 5000.0|2024-02-15|     5000.0|     2024|     High|     Bronze|\n",
            "|       105| Amit|   amit@gmail.com|  Chennai|2023-03-10|         New|      6| Notebook| Stationery|       5|  500.0|2024-03-01|     2500.0|     2024|      Low|     Bronze|\n",
            "|       102| Neha|   neha@yahoo.com|    Delhi|2023-01-15|         New|      7|    Phone|Electronics|       1|30000.0|2024-03-02|    30000.0|     2024|     High|     Silver|\n",
            "+----------+-----+-----------------+---------+----------+------------+-------+---------+-----------+--------+-------+----------+-----------+---------+---------+-----------+\n",
            "\n",
            "+----------+-----+-----------------+---------+----------+------------+-------+-------+-----------+--------+-------+----------+-----------+---------+---------+-----------+\n",
            "|CustomerID| Name|            Email|     City|SignupDate|CustomerType|OrderID|Product|   Category|Quantity|  Price| OrderDate|TotalAmount|OrderYear|OrderType|CustomerTag|\n",
            "+----------+-----+-----------------+---------+----------+------------+-------+-------+-----------+--------+-------+----------+-----------+---------+---------+-----------+\n",
            "|       101|  Ali|    ali@gmail.com|   Mumbai|2022-05-10|         New|      1| Lap...|Electronics|       2|50000.0|2024-01-10|   100000.0|     2024|     High|       Gold|\n",
            "|       101|  Ali|    ali@gmail.com|   Mumbai|2022-05-10|         New|      2| Mou...|Electronics|       1| 1200.0|2024-01-15|     1200.0|     2024|      Low|     Bronze|\n",
            "|       102| Neha|   neha@yahoo.com|    Delhi|2023-01-15|         New|      3| Tab...|Electronics|       1|20000.0|2024-02-01|    20000.0|     2024|     High|     Silver|\n",
            "|       103| Ravi| ravi@hotmail.com|Bangalore|2021-11-01|       Loyal|      4| Boo...|  Furniture|       1| 3500.0|2024-02-10|     3500.0|     2024|      Low|     Bronze|\n",
            "|       104|Sneha|sneha@outlook.com|Hyderabad|2020-07-22|       Loyal|      5| Mix...| Appliances|       1| 5000.0|2024-02-15|     5000.0|     2024|     High|     Bronze|\n",
            "|       105| Amit|   amit@gmail.com|  Chennai|2023-03-10|         New|      6| Not...| Stationery|       5|  500.0|2024-03-01|     2500.0|     2024|      Low|     Bronze|\n",
            "|       102| Neha|   neha@yahoo.com|    Delhi|2023-01-15|         New|      7| Pho...|Electronics|       1|30000.0|2024-03-02|    30000.0|     2024|     High|     Silver|\n",
            "+----------+-----+-----------------+---------+----------+------------+-------+-------+-----------+--------+-------+----------+-----------+---------+---------+-----------+\n",
            "\n"
          ]
        }
      ]
    },
    {
      "cell_type": "code",
      "source": [
        "#Save the joined result as a Parquet file.\n",
        "df_spark_customers_orders.write.mode('overwrite').parquet(\"/content/customers_orders.parquet\")\n",
        "#Read it back and verify schema.\n",
        "df_spark_customers_orders_parquet = spark.read.parquet(\"/content/customers_orders.parquet\")\n",
        "df_spark_customers_orders_parquet.printSchema()\n",
        "#Create and query a global temp view.\n",
        "df_spark_customers_orders_parquet.createOrReplaceGlobalTempView(\"customers_orders_parquet\")\n",
        "spark.sql(\"select * from global_temp.customers_orders_parquet\").show()\n",
        "#Compare performance between CSV read and Parquet read.\n",
        "df_spark_customers_orders_csv = spark.read.csv(\"/content/customers.csv\", header=True, inferSchema=True)\n",
        "df_spark_customers_orders_csv.show()\n",
        "df_spark_customers_orders_csv.printSchema()\n",
        "df_spark_customers_orders_csv.createOrReplaceGlobalTempView(\"customers_orders_csv\")\n",
        "spark.sql(\"select * from global_temp.customers_orders_csv\").show()"
      ],
      "metadata": {
        "colab": {
          "base_uri": "https://localhost:8080/"
        },
        "id": "PL2frl-HFmOL",
        "outputId": "1ebc2ea4-44a1-48e7-af05-f001fd321aea"
      },
      "execution_count": 99,
      "outputs": [
        {
          "output_type": "stream",
          "name": "stdout",
          "text": [
            "root\n",
            " |-- CustomerID: integer (nullable = true)\n",
            " |-- Name: string (nullable = true)\n",
            " |-- Email: string (nullable = true)\n",
            " |-- City: string (nullable = true)\n",
            " |-- SignupDate: date (nullable = true)\n",
            " |-- CustomerType: string (nullable = true)\n",
            " |-- OrderID: integer (nullable = true)\n",
            " |-- Product: string (nullable = true)\n",
            " |-- Category: string (nullable = true)\n",
            " |-- Quantity: integer (nullable = true)\n",
            " |-- Price: double (nullable = true)\n",
            " |-- OrderDate: date (nullable = true)\n",
            " |-- TotalAmount: double (nullable = true)\n",
            " |-- OrderYear: integer (nullable = true)\n",
            " |-- OrderType: string (nullable = true)\n",
            " |-- CustomerTag: string (nullable = true)\n",
            "\n",
            "+----------+-----+-----------------+---------+----------+------------+-------+-------+-----------+--------+-------+----------+-----------+---------+---------+-----------+\n",
            "|CustomerID| Name|            Email|     City|SignupDate|CustomerType|OrderID|Product|   Category|Quantity|  Price| OrderDate|TotalAmount|OrderYear|OrderType|CustomerTag|\n",
            "+----------+-----+-----------------+---------+----------+------------+-------+-------+-----------+--------+-------+----------+-----------+---------+---------+-----------+\n",
            "|       101|  Ali|    ali@gmail.com|   Mumbai|2022-05-10|         New|      1| Lap...|Electronics|       2|50000.0|2024-01-10|   100000.0|     2024|     High|       Gold|\n",
            "|       101|  Ali|    ali@gmail.com|   Mumbai|2022-05-10|         New|      2| Mou...|Electronics|       1| 1200.0|2024-01-15|     1200.0|     2024|      Low|     Bronze|\n",
            "|       102| Neha|   neha@yahoo.com|    Delhi|2023-01-15|         New|      3| Tab...|Electronics|       1|20000.0|2024-02-01|    20000.0|     2024|     High|     Silver|\n",
            "|       103| Ravi| ravi@hotmail.com|Bangalore|2021-11-01|       Loyal|      4| Boo...|  Furniture|       1| 3500.0|2024-02-10|     3500.0|     2024|      Low|     Bronze|\n",
            "|       104|Sneha|sneha@outlook.com|Hyderabad|2020-07-22|       Loyal|      5| Mix...| Appliances|       1| 5000.0|2024-02-15|     5000.0|     2024|     High|     Bronze|\n",
            "|       105| Amit|   amit@gmail.com|  Chennai|2023-03-10|         New|      6| Not...| Stationery|       5|  500.0|2024-03-01|     2500.0|     2024|      Low|     Bronze|\n",
            "|       102| Neha|   neha@yahoo.com|    Delhi|2023-01-15|         New|      7| Pho...|Electronics|       1|30000.0|2024-03-02|    30000.0|     2024|     High|     Silver|\n",
            "+----------+-----+-----------------+---------+----------+------------+-------+-------+-----------+--------+-------+----------+-----------+---------+---------+-----------+\n",
            "\n",
            "+----------+-----+-----------------+---------+----------+\n",
            "|CustomerID| Name|            Email|     City|SignupDate|\n",
            "+----------+-----+-----------------+---------+----------+\n",
            "|       101|  Ali|    ali@gmail.com|   Mumbai|2022-05-10|\n",
            "|       102| Neha|   neha@yahoo.com|    Delhi|2023-01-15|\n",
            "|       103| Ravi| ravi@hotmail.com|Bangalore|2021-11-01|\n",
            "|       104|Sneha|sneha@outlook.com|Hyderabad|2020-07-22|\n",
            "|       105| Amit|   amit@gmail.com|  Chennai|2023-03-10|\n",
            "|       106| Test|   amit@gmail.com|     NULL|2023-03-10|\n",
            "+----------+-----+-----------------+---------+----------+\n",
            "\n",
            "root\n",
            " |-- CustomerID: integer (nullable = true)\n",
            " |-- Name: string (nullable = true)\n",
            " |-- Email: string (nullable = true)\n",
            " |-- City: string (nullable = true)\n",
            " |-- SignupDate: date (nullable = true)\n",
            "\n",
            "+----------+-----+-----------------+---------+----------+\n",
            "|CustomerID| Name|            Email|     City|SignupDate|\n",
            "+----------+-----+-----------------+---------+----------+\n",
            "|       101|  Ali|    ali@gmail.com|   Mumbai|2022-05-10|\n",
            "|       102| Neha|   neha@yahoo.com|    Delhi|2023-01-15|\n",
            "|       103| Ravi| ravi@hotmail.com|Bangalore|2021-11-01|\n",
            "|       104|Sneha|sneha@outlook.com|Hyderabad|2020-07-22|\n",
            "|       105| Amit|   amit@gmail.com|  Chennai|2023-03-10|\n",
            "|       106| Test|   amit@gmail.com|     NULL|2023-03-10|\n",
            "+----------+-----+-----------------+---------+----------+\n",
            "\n"
          ]
        }
      ]
    },
    {
      "cell_type": "code",
      "source": [
        "#spark.sql(\"drop database sales\")"
      ],
      "metadata": {
        "id": "A0t5ciGgGrl7"
      },
      "execution_count": 100,
      "outputs": []
    },
    {
      "cell_type": "code",
      "source": [
        "spark.stop()"
      ],
      "metadata": {
        "id": "FGkghTsi6jnU"
      },
      "execution_count": 101,
      "outputs": []
    }
  ]
}