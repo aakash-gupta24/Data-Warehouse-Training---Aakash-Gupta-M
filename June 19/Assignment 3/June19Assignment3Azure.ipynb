{
 "cells": [
  {
   "cell_type": "code",
   "execution_count": 0,
   "metadata": {
    "application/vnd.databricks.v1+cell": {
     "cellMetadata": {
      "byteLimit": 2048000,
      "rowLimit": 10000
     },
     "inputWidgets": {},
     "nuid": "7661e93d-826f-4bb2-a1df-324c9e78d83b",
     "showTitle": false,
     "tableResultSettingsMap": {},
     "title": ""
    }
   },
   "outputs": [
    {
     "data": {
      "text/html": [
       "\n",
       "            <div>\n",
       "                <p><b>SparkSession - hive</b></p>\n",
       "                \n",
       "        <div>\n",
       "            <p><b>SparkContext</b></p>\n",
       "\n",
       "            <p><a href=\"/?o=833800893595081#setting/sparkui/0611-043338-tjd8m6e5/driver-4063223162904832572\">Spark UI</a></p>\n",
       "\n",
       "            <dl>\n",
       "              <dt>Version</dt>\n",
       "                <dd><code>v3.5.0</code></dd>\n",
       "              <dt>Master</dt>\n",
       "                <dd><code>local[*, 4]</code></dd>\n",
       "              <dt>AppName</dt>\n",
       "                <dd><code>Databricks Shell</code></dd>\n",
       "            </dl>\n",
       "        </div>\n",
       "        \n",
       "            </div>\n",
       "        "
      ],
      "text/plain": [
       "<pyspark.sql.session.SparkSession at 0x7d94de67d490>"
      ]
     },
     "execution_count": 47,
     "metadata": {},
     "output_type": "execute_result"
    }
   ],
   "source": [
    "from pyspark.sql import SparkSession\n",
    "spark=SparkSession.builder.appName(\"June19Assignment3\").getOrCreate()\n",
    "spark"
   ]
  },
  {
   "cell_type": "code",
   "execution_count": 0,
   "metadata": {
    "application/vnd.databricks.v1+cell": {
     "cellMetadata": {
      "byteLimit": 2048000,
      "rowLimit": 10000
     },
     "inputWidgets": {},
     "nuid": "83f5d71f-82bf-42d6-940d-7096f387e727",
     "showTitle": false,
     "tableResultSettingsMap": {},
     "title": ""
    }
   },
   "outputs": [
    {
     "name": "stdout",
     "output_type": "stream",
     "text": [
      "+------+------------+-----------+----------+--------+------------+-------------+---------+---------+\n",
      "|ItemID|    ItemName|   Category| Warehouse|StockQty|ReorderLevel|LastRestocked|UnitPrice| Supplier|\n",
      "+------+------------+-----------+----------+--------+------------+-------------+---------+---------+\n",
      "|  I001|      LED TV|Electronics|WarehouseA|      50|          20|   2024-03-15|    30000|   AVTech|\n",
      "|  I002|      Laptop|Electronics|WarehouseB|      10|          15|   2024-04-01|    70000|TechWorld|\n",
      "|  I003|Office Chair|  Furniture|WarehouseA|      40|          10|   2024-03-25|     6000|  ChairCo|\n",
      "|  I004|Refrigerator| Appliances|WarehouseC|       5|          10|   2024-02-20|    25000| FreezeIt|\n",
      "|  I005|     Printer|Electronics|WarehouseB|       3|           5|   2024-03-30|     8000|PrintFast|\n",
      "+------+------------+-----------+----------+--------+------------+-------------+---------+---------+\n",
      "\n",
      "root\n",
      " |-- ItemID: string (nullable = true)\n",
      " |-- ItemName: string (nullable = true)\n",
      " |-- Category: string (nullable = true)\n",
      " |-- Warehouse: string (nullable = true)\n",
      " |-- StockQty: integer (nullable = true)\n",
      " |-- ReorderLevel: integer (nullable = true)\n",
      " |-- LastRestocked: date (nullable = true)\n",
      " |-- UnitPrice: integer (nullable = true)\n",
      " |-- Supplier: string (nullable = true)\n",
      "\n",
      "+---------+-------------------+\n",
      "|Warehouse|ItemsNeedingRestock|\n",
      "+---------+-------------------+\n",
      "+---------+-------------------+\n",
      "\n"
     ]
    }
   ],
   "source": [
    "# Tasks:\n",
    "# 1. Load the data using PySpark.\n",
    "spark.conf.set(\"fs.azure.account.key.hestore.blob.core.windows.net\",\"---------AccessKeyyy----------\")\n",
    "\n",
    "inventory_supply_df=spark.read.csv(\"wasbs://june19assignment3@hestore.blob.core.windows.net/inventory_supply.csv\",header=True,inferSchema=True)\n",
    "inventory_supply_df.show()\n",
    "inventory_supply_df.printSchema()\n",
    "# 2. Create a new column NeedsReorder = StockQty < ReorderLevel .\n",
    "inventory_supply_df=inventory_supply_df.withColumn(\"NeedsReorder\",inventory_supply_df[\"StockQty\"]<inventory_supply_df[\"ReorderLevel\"])\n",
    "# 3. Create a view of all items that need restocking.\n",
    "inventory_supply_df.createOrReplaceTempView(\"inventory_supply\")\n",
    "# 4. Highlight warehouses with more than 2 such items.\n",
    "from pyspark.sql.functions import *\n",
    "\n",
    "inventory_supply_df.groupBy(\"Warehouse\").agg(sum(col(\"NeedsReorder\").cast(\"int\")).alias(\"ItemsNeedingRestock\")).filter(col(\"ItemsNeedingRestock\") > 2).show()\n"
   ]
  },
  {
   "cell_type": "code",
   "execution_count": 0,
   "metadata": {
    "application/vnd.databricks.v1+cell": {
     "cellMetadata": {
      "byteLimit": 2048000,
      "rowLimit": 10000
     },
     "inputWidgets": {},
     "nuid": "3a226cbe-2c28-4b87-9769-772738fc6672",
     "showTitle": false,
     "tableResultSettingsMap": {},
     "title": ""
    }
   },
   "outputs": [
    {
     "name": "stdout",
     "output_type": "stream",
     "text": [
      "+---------+--------------+\n",
      "| Supplier|avg(UnitPrice)|\n",
      "+---------+--------------+\n",
      "|   AVTech|       30000.0|\n",
      "|TechWorld|       70000.0|\n",
      "|PrintFast|        8000.0|\n",
      "| FreezeIt|       25000.0|\n",
      "|  ChairCo|        6000.0|\n",
      "+---------+--------------+\n",
      "\n",
      "+--------+-----+\n",
      "|Supplier|count|\n",
      "+--------+-----+\n",
      "+--------+-----+\n",
      "\n",
      "+--------+--------+\n",
      "|Supplier|GoodDeal|\n",
      "+--------+--------+\n",
      "+--------+--------+\n",
      "\n"
     ]
    }
   ],
   "source": [
    "# Tasks:\n",
    "# 1. Group items by Supplier and compute average price.\n",
    "inventory_supply_df.groupBy(\"Supplier\").avg(\"UnitPrice\").show()\n",
    "# 2. Find which suppliers offer items below average price in their category.\n",
    "inventory_supply_df.groupBy(\"Supplier\").agg({\"UnitPrice\":\"avg\"}).withColumnRenamed(\"avg(UnitPrice)\",\"avg_UnitPrice\").join(inventory_supply_df,\"Supplier\").filter(\"UnitPrice<avg_UnitPrice\").groupBy(\"Supplier\").count().show()\n",
    "# 3. Tag suppliers with Good Deal if >50% of their items are below market average.\n",
    "from pyspark.sql.functions import *\n",
    "inventory_supply_df.groupBy(\"Supplier\").agg({\"UnitPrice\":\"avg\"}).withColumnRenamed(\"avg(UnitPrice)\",\"avg_UnitPrice\").join(inventory_supply_df,\"Supplier\").filter(\"UnitPrice<avg_UnitPrice\").groupBy(\"Supplier\").count().withColumnRenamed(\"count\",\"below_avg\").join(inventory_supply_df.groupBy(\"Supplier\").count().withColumnRenamed(\"count\",\"total\"),on=\"Supplier\").withColumn(\"GoodDeal\",col(\"below_avg\")/col(\"total\")>0.5).select(\"Supplier\",\"GoodDeal\").show()"
   ]
  },
  {
   "cell_type": "code",
   "execution_count": 0,
   "metadata": {
    "application/vnd.databricks.v1+cell": {
     "cellMetadata": {
      "byteLimit": 2048000,
      "rowLimit": 10000
     },
     "inputWidgets": {},
     "nuid": "5aaf05a0-8e40-4cd5-8bfb-6ccae74ec6e5",
     "showTitle": false,
     "tableResultSettingsMap": {},
     "title": ""
    }
   },
   "outputs": [
    {
     "name": "stdout",
     "output_type": "stream",
     "text": [
      "+------+------------+-----------+----------+--------+------------+-------------+---------+---------+------------+---------------+\n",
      "|ItemID|    ItemName|   Category| Warehouse|StockQty|ReorderLevel|LastRestocked|UnitPrice| Supplier|NeedsReorder|TotalStockValue|\n",
      "+------+------------+-----------+----------+--------+------------+-------------+---------+---------+------------+---------------+\n",
      "|  I001|      LED TV|Electronics|WarehouseA|      50|          20|   2024-03-15|    30000|   AVTech|       false|        1500000|\n",
      "|  I002|      Laptop|Electronics|WarehouseB|      10|          15|   2024-04-01|    70000|TechWorld|        true|         700000|\n",
      "|  I003|Office Chair|  Furniture|WarehouseA|      40|          10|   2024-03-25|     6000|  ChairCo|       false|         240000|\n",
      "|  I004|Refrigerator| Appliances|WarehouseC|       5|          10|   2024-02-20|    25000| FreezeIt|        true|         125000|\n",
      "|  I005|     Printer|Electronics|WarehouseB|       3|           5|   2024-03-30|     8000|PrintFast|        true|          24000|\n",
      "+------+------------+-----------+----------+--------+------------+-------------+---------+---------+------------+---------------+\n",
      "\n",
      "+------+------------+-----------+----------+--------+------------+-------------+---------+---------+------------+---------------+\n",
      "|ItemID|    ItemName|   Category| Warehouse|StockQty|ReorderLevel|LastRestocked|UnitPrice| Supplier|NeedsReorder|TotalStockValue|\n",
      "+------+------------+-----------+----------+--------+------------+-------------+---------+---------+------------+---------------+\n",
      "|  I001|      LED TV|Electronics|WarehouseA|      50|          20|   2024-03-15|    30000|   AVTech|       false|        1500000|\n",
      "|  I002|      Laptop|Electronics|WarehouseB|      10|          15|   2024-04-01|    70000|TechWorld|        true|         700000|\n",
      "|  I003|Office Chair|  Furniture|WarehouseA|      40|          10|   2024-03-25|     6000|  ChairCo|       false|         240000|\n",
      "+------+------------+-----------+----------+--------+------------+-------------+---------+---------+------------+---------------+\n",
      "\n"
     ]
    }
   ],
   "source": [
    "# Tasks:\n",
    "# 1. Calculate TotalStockValue = StockQty * UnitPrice .\n",
    "inventory_supply_df=inventory_supply_df.withColumn(\"TotalStockValue\",inventory_supply_df[\"StockQty\"]*inventory_supply_df[\"UnitPrice\"])\n",
    "inventory_supply_df.show()\n",
    "# 2. Identify top 3 highest-value items.\n",
    "inventory_supply_df.orderBy(col(\"TotalStockValue\").desc()).limit(3).show()\n",
    "# 3. Export the result as a Parquet file partitioned by Warehouse .\n",
    "inventory_supply_df.write.partitionBy(\"Warehouse\").mode(\"overwrite\").parquet(\"wasbs://june19assignment3@hestore.blob.core.windows.net/inventory_supply_parquet\")"
   ]
  },
  {
   "cell_type": "code",
   "execution_count": 0,
   "metadata": {
    "application/vnd.databricks.v1+cell": {
     "cellMetadata": {
      "byteLimit": 2048000,
      "rowLimit": 10000
     },
     "inputWidgets": {},
     "nuid": "5befb526-ad39-4ed8-a150-06f14892033b",
     "showTitle": false,
     "tableResultSettingsMap": {},
     "title": ""
    }
   },
   "outputs": [
    {
     "name": "stdout",
     "output_type": "stream",
     "text": [
      "+----------+-----+\n",
      "| Warehouse|count|\n",
      "+----------+-----+\n",
      "|WarehouseA|    2|\n",
      "|WarehouseC|    1|\n",
      "|WarehouseB|    2|\n",
      "+----------+-----+\n",
      "\n",
      "+----------+-----------+---------+\n",
      "| Warehouse|   Category|avg_stock|\n",
      "+----------+-----------+---------+\n",
      "|WarehouseB|Electronics|      6.5|\n",
      "|WarehouseA|  Furniture|     40.0|\n",
      "|WarehouseC| Appliances|      5.0|\n",
      "|WarehouseA|Electronics|     50.0|\n",
      "+----------+-----------+---------+\n",
      "\n",
      "+----------+-----------+\n",
      "| Warehouse|total_stock|\n",
      "+----------+-----------+\n",
      "|WarehouseA|         90|\n",
      "|WarehouseC|          5|\n",
      "|WarehouseB|         13|\n",
      "+----------+-----------+\n",
      "\n"
     ]
    }
   ],
   "source": [
    "# Tasks:\n",
    "# 1. Count items stored per warehouse.\n",
    "inventory_supply_df.groupBy(\"Warehouse\").count().show()\n",
    "# 2. Average stock per category in each warehouse.\n",
    "inventory_supply_df.groupBy(\"Warehouse\",\"Category\").agg({\"StockQty\":\"avg\"}).withColumnRenamed(\"avg(StockQty)\",\"avg_stock\").show()\n",
    "# 3. Determine underutilized warehouses ( total stock < 100 ).\n",
    "inventory_supply_df.groupBy(\"Warehouse\").agg({\"StockQty\":\"sum\"}).withColumnRenamed(\"sum(StockQty)\",\"total_stock\").filter(\"total_stock<100\").show()"
   ]
  },
  {
   "cell_type": "code",
   "execution_count": 0,
   "metadata": {
    "application/vnd.databricks.v1+cell": {
     "cellMetadata": {
      "byteLimit": 2048000,
      "rowLimit": 10000
     },
     "inputWidgets": {},
     "nuid": "de9975fa-dbaa-4a66-89a5-d85808cecdba",
     "showTitle": false,
     "tableResultSettingsMap": {},
     "title": ""
    }
   },
   "outputs": [],
   "source": [
    "# Task:\n",
    "# 1. Save as Delta table retail_inventory .\n",
    "inventory_supply_df.write.format(\"delta\").mode(\"overwrite\").save(\"wasbs://june19assignment3@hestore.blob.core.windows.net/inventory_supply_delta\")\n",
    "# 2. Update stock of 'Laptop' to 20.\n",
    "inventory_supply_df.filter(\"Category='Laptop'\").write.format(\"delta\").mode(\"overwrite\").save(\"wasbs://june19assignment3@hestore.blob.core.windows.net/inventory_supply_delta\")\n",
    "# 3. Delete any item with StockQty = 0 .\n",
    "inventory_supply_df.filter(\"StockQty=0\").write.format(\"delta\").mode(\"overwrite\").save(\"wasbs://june19assignment3@hestore.blob.core.windows.net/inventory_supply_delta\")\n",
    "# 4. Run DESCRIBE HISTORY and query VERSION AS OF previous state.\n",
    "inventory_supply_df.filter(\"StockQty=0\").write.format(\"delta\").mode(\"overwrite\").save(\"wasbs://june19assignment3@hestore.blob.core.windows.net/inventory_supply_delta\")"
   ]
  },
  {
   "cell_type": "code",
   "execution_count": 0,
   "metadata": {
    "application/vnd.databricks.v1+cell": {
     "cellMetadata": {
      "byteLimit": 2048000,
      "rowLimit": 10000
     },
     "inputWidgets": {},
     "nuid": "9696fe51-bada-4db8-ad45-49e769f39d88",
     "showTitle": false,
     "tableResultSettingsMap": {},
     "title": ""
    }
   },
   "outputs": [
    {
     "name": "stdout",
     "output_type": "stream",
     "text": [
      "+------+-----------+-------------+\n",
      "|ItemID|RestockDate|QuantityAdded|\n",
      "+------+-----------+-------------+\n",
      "|  I002| 2024-04-20|           10|\n",
      "|  I005| 2024-04-22|            5|\n",
      "|  I001| 2024-04-25|           20|\n",
      "+------+-----------+-------------+\n",
      "\n",
      "root\n",
      " |-- ItemID: string (nullable = true)\n",
      " |-- RestockDate: date (nullable = true)\n",
      " |-- QuantityAdded: integer (nullable = true)\n",
      "\n",
      "+------+------------+-----------+----------+--------+------------+-------------+---------+---------+------------+---------------+-----------+-------------+\n",
      "|ItemID|    ItemName|   Category| Warehouse|StockQty|ReorderLevel|LastRestocked|UnitPrice| Supplier|NeedsReorder|TotalStockValue|RestockDate|QuantityAdded|\n",
      "+------+------------+-----------+----------+--------+------------+-------------+---------+---------+------------+---------------+-----------+-------------+\n",
      "|  I001|      LED TV|Electronics|WarehouseA|      50|          20|   2024-03-15|    30000|   AVTech|       false|        1500000| 2024-04-25|           20|\n",
      "|  I002|      Laptop|Electronics|WarehouseB|      10|          15|   2024-04-01|    70000|TechWorld|        true|         700000| 2024-04-20|           10|\n",
      "|  I005|     Printer|Electronics|WarehouseB|       3|           5|   2024-03-30|     8000|PrintFast|        true|          24000| 2024-04-22|            5|\n",
      "|  I003|Office Chair|  Furniture|WarehouseA|      40|          10|   2024-03-25|     6000|  ChairCo|       false|         240000|       NULL|         NULL|\n",
      "|  I004|Refrigerator| Appliances|WarehouseC|       5|          10|   2024-02-20|    25000| FreezeIt|        true|         125000|       NULL|         NULL|\n",
      "+------+------------+-----------+----------+--------+------------+-------------+---------+---------+------------+---------------+-----------+-------------+\n",
      "\n",
      "+------+------------+-----------+----------+--------+------------+-------------+---------+---------+------------+---------------+-----------+-------------+-----------------+\n",
      "|ItemID|    ItemName|   Category| Warehouse|StockQty|ReorderLevel|LastRestocked|UnitPrice| Supplier|NeedsReorder|TotalStockValue|RestockDate|QuantityAdded|RestockedRecently|\n",
      "+------+------------+-----------+----------+--------+------------+-------------+---------+---------+------------+---------------+-----------+-------------+-----------------+\n",
      "|  I001|      LED TV|Electronics|WarehouseA|      70|          20|   2024-03-15|    30000|   AVTech|       false|        1500000| 2024-04-25|           20|             true|\n",
      "|  I002|      Laptop|Electronics|WarehouseB|      20|          15|   2024-04-01|    70000|TechWorld|        true|         700000| 2024-04-20|           10|             true|\n",
      "|  I005|     Printer|Electronics|WarehouseB|       8|           5|   2024-03-30|     8000|PrintFast|        true|          24000| 2024-04-22|            5|             true|\n",
      "|  I003|Office Chair|  Furniture|WarehouseA|    NULL|          10|   2024-03-25|     6000|  ChairCo|       false|         240000|       NULL|         NULL|             true|\n",
      "|  I004|Refrigerator| Appliances|WarehouseC|    NULL|          10|   2024-02-20|    25000| FreezeIt|        true|         125000|       NULL|         NULL|             true|\n",
      "+------+------------+-----------+----------+--------+------------+-------------+---------+---------+------------+---------------+-----------+-------------+-----------------+\n",
      "\n"
     ]
    }
   ],
   "source": [
    "restock_logs=spark.read.csv(\"wasbs://june19assignment3@hestore.blob.core.windows.net/restock_logs.csv\",header=True,inferSchema=True)\n",
    "restock_logs.show()\n",
    "restock_logs.printSchema()\n",
    "# Tasks:\n",
    "# 1. Join with inventory table to update StockQty.\n",
    "inventory_restock_df=inventory_supply_df.join(restock_logs,on=\"ItemID\",how=\"left\")\n",
    "inventory_restock_df.show()\n",
    "# 2. Calculate new stock and flag RestockedRecently = true for updated items.\n",
    "inventory_restock_df=inventory_restock_df.withColumn(\"StockQty\",inventory_restock_df[\"StockQty\"]+inventory_restock_df[\"QuantityAdded\"]).withColumn(\"RestockedRecently\",lit(True)).withColumn(\"RestockedRecently\",when(col(\"RestockedRecently\").isNull(),lit(False)).otherwise(col(\"RestockedRecently\"))).withColumn(\"RestockedRecently\",when(col(\"RestockedRecently\")==True,lit(True)).otherwise(lit(False)))\n",
    "inventory_restock_df.show()\n",
    "# 3. Use MERGE INTO to update in Delta.\n",
    "inventory_restock_df.write.format(\"delta\").option(\"mergeSchema\", \"true\").mode(\"overwrite\").save(\"wasbs://june19assignment3@hestore.blob.core.windows.net/inventory_supply_delta\")"
   ]
  },
  {
   "cell_type": "code",
   "execution_count": 0,
   "metadata": {
    "application/vnd.databricks.v1+cell": {
     "cellMetadata": {
      "byteLimit": 2048000,
      "rowLimit": 10000
     },
     "inputWidgets": {},
     "nuid": "0b8687da-fb9d-4e4f-86de-8f312ebde606",
     "showTitle": false,
     "tableResultSettingsMap": {},
     "title": ""
    }
   },
   "outputs": [
    {
     "data": {
      "text/plain": [
       "DataFrame[]"
      ]
     },
     "execution_count": 54,
     "metadata": {},
     "output_type": "execute_result"
    }
   ],
   "source": [
    "# Tasks:\n",
    "# 1. Create SQL view inventory_summary with:\n",
    "# ItemName, Category, StockQty, NeedsReorder, TotalStockValue\n",
    "inventory_supply_df.createOrReplaceTempView(\"inventory_supply\")\n",
    "# Save as a table so it becomes permanent in catalog\n",
    "inventory_supply_df.write.mode(\"overwrite\").saveAsTable(\"inventory_supply\")\n",
    "spark.sql(\"create or replace temporary view inventory_summary as select ItemName,Category,StockQty,NeedsReorder,TotalStockValue from inventory_supply\")\n",
    "# 2. Create view supplier_leaderboard sorted by average price\n",
    "spark.sql(\"create or replace temporary view supplier_leaderboard as select Supplier,avg(UnitPrice) as avg_price from inventory_supply group by Supplier order by avg_price\")"
   ]
  },
  {
   "cell_type": "code",
   "execution_count": 0,
   "metadata": {
    "application/vnd.databricks.v1+cell": {
     "cellMetadata": {
      "byteLimit": 2048000,
      "rowLimit": 10000
     },
     "inputWidgets": {},
     "nuid": "3d73c4fe-f613-4c19-98c5-fce240f931d4",
     "showTitle": false,
     "tableResultSettingsMap": {},
     "title": ""
    }
   },
   "outputs": [
    {
     "name": "stdout",
     "output_type": "stream",
     "text": [
      "+------+------------+--------+------------+-----------+\n",
      "|ItemID|    ItemName|StockQty|ReorderLevel|StockStatus|\n",
      "+------+------------+--------+------------+-----------+\n",
      "|  I001|      LED TV|      50|          20|Overstocked|\n",
      "|  I002|      Laptop|      10|          15|   LowStock|\n",
      "|  I003|Office Chair|      40|          10|Overstocked|\n",
      "|  I004|Refrigerator|       5|          10|   LowStock|\n",
      "|  I005|     Printer|       3|           5|   LowStock|\n",
      "+------+------------+--------+------------+-----------+\n",
      "\n",
      "+------+------------+-----------+----------+--------+------------+-------------+---------+--------+------------+---------------+-----------+\n",
      "|ItemID|    ItemName|   Category| Warehouse|StockQty|ReorderLevel|LastRestocked|UnitPrice|Supplier|NeedsReorder|TotalStockValue|StockStatus|\n",
      "+------+------------+-----------+----------+--------+------------+-------------+---------+--------+------------+---------------+-----------+\n",
      "|  I001|      LED TV|Electronics|WarehouseA|      50|          20|   2024-03-15|    30000|  AVTech|       false|        1500000|Overstocked|\n",
      "|  I003|Office Chair|  Furniture|WarehouseA|      40|          10|   2024-03-25|     6000| ChairCo|       false|         240000|Overstocked|\n",
      "+------+------------+-----------+----------+--------+------------+-------------+---------+--------+------------+---------------+-----------+\n",
      "\n",
      "+------+------------+-----------+----------+--------+------------+-------------+---------+--------+------------+---------------+-----------+\n",
      "|ItemID|    ItemName|   Category| Warehouse|StockQty|ReorderLevel|LastRestocked|UnitPrice|Supplier|NeedsReorder|TotalStockValue|StockStatus|\n",
      "+------+------------+-----------+----------+--------+------------+-------------+---------+--------+------------+---------------+-----------+\n",
      "|  I001|      LED TV|Electronics|WarehouseA|      50|          20|   2024-03-15|    30000|  AVTech|       false|        1500000|Overstocked|\n",
      "|  I003|Office Chair|  Furniture|WarehouseA|      40|          10|   2024-03-25|     6000| ChairCo|       false|         240000|Overstocked|\n",
      "+------+------------+-----------+----------+--------+------------+-------------+---------+--------+------------+---------------+-----------+\n",
      "\n"
     ]
    }
   ],
   "source": [
    "\n",
    "# Tasks:\n",
    "# 1. Use when / otherwise to categorize items:\n",
    "# \"Overstocked\" (>2x ReorderLevel)\n",
    "# \"LowStock\"\n",
    "from pyspark.sql.functions import col, when\n",
    "\n",
    "inventory_supply_df = inventory_supply_df.withColumn(\"StockStatus\",when(col(\"StockQty\") > 2 * col(\"ReorderLevel\"), \"Overstocked\").when(col(\"StockQty\") < col(\"ReorderLevel\"), \"LowStock\").otherwise(\"Normal\"))\n",
    "\n",
    "inventory_supply_df.select(\"ItemID\", \"ItemName\", \"StockQty\", \"ReorderLevel\", \"StockStatus\").show()\n",
    "\n",
    "# 2. Use .filter() and .where() for the same and compare.\n",
    "#Filter overstocked items using .filter()\n",
    "inventory_supply_df.filter(col(\"StockStatus\") == \"Overstocked\").show()\n",
    "#using where\n",
    "inventory_supply_df.where(col(\"StockStatus\") == \"Overstocked\").show()\n",
    "\n"
   ]
  },
  {
   "cell_type": "code",
   "execution_count": 0,
   "metadata": {
    "application/vnd.databricks.v1+cell": {
     "cellMetadata": {
      "byteLimit": 2048000,
      "rowLimit": 10000
     },
     "inputWidgets": {},
     "nuid": "1b10078b-b1e0-4321-946e-c07872ed581b",
     "showTitle": false,
     "tableResultSettingsMap": {},
     "title": ""
    }
   },
   "outputs": [
    {
     "name": "stdout",
     "output_type": "stream",
     "text": [
      "+------+------------+-----------+----------+--------+------------+-------------+---------+---------+------------+---------------+-----------+------------+\n",
      "|ItemID|    ItemName|   Category| Warehouse|StockQty|ReorderLevel|LastRestocked|UnitPrice| Supplier|NeedsReorder|TotalStockValue|StockStatus|RestockMonth|\n",
      "+------+------------+-----------+----------+--------+------------+-------------+---------+---------+------------+---------------+-----------+------------+\n",
      "|  I001|      LED TV|Electronics|WarehouseA|      50|          20|   2024-03-15|    30000|   AVTech|       false|        1500000|Overstocked|       March|\n",
      "|  I002|      Laptop|Electronics|WarehouseB|      10|          15|   2024-04-01|    70000|TechWorld|        true|         700000|   LowStock|       April|\n",
      "|  I003|Office Chair|  Furniture|WarehouseA|      40|          10|   2024-03-25|     6000|  ChairCo|       false|         240000|Overstocked|       March|\n",
      "|  I004|Refrigerator| Appliances|WarehouseC|       5|          10|   2024-02-20|    25000| FreezeIt|        true|         125000|   LowStock|    February|\n",
      "|  I005|     Printer|Electronics|WarehouseB|       3|           5|   2024-03-30|     8000|PrintFast|        true|          24000|   LowStock|       March|\n",
      "+------+------------+-----------+----------+--------+------------+-------------+---------+---------+------------+---------------+-----------+------------+\n",
      "\n",
      "+------+------------+-----------+----------+--------+------------+-------------+---------+---------+------------+---------------+-----------+------------+--------+\n",
      "|ItemID|    ItemName|   Category| Warehouse|StockQty|ReorderLevel|LastRestocked|UnitPrice| Supplier|NeedsReorder|TotalStockValue|StockStatus|RestockMonth|StockAge|\n",
      "+------+------------+-----------+----------+--------+------------+-------------+---------+---------+------------+---------------+-----------+------------+--------+\n",
      "|  I001|      LED TV|Electronics|WarehouseA|      50|          20|   2024-03-15|    30000|   AVTech|       false|        1500000|Overstocked|       March|     461|\n",
      "|  I002|      Laptop|Electronics|WarehouseB|      10|          15|   2024-04-01|    70000|TechWorld|        true|         700000|   LowStock|       April|     444|\n",
      "|  I003|Office Chair|  Furniture|WarehouseA|      40|          10|   2024-03-25|     6000|  ChairCo|       false|         240000|Overstocked|       March|     451|\n",
      "|  I004|Refrigerator| Appliances|WarehouseC|       5|          10|   2024-02-20|    25000| FreezeIt|        true|         125000|   LowStock|    February|     485|\n",
      "|  I005|     Printer|Electronics|WarehouseB|       3|           5|   2024-03-30|     8000|PrintFast|        true|          24000|   LowStock|       March|     446|\n",
      "+------+------------+-----------+----------+--------+------------+-------------+---------+---------+------------+---------------+-----------+------------+--------+\n",
      "\n",
      "+------+------------+-----------+----------+--------+------------+-------------+---------+---------+------------+---------------+-----------+------------+--------+--------------+\n",
      "|ItemID|    ItemName|   Category| Warehouse|StockQty|ReorderLevel|LastRestocked|UnitPrice| Supplier|NeedsReorder|TotalStockValue|StockStatus|RestockMonth|StockAge|StockAgeBucket|\n",
      "+------+------------+-----------+----------+--------+------------+-------------+---------+---------+------------+---------------+-----------+------------+--------+--------------+\n",
      "|  I001|      LED TV|Electronics|WarehouseA|      50|          20|   2024-03-15|    30000|   AVTech|       false|        1500000|Overstocked|       March|     461|         Stale|\n",
      "|  I002|      Laptop|Electronics|WarehouseB|      10|          15|   2024-04-01|    70000|TechWorld|        true|         700000|   LowStock|       April|     444|         Stale|\n",
      "|  I003|Office Chair|  Furniture|WarehouseA|      40|          10|   2024-03-25|     6000|  ChairCo|       false|         240000|Overstocked|       March|     451|         Stale|\n",
      "|  I004|Refrigerator| Appliances|WarehouseC|       5|          10|   2024-02-20|    25000| FreezeIt|        true|         125000|   LowStock|    February|     485|         Stale|\n",
      "|  I005|     Printer|Electronics|WarehouseB|       3|           5|   2024-03-30|     8000|PrintFast|        true|          24000|   LowStock|       March|     446|         Stale|\n",
      "+------+------------+-----------+----------+--------+------------+-------------+---------+---------+------------+---------------+-----------+------------+--------+--------------+\n",
      "\n"
     ]
    }
   ],
   "source": [
    "# Tasks:\n",
    "from pyspark.sql.functions import to_date, date_format\n",
    "# 1. Extract RestockMonth from LastRestocked .\n",
    "inventory_supply_df = inventory_supply_df.withColumn(\"LastRestocked\", to_date(\"LastRestocked\"))\n",
    "\n",
    "inventory_supply_df = inventory_supply_df.withColumn(\"RestockMonth\", date_format(\"LastRestocked\", \"MMMM\"))\n",
    "inventory_supply_df.show()\n",
    "# 2. Create feature: StockAge = CURRENT_DATE - LastRestocked\n",
    "from pyspark.sql.functions import current_date, datediff\n",
    "\n",
    "inventory_supply_df = inventory_supply_df.withColumn(\"StockAge\", datediff(current_date(), col(\"LastRestocked\")))\n",
    "inventory_supply_df.show()\n",
    "# 3. Bucket StockAge into: New, Moderate, Stale\n",
    "from pyspark.sql.functions import when\n",
    "\n",
    "inventory_supply_df = inventory_supply_df.withColumn(\"StockAgeBucket\",when(col(\"StockAge\") <= 30, \"New\").when((col(\"StockAge\") > 30) & (col(\"StockAge\") <= 90), \"Moderate\").otherwise(\"Stale\"))\n",
    "inventory_supply_df.show()"
   ]
  },
  {
   "cell_type": "code",
   "execution_count": 0,
   "metadata": {
    "application/vnd.databricks.v1+cell": {
     "cellMetadata": {
      "byteLimit": 2048000,
      "rowLimit": 10000
     },
     "inputWidgets": {},
     "nuid": "3f9afa72-ff61-4a6e-bf2b-26c8ac589f71",
     "showTitle": false,
     "tableResultSettingsMap": {},
     "title": ""
    }
   },
   "outputs": [],
   "source": [
    "\n",
    "# Tasks:\n",
    "# 1. Write full DataFrame to:\n",
    "# CSV for analysts\n",
    "inventory_supply_df.write.format(\"csv\").mode(\"overwrite\").save(\"wasbs://june19assignment3@hestore.blob.core.windows.net/export/inventory\")\n",
    "# JSON for integration\n",
    "inventory_supply_df.write.format(\"json\").mode(\"overwrite\").save(\"wasbs://june19assignment3@hestore.blob.core.windows.net/export/inventory\")\n",
    "# Delta for pipelines\n",
    "inventory_supply_df.write.format(\"delta\").mode(\"overwrite\").save(\"wasbs://june19assignment3@hestore.blob.core.windows.net/export/inventory/delta/\")\n",
    "# 2. Save with meaningful file and partition names like\n",
    "# /export/inventory/stale_items/\n",
    "inventory_supply_df.filter(col(\"StockAgeBucket\") == \"Stale\").write.format(\"delta\").mode(\"overwrite\").save(\"wasbs://june19assignment3@hestore.blob.core.windows.net/export/inventory/stale_items\")"
   ]
  }
 ],
 "metadata": {
  "application/vnd.databricks.v1+notebook": {
   "computePreferences": null,
   "dashboards": [],
   "environmentMetadata": {
    "base_environment": "",
    "environment_version": "2"
   },
   "inputWidgetPreferences": null,
   "language": "python",
   "notebookMetadata": {
    "pythonIndentUnit": 4
   },
   "notebookName": "June19Assignment3",
   "widgets": {}
  },
  "language_info": {
   "name": "python"
  }
 },
 "nbformat": 4,
 "nbformat_minor": 0
}
